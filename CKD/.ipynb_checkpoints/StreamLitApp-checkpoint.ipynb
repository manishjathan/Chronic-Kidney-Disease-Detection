{
 "cells": [
  {
   "cell_type": "code",
   "execution_count": 1,
   "metadata": {},
   "outputs": [],
   "source": [
    "import streamlit as st\n",
    "import numpy as np\n",
    "import pandas as pd\n",
    "import pickle\n",
    "\n",
    "## All Required functions\n",
    "median_sod = 138.0\n",
    "\n",
    "sampleFile = open('scaler','rb')\n",
    "scaler = pickle.load(sampleFile)\n",
    "sampleFile.close()\n",
    "\n",
    "#logClf = pickle.load(open('logClf','rb'))\n",
    "#neigh = pickle.load(open('neigh','rb'))\n",
    "#kernel_svc = pickle.load(open('kernel_svc','rb'))\n",
    "#decisionTreeClassifier = pickle.load(open('decisionTreeClassifier','rb'))\n",
    "#randomForestClassifier = pickle.load(open('randomForestClassifier','rb'))\n",
    "#stackedClassifier = pickle.load(open('stackedClassifier','rb'))\n",
    "\n",
    "st.title(\"Chronic Kidney Disease Detection\")\n",
    "\n",
    "age = st.number_input('Enter Age')\n",
    "bp = st.number_input('Enter Blood pressure')\n",
    "al = st.number_input('Enter Albumin')\n",
    "su = st.number_input('Enter Sugar')\n",
    "bgr = st.number_input('Enter Blood GLucose Random')\n",
    "bu = st.number_input('Enter Blood Urea')\n",
    "sc = st.number_input('Enter Serum Creatinine')\n",
    "sod = st.number_input('Enter Sodium')\n",
    "hemo = st.number_input('Enter Hemoglobin')\n",
    "rc = st.number_input('Enter Red bLood cell count')\n",
    "wc = st.number_input('Enter White blood cell count')\n",
    "\n",
    "#input_list = [age,bp,al,su,bgr,bu,sc,sod,hemo,rc,wc]\n",
    "#transf_inp = transformAttributes(input_list)"
   ]
  },
  {
   "cell_type": "code",
   "execution_count": null,
   "metadata": {},
   "outputs": [],
   "source": []
  }
 ],
 "metadata": {
  "kernelspec": {
   "display_name": "Python 3",
   "language": "python",
   "name": "python3"
  },
  "language_info": {
   "codemirror_mode": {
    "name": "ipython",
    "version": 3
   },
   "file_extension": ".py",
   "mimetype": "text/x-python",
   "name": "python",
   "nbconvert_exporter": "python",
   "pygments_lexer": "ipython3",
   "version": "3.7.6"
  }
 },
 "nbformat": 4,
 "nbformat_minor": 4
}
