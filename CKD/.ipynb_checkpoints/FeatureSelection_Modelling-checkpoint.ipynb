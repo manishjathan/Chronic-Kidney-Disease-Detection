{
 "cells": [
  {
   "cell_type": "code",
   "execution_count": 1,
   "metadata": {},
   "outputs": [],
   "source": [
    "import pandas as pd\n",
    "import numpy as np\n",
    "import seaborn as sns\n",
    "import matplotlib.pyplot as plt\n",
    "import pickle\n",
    "from sklearn.decomposition import PCA\n",
    "from sklearn.metrics import precision_recall_fscore_support\n",
    "from sklearn.ensemble import StackingClassifier"
   ]
  },
  {
   "cell_type": "code",
   "execution_count": 2,
   "metadata": {},
   "outputs": [],
   "source": [
    "sampleFile = open('feature_df','rb')\n",
    "feature_df = pickle.load(sampleFile)\n",
    "sampleFile.close()"
   ]
  },
  {
   "cell_type": "code",
   "execution_count": 3,
   "metadata": {},
   "outputs": [
    {
     "data": {
      "text/html": [
       "<div>\n",
       "<style scoped>\n",
       "    .dataframe tbody tr th:only-of-type {\n",
       "        vertical-align: middle;\n",
       "    }\n",
       "\n",
       "    .dataframe tbody tr th {\n",
       "        vertical-align: top;\n",
       "    }\n",
       "\n",
       "    .dataframe thead th {\n",
       "        text-align: right;\n",
       "    }\n",
       "</style>\n",
       "<table border=\"1\" class=\"dataframe\">\n",
       "  <thead>\n",
       "    <tr style=\"text-align: right;\">\n",
       "      <th></th>\n",
       "      <th>target</th>\n",
       "      <th>age_bins</th>\n",
       "      <th>bp_bins</th>\n",
       "      <th>al_cat</th>\n",
       "      <th>su_bin</th>\n",
       "      <th>bgr_bin</th>\n",
       "      <th>bu_bin</th>\n",
       "      <th>sc_bin</th>\n",
       "      <th>log_norm_sc</th>\n",
       "      <th>sod_bin</th>\n",
       "      <th>log_norm_sod</th>\n",
       "      <th>norm_sod_bin</th>\n",
       "      <th>hemo_bin</th>\n",
       "      <th>rc_bin</th>\n",
       "      <th>wc_bin</th>\n",
       "      <th>sc_bu_bin</th>\n",
       "      <th>acr</th>\n",
       "      <th>multivariate_pdf</th>\n",
       "      <th>log_multivariate_pdf</th>\n",
       "      <th>log_multi_pdf_bin</th>\n",
       "    </tr>\n",
       "  </thead>\n",
       "  <tbody>\n",
       "    <tr>\n",
       "      <th>179</th>\n",
       "      <td>1</td>\n",
       "      <td>3</td>\n",
       "      <td>2</td>\n",
       "      <td>1</td>\n",
       "      <td>0</td>\n",
       "      <td>0</td>\n",
       "      <td>1</td>\n",
       "      <td>1</td>\n",
       "      <td>0.832909</td>\n",
       "      <td>1</td>\n",
       "      <td>4.927254</td>\n",
       "      <td>1</td>\n",
       "      <td>0</td>\n",
       "      <td>0</td>\n",
       "      <td>1</td>\n",
       "      <td>1</td>\n",
       "      <td>0.869565</td>\n",
       "      <td>2.841434e-07</td>\n",
       "      <td>-15.073787</td>\n",
       "      <td>0</td>\n",
       "    </tr>\n",
       "    <tr>\n",
       "      <th>270</th>\n",
       "      <td>0</td>\n",
       "      <td>1</td>\n",
       "      <td>1</td>\n",
       "      <td>0</td>\n",
       "      <td>0</td>\n",
       "      <td>0</td>\n",
       "      <td>0</td>\n",
       "      <td>0</td>\n",
       "      <td>0.095310</td>\n",
       "      <td>0</td>\n",
       "      <td>4.875197</td>\n",
       "      <td>0</td>\n",
       "      <td>1</td>\n",
       "      <td>1</td>\n",
       "      <td>0</td>\n",
       "      <td>0</td>\n",
       "      <td>0.000000</td>\n",
       "      <td>1.118427e-06</td>\n",
       "      <td>-13.703588</td>\n",
       "      <td>0</td>\n",
       "    </tr>\n",
       "    <tr>\n",
       "      <th>323</th>\n",
       "      <td>0</td>\n",
       "      <td>2</td>\n",
       "      <td>1</td>\n",
       "      <td>0</td>\n",
       "      <td>0</td>\n",
       "      <td>0</td>\n",
       "      <td>0</td>\n",
       "      <td>0</td>\n",
       "      <td>0.095310</td>\n",
       "      <td>0</td>\n",
       "      <td>4.890349</td>\n",
       "      <td>0</td>\n",
       "      <td>1</td>\n",
       "      <td>1</td>\n",
       "      <td>0</td>\n",
       "      <td>0</td>\n",
       "      <td>0.000000</td>\n",
       "      <td>7.989242e-07</td>\n",
       "      <td>-14.040000</td>\n",
       "      <td>0</td>\n",
       "    </tr>\n",
       "    <tr>\n",
       "      <th>399</th>\n",
       "      <td>0</td>\n",
       "      <td>2</td>\n",
       "      <td>1</td>\n",
       "      <td>0</td>\n",
       "      <td>0</td>\n",
       "      <td>0</td>\n",
       "      <td>0</td>\n",
       "      <td>0</td>\n",
       "      <td>0.095310</td>\n",
       "      <td>0</td>\n",
       "      <td>4.905275</td>\n",
       "      <td>0</td>\n",
       "      <td>1</td>\n",
       "      <td>1</td>\n",
       "      <td>0</td>\n",
       "      <td>0</td>\n",
       "      <td>0.000000</td>\n",
       "      <td>1.935588e-07</td>\n",
       "      <td>-15.457684</td>\n",
       "      <td>0</td>\n",
       "    </tr>\n",
       "    <tr>\n",
       "      <th>40</th>\n",
       "      <td>1</td>\n",
       "      <td>2</td>\n",
       "      <td>2</td>\n",
       "      <td>1</td>\n",
       "      <td>0</td>\n",
       "      <td>0</td>\n",
       "      <td>1</td>\n",
       "      <td>1</td>\n",
       "      <td>0.741937</td>\n",
       "      <td>1</td>\n",
       "      <td>4.927254</td>\n",
       "      <td>1</td>\n",
       "      <td>0</td>\n",
       "      <td>0</td>\n",
       "      <td>1</td>\n",
       "      <td>1</td>\n",
       "      <td>0.952381</td>\n",
       "      <td>4.869705e-08</td>\n",
       "      <td>-16.837647</td>\n",
       "      <td>1</td>\n",
       "    </tr>\n",
       "  </tbody>\n",
       "</table>\n",
       "</div>"
      ],
      "text/plain": [
       "     target age_bins  bp_bins  al_cat  su_bin  bgr_bin  bu_bin  sc_bin  \\\n",
       "179       1        3        2       1       0        0       1       1   \n",
       "270       0        1        1       0       0        0       0       0   \n",
       "323       0        2        1       0       0        0       0       0   \n",
       "399       0        2        1       0       0        0       0       0   \n",
       "40        1        2        2       1       0        0       1       1   \n",
       "\n",
       "     log_norm_sc  sod_bin  log_norm_sod  norm_sod_bin  hemo_bin  rc_bin  \\\n",
       "179     0.832909        1      4.927254             1         0       0   \n",
       "270     0.095310        0      4.875197             0         1       1   \n",
       "323     0.095310        0      4.890349             0         1       1   \n",
       "399     0.095310        0      4.905275             0         1       1   \n",
       "40      0.741937        1      4.927254             1         0       0   \n",
       "\n",
       "     wc_bin  sc_bu_bin       acr  multivariate_pdf  log_multivariate_pdf  \\\n",
       "179       1          1  0.869565      2.841434e-07            -15.073787   \n",
       "270       0          0  0.000000      1.118427e-06            -13.703588   \n",
       "323       0          0  0.000000      7.989242e-07            -14.040000   \n",
       "399       0          0  0.000000      1.935588e-07            -15.457684   \n",
       "40        1          1  0.952381      4.869705e-08            -16.837647   \n",
       "\n",
       "     log_multi_pdf_bin  \n",
       "179                  0  \n",
       "270                  0  \n",
       "323                  0  \n",
       "399                  0  \n",
       "40                   1  "
      ]
     },
     "execution_count": 3,
     "metadata": {},
     "output_type": "execute_result"
    }
   ],
   "source": [
    "feature_df.head()"
   ]
  },
  {
   "cell_type": "code",
   "execution_count": 4,
   "metadata": {},
   "outputs": [
    {
     "data": {
      "text/plain": [
       "1    154\n",
       "0     52\n",
       "2     29\n",
       "3     19\n",
       "4      2\n",
       "Name: bp_bins, dtype: int64"
      ]
     },
     "execution_count": 4,
     "metadata": {},
     "output_type": "execute_result"
    }
   ],
   "source": [
    "feature_df['bp_bins'].value_counts()"
   ]
  },
  {
   "cell_type": "code",
   "execution_count": 5,
   "metadata": {},
   "outputs": [
    {
     "data": {
      "text/html": [
       "<div>\n",
       "<style scoped>\n",
       "    .dataframe tbody tr th:only-of-type {\n",
       "        vertical-align: middle;\n",
       "    }\n",
       "\n",
       "    .dataframe tbody tr th {\n",
       "        vertical-align: top;\n",
       "    }\n",
       "\n",
       "    .dataframe thead th {\n",
       "        text-align: right;\n",
       "    }\n",
       "</style>\n",
       "<table border=\"1\" class=\"dataframe\">\n",
       "  <thead>\n",
       "    <tr style=\"text-align: right;\">\n",
       "      <th></th>\n",
       "      <th>target</th>\n",
       "      <th>age_bins</th>\n",
       "      <th>bp_bins</th>\n",
       "      <th>al_cat</th>\n",
       "      <th>su_bin</th>\n",
       "      <th>bgr_bin</th>\n",
       "      <th>bu_bin</th>\n",
       "      <th>sc_bin</th>\n",
       "      <th>log_norm_sc</th>\n",
       "      <th>sod_bin</th>\n",
       "      <th>log_norm_sod</th>\n",
       "      <th>norm_sod_bin</th>\n",
       "      <th>hemo_bin</th>\n",
       "      <th>rc_bin</th>\n",
       "      <th>wc_bin</th>\n",
       "      <th>sc_bu_bin</th>\n",
       "      <th>acr</th>\n",
       "      <th>multivariate_pdf</th>\n",
       "      <th>log_multivariate_pdf</th>\n",
       "      <th>log_multi_pdf_bin</th>\n",
       "    </tr>\n",
       "  </thead>\n",
       "  <tbody>\n",
       "    <tr>\n",
       "      <th>179</th>\n",
       "      <td>1</td>\n",
       "      <td>3</td>\n",
       "      <td>4</td>\n",
       "      <td>1</td>\n",
       "      <td>0</td>\n",
       "      <td>0</td>\n",
       "      <td>1</td>\n",
       "      <td>1</td>\n",
       "      <td>0.832909</td>\n",
       "      <td>1</td>\n",
       "      <td>4.927254</td>\n",
       "      <td>1</td>\n",
       "      <td>0</td>\n",
       "      <td>0</td>\n",
       "      <td>1</td>\n",
       "      <td>1</td>\n",
       "      <td>0.869565</td>\n",
       "      <td>2.841434e-07</td>\n",
       "      <td>-15.073787</td>\n",
       "      <td>0</td>\n",
       "    </tr>\n",
       "    <tr>\n",
       "      <th>270</th>\n",
       "      <td>0</td>\n",
       "      <td>1</td>\n",
       "      <td>4</td>\n",
       "      <td>0</td>\n",
       "      <td>0</td>\n",
       "      <td>0</td>\n",
       "      <td>0</td>\n",
       "      <td>0</td>\n",
       "      <td>0.095310</td>\n",
       "      <td>0</td>\n",
       "      <td>4.875197</td>\n",
       "      <td>0</td>\n",
       "      <td>1</td>\n",
       "      <td>1</td>\n",
       "      <td>0</td>\n",
       "      <td>0</td>\n",
       "      <td>0.000000</td>\n",
       "      <td>1.118427e-06</td>\n",
       "      <td>-13.703588</td>\n",
       "      <td>0</td>\n",
       "    </tr>\n",
       "    <tr>\n",
       "      <th>323</th>\n",
       "      <td>0</td>\n",
       "      <td>2</td>\n",
       "      <td>4</td>\n",
       "      <td>0</td>\n",
       "      <td>0</td>\n",
       "      <td>0</td>\n",
       "      <td>0</td>\n",
       "      <td>0</td>\n",
       "      <td>0.095310</td>\n",
       "      <td>0</td>\n",
       "      <td>4.890349</td>\n",
       "      <td>0</td>\n",
       "      <td>1</td>\n",
       "      <td>1</td>\n",
       "      <td>0</td>\n",
       "      <td>0</td>\n",
       "      <td>0.000000</td>\n",
       "      <td>7.989242e-07</td>\n",
       "      <td>-14.040000</td>\n",
       "      <td>0</td>\n",
       "    </tr>\n",
       "    <tr>\n",
       "      <th>399</th>\n",
       "      <td>0</td>\n",
       "      <td>2</td>\n",
       "      <td>4</td>\n",
       "      <td>0</td>\n",
       "      <td>0</td>\n",
       "      <td>0</td>\n",
       "      <td>0</td>\n",
       "      <td>0</td>\n",
       "      <td>0.095310</td>\n",
       "      <td>0</td>\n",
       "      <td>4.905275</td>\n",
       "      <td>0</td>\n",
       "      <td>1</td>\n",
       "      <td>1</td>\n",
       "      <td>0</td>\n",
       "      <td>0</td>\n",
       "      <td>0.000000</td>\n",
       "      <td>1.935588e-07</td>\n",
       "      <td>-15.457684</td>\n",
       "      <td>0</td>\n",
       "    </tr>\n",
       "    <tr>\n",
       "      <th>40</th>\n",
       "      <td>1</td>\n",
       "      <td>2</td>\n",
       "      <td>4</td>\n",
       "      <td>1</td>\n",
       "      <td>0</td>\n",
       "      <td>0</td>\n",
       "      <td>1</td>\n",
       "      <td>1</td>\n",
       "      <td>0.741937</td>\n",
       "      <td>1</td>\n",
       "      <td>4.927254</td>\n",
       "      <td>1</td>\n",
       "      <td>0</td>\n",
       "      <td>0</td>\n",
       "      <td>1</td>\n",
       "      <td>1</td>\n",
       "      <td>0.952381</td>\n",
       "      <td>4.869705e-08</td>\n",
       "      <td>-16.837647</td>\n",
       "      <td>1</td>\n",
       "    </tr>\n",
       "  </tbody>\n",
       "</table>\n",
       "</div>"
      ],
      "text/plain": [
       "     target age_bins  bp_bins  al_cat  su_bin  bgr_bin  bu_bin  sc_bin  \\\n",
       "179       1        3        4       1       0        0       1       1   \n",
       "270       0        1        4       0       0        0       0       0   \n",
       "323       0        2        4       0       0        0       0       0   \n",
       "399       0        2        4       0       0        0       0       0   \n",
       "40        1        2        4       1       0        0       1       1   \n",
       "\n",
       "     log_norm_sc  sod_bin  log_norm_sod  norm_sod_bin  hemo_bin  rc_bin  \\\n",
       "179     0.832909        1      4.927254             1         0       0   \n",
       "270     0.095310        0      4.875197             0         1       1   \n",
       "323     0.095310        0      4.890349             0         1       1   \n",
       "399     0.095310        0      4.905275             0         1       1   \n",
       "40      0.741937        1      4.927254             1         0       0   \n",
       "\n",
       "     wc_bin  sc_bu_bin       acr  multivariate_pdf  log_multivariate_pdf  \\\n",
       "179       1          1  0.869565      2.841434e-07            -15.073787   \n",
       "270       0          0  0.000000      1.118427e-06            -13.703588   \n",
       "323       0          0  0.000000      7.989242e-07            -14.040000   \n",
       "399       0          0  0.000000      1.935588e-07            -15.457684   \n",
       "40        1          1  0.952381      4.869705e-08            -16.837647   \n",
       "\n",
       "     log_multi_pdf_bin  \n",
       "179                  0  \n",
       "270                  0  \n",
       "323                  0  \n",
       "399                  0  \n",
       "40                   1  "
      ]
     },
     "execution_count": 5,
     "metadata": {},
     "output_type": "execute_result"
    }
   ],
   "source": [
    "def convertIntoNum(x):\n",
    "    if x == 'low':\n",
    "        return 0\n",
    "    elif x == 'vlow':\n",
    "        return 1\n",
    "    elif x == 'med':\n",
    "        return 2\n",
    "    elif x == 'medH':\n",
    "        return 3\n",
    "    else:\n",
    "        return 4\n",
    "    \n",
    "feature_df['bp_bins'] = feature_df['bp_bins'].apply(lambda x : convertIntoNum(x))\n",
    "feature_df.head()"
   ]
  },
  {
   "cell_type": "markdown",
   "metadata": {},
   "source": [
    "## 1.1 Principal Component Analysis on developed feature set"
   ]
  },
  {
   "cell_type": "markdown",
   "metadata": {},
   "source": [
    "Let's apply PCA to visualize if there is any seperation in data points that we can observe in lower dimension.<br>\n",
    "We will apply PCA on standardized data.<br>\n",
    "So Let's first convert the above feature dataframe into standardized dataframe.<br>\n",
    "We can then apply PCA and see how can we observe variance in data.<br>"
   ]
  },
  {
   "cell_type": "code",
   "execution_count": 6,
   "metadata": {},
   "outputs": [],
   "source": [
    "from sklearn.preprocessing import StandardScaler\n",
    "scaler = StandardScaler()\n",
    "std_feature = scaler.fit_transform(feature_df.drop(['target'],axis=1))"
   ]
  },
  {
   "cell_type": "code",
   "execution_count": 7,
   "metadata": {},
   "outputs": [
    {
     "data": {
      "text/plain": [
       "array([[ 1.11072551,  0.        ,  0.68599434, ..., -0.13810709,\n",
       "         0.64361561, -1.09858844],\n",
       "       [-1.2010284 ,  0.        , -0.68599434, ...,  0.74887759,\n",
       "         1.07492595, -1.09858844],\n",
       "       [-0.04515144,  0.        , -0.68599434, ...,  0.40919217,\n",
       "         0.96903033, -1.09858844],\n",
       "       ...,\n",
       "       [-1.2010284 ,  0.        , -0.68599434, ..., -0.36186947,\n",
       "         0.21872661,  0.91025899],\n",
       "       [-0.04515144,  0.        , -0.68599434, ...,  2.67071626,\n",
       "         1.37766166, -1.09858844],\n",
       "       [-1.2010284 ,  0.        , -0.68599434, ..., -0.43800922,\n",
       "        -0.90717414,  0.91025899]])"
      ]
     },
     "execution_count": 7,
     "metadata": {},
     "output_type": "execute_result"
    }
   ],
   "source": [
    "std_feature"
   ]
  },
  {
   "cell_type": "code",
   "execution_count": 8,
   "metadata": {},
   "outputs": [],
   "source": [
    "def pca_summary(pca, standardised_data, out=True):\n",
    "    names = [\"PC\"+str(i) for i in range(1, len(pca.explained_variance_ratio_)+1)]\n",
    "    a = list(np.std(pca.transform(standardised_data), axis=0))\n",
    "    b = list(pca.explained_variance_ratio_)\n",
    "    c = [np.sum(pca.explained_variance_ratio_[:i]) for i in range(1, len(pca.explained_variance_ratio_)+1)]\n",
    "    \n",
    "    columns = pd.MultiIndex.from_tuples([(\"sdev\", \"Standard deviation\"), (\"varprop\", \"Proportion of Variance\"), (\"cumprop\", \"Cumulative Proportion\")])\n",
    "    summary = pd.DataFrame(list(zip(a, b, c)), index=names, columns=columns)\n",
    "    if out:\n",
    "        print(\"Importance of components:\")\n",
    "        display(summary)\n",
    "    return summary"
   ]
  },
  {
   "cell_type": "code",
   "execution_count": 9,
   "metadata": {},
   "outputs": [
    {
     "name": "stdout",
     "output_type": "stream",
     "text": [
      "Importance of components:\n"
     ]
    },
    {
     "data": {
      "text/html": [
       "<div>\n",
       "<style scoped>\n",
       "    .dataframe tbody tr th:only-of-type {\n",
       "        vertical-align: middle;\n",
       "    }\n",
       "\n",
       "    .dataframe tbody tr th {\n",
       "        vertical-align: top;\n",
       "    }\n",
       "\n",
       "    .dataframe thead tr th {\n",
       "        text-align: left;\n",
       "    }\n",
       "</style>\n",
       "<table border=\"1\" class=\"dataframe\">\n",
       "  <thead>\n",
       "    <tr>\n",
       "      <th></th>\n",
       "      <th>sdev</th>\n",
       "      <th>varprop</th>\n",
       "      <th>cumprop</th>\n",
       "    </tr>\n",
       "    <tr>\n",
       "      <th></th>\n",
       "      <th>Standard deviation</th>\n",
       "      <th>Proportion of Variance</th>\n",
       "      <th>Cumulative Proportion</th>\n",
       "    </tr>\n",
       "  </thead>\n",
       "  <tbody>\n",
       "    <tr>\n",
       "      <th>PC1</th>\n",
       "      <td>2.671492e+00</td>\n",
       "      <td>3.964926e-01</td>\n",
       "      <td>0.396493</td>\n",
       "    </tr>\n",
       "    <tr>\n",
       "      <th>PC2</th>\n",
       "      <td>1.337133e+00</td>\n",
       "      <td>9.932910e-02</td>\n",
       "      <td>0.495822</td>\n",
       "    </tr>\n",
       "    <tr>\n",
       "      <th>PC3</th>\n",
       "      <td>1.325460e+00</td>\n",
       "      <td>9.760244e-02</td>\n",
       "      <td>0.593424</td>\n",
       "    </tr>\n",
       "    <tr>\n",
       "      <th>PC4</th>\n",
       "      <td>1.114933e+00</td>\n",
       "      <td>6.905981e-02</td>\n",
       "      <td>0.662484</td>\n",
       "    </tr>\n",
       "    <tr>\n",
       "      <th>PC5</th>\n",
       "      <td>1.062720e+00</td>\n",
       "      <td>6.274301e-02</td>\n",
       "      <td>0.725227</td>\n",
       "    </tr>\n",
       "    <tr>\n",
       "      <th>PC6</th>\n",
       "      <td>9.740275e-01</td>\n",
       "      <td>5.270720e-02</td>\n",
       "      <td>0.777934</td>\n",
       "    </tr>\n",
       "    <tr>\n",
       "      <th>PC7</th>\n",
       "      <td>8.767050e-01</td>\n",
       "      <td>4.270065e-02</td>\n",
       "      <td>0.820635</td>\n",
       "    </tr>\n",
       "    <tr>\n",
       "      <th>PC8</th>\n",
       "      <td>7.835085e-01</td>\n",
       "      <td>3.410475e-02</td>\n",
       "      <td>0.854740</td>\n",
       "    </tr>\n",
       "    <tr>\n",
       "      <th>PC9</th>\n",
       "      <td>7.321039e-01</td>\n",
       "      <td>2.977645e-02</td>\n",
       "      <td>0.884516</td>\n",
       "    </tr>\n",
       "    <tr>\n",
       "      <th>PC10</th>\n",
       "      <td>7.019819e-01</td>\n",
       "      <td>2.737659e-02</td>\n",
       "      <td>0.911893</td>\n",
       "    </tr>\n",
       "    <tr>\n",
       "      <th>PC11</th>\n",
       "      <td>6.275803e-01</td>\n",
       "      <td>2.188095e-02</td>\n",
       "      <td>0.933774</td>\n",
       "    </tr>\n",
       "    <tr>\n",
       "      <th>PC12</th>\n",
       "      <td>5.543537e-01</td>\n",
       "      <td>1.707267e-02</td>\n",
       "      <td>0.950846</td>\n",
       "    </tr>\n",
       "    <tr>\n",
       "      <th>PC13</th>\n",
       "      <td>5.023858e-01</td>\n",
       "      <td>1.402175e-02</td>\n",
       "      <td>0.964868</td>\n",
       "    </tr>\n",
       "    <tr>\n",
       "      <th>PC14</th>\n",
       "      <td>4.677847e-01</td>\n",
       "      <td>1.215681e-02</td>\n",
       "      <td>0.977025</td>\n",
       "    </tr>\n",
       "    <tr>\n",
       "      <th>PC15</th>\n",
       "      <td>4.210996e-01</td>\n",
       "      <td>9.851384e-03</td>\n",
       "      <td>0.986876</td>\n",
       "    </tr>\n",
       "    <tr>\n",
       "      <th>PC16</th>\n",
       "      <td>3.598393e-01</td>\n",
       "      <td>7.193572e-03</td>\n",
       "      <td>0.994070</td>\n",
       "    </tr>\n",
       "    <tr>\n",
       "      <th>PC17</th>\n",
       "      <td>3.267185e-01</td>\n",
       "      <td>5.930275e-03</td>\n",
       "      <td>1.000000</td>\n",
       "    </tr>\n",
       "    <tr>\n",
       "      <th>PC18</th>\n",
       "      <td>5.310659e-16</td>\n",
       "      <td>4.570642e-33</td>\n",
       "      <td>1.000000</td>\n",
       "    </tr>\n",
       "    <tr>\n",
       "      <th>PC19</th>\n",
       "      <td>3.909707e-16</td>\n",
       "      <td>4.903670e-34</td>\n",
       "      <td>1.000000</td>\n",
       "    </tr>\n",
       "  </tbody>\n",
       "</table>\n",
       "</div>"
      ],
      "text/plain": [
       "                   sdev                varprop               cumprop\n",
       "     Standard deviation Proportion of Variance Cumulative Proportion\n",
       "PC1        2.671492e+00           3.964926e-01              0.396493\n",
       "PC2        1.337133e+00           9.932910e-02              0.495822\n",
       "PC3        1.325460e+00           9.760244e-02              0.593424\n",
       "PC4        1.114933e+00           6.905981e-02              0.662484\n",
       "PC5        1.062720e+00           6.274301e-02              0.725227\n",
       "PC6        9.740275e-01           5.270720e-02              0.777934\n",
       "PC7        8.767050e-01           4.270065e-02              0.820635\n",
       "PC8        7.835085e-01           3.410475e-02              0.854740\n",
       "PC9        7.321039e-01           2.977645e-02              0.884516\n",
       "PC10       7.019819e-01           2.737659e-02              0.911893\n",
       "PC11       6.275803e-01           2.188095e-02              0.933774\n",
       "PC12       5.543537e-01           1.707267e-02              0.950846\n",
       "PC13       5.023858e-01           1.402175e-02              0.964868\n",
       "PC14       4.677847e-01           1.215681e-02              0.977025\n",
       "PC15       4.210996e-01           9.851384e-03              0.986876\n",
       "PC16       3.598393e-01           7.193572e-03              0.994070\n",
       "PC17       3.267185e-01           5.930275e-03              1.000000\n",
       "PC18       5.310659e-16           4.570642e-33              1.000000\n",
       "PC19       3.909707e-16           4.903670e-34              1.000000"
      ]
     },
     "metadata": {},
     "output_type": "display_data"
    }
   ],
   "source": [
    "pca = PCA().fit(std_feature)\n",
    "summary = pca_summary(pca,std_feature)"
   ]
  },
  {
   "cell_type": "code",
   "execution_count": 10,
   "metadata": {},
   "outputs": [
    {
     "data": {
      "image/png": "[encoded data removed]",
      "text/plain": [
       "<Figure size 402.375x360 with 1 Axes>"
      ]
     },
     "metadata": {
      "needs_background": "light"
     },
     "output_type": "display_data"
    }
   ],
   "source": [
    "def pca_scatter(pca, standardised_values, classifs):\n",
    "    foo = pca.transform(standardised_values)\n",
    "    bar = pd.DataFrame(list(zip(foo[:, 0], foo[:, 1], classifs)), columns=[\"PC1\", \"PC2\", \"Class\"])\n",
    "    sns.lmplot(\"PC1\", \"PC2\", bar, hue=\"Class\", fit_reg=False)\n",
    "\n",
    "pca_scatter(pca, std_feature, feature_df['target'])"
   ]
  },
  {
   "cell_type": "code",
   "execution_count": 11,
   "metadata": {},
   "outputs": [
    {
     "data": {
      "image/png": "[encoded data removed]",
      "text/plain": [
       "<Figure size 432x288 with 1 Axes>"
      ]
     },
     "metadata": {
      "needs_background": "light"
     },
     "output_type": "display_data"
    }
   ],
   "source": [
    "def screeplot(pca, standardised_values):\n",
    "    y = np.std(pca.transform(standardised_values), axis=0)**2\n",
    "    x = np.arange(len(y)) + 1\n",
    "    plt.plot(x, y, \"o-\")\n",
    "    plt.xticks(x, [\"Comp.\"+str(i) for i in x], rotation=60)\n",
    "    plt.ylabel(\"Variance\")\n",
    "    plt.show()\n",
    "screeplot(pca, std_feature)"
   ]
  },
  {
   "cell_type": "markdown",
   "metadata": {},
   "source": [
    "Here we can observe an elbow at second component.<br>\n",
    "Maximum Variance is explained by this two principal components.<br>\n",
    "While the overall variance explained by them is comparatively less but the seperation of data points observed is amazing."
   ]
  },
  {
   "cell_type": "markdown",
   "metadata": {},
   "source": [
    "## 1.2 PCA on original dataset with numeric features\n",
    "* Let's try it with our original dataset with only numeric features"
   ]
  },
  {
   "cell_type": "code",
   "execution_count": 12,
   "metadata": {},
   "outputs": [],
   "source": [
    "sampleFile = open('X_train_df','rb')\n",
    "X_train_df = pickle.load(sampleFile)\n",
    "sampleFile.close()"
   ]
  },
  {
   "cell_type": "code",
   "execution_count": 13,
   "metadata": {},
   "outputs": [],
   "source": [
    "## Selecting only numeric columns from the dataset\n",
    "numeric_df = X_train_df.select_dtypes(include = ['int64','float64'])\n",
    "x_numeric = numeric_df.drop(['target'],axis = 1)\n",
    "y_numeric = numeric_df['target']"
   ]
  },
  {
   "cell_type": "code",
   "execution_count": 14,
   "metadata": {},
   "outputs": [],
   "source": [
    "scaler = StandardScaler()\n",
    "x_numeric_std = scaler.fit_transform(x_numeric)"
   ]
  },
  {
   "cell_type": "code",
   "execution_count": 15,
   "metadata": {},
   "outputs": [],
   "source": [
    "pca = PCA().fit(x_numeric_std)"
   ]
  },
  {
   "cell_type": "code",
   "execution_count": 16,
   "metadata": {},
   "outputs": [
    {
     "name": "stdout",
     "output_type": "stream",
     "text": [
      "Importance of components:\n"
     ]
    },
    {
     "data": {
      "text/html": [
       "<div>\n",
       "<style scoped>\n",
       "    .dataframe tbody tr th:only-of-type {\n",
       "        vertical-align: middle;\n",
       "    }\n",
       "\n",
       "    .dataframe tbody tr th {\n",
       "        vertical-align: top;\n",
       "    }\n",
       "\n",
       "    .dataframe thead tr th {\n",
       "        text-align: left;\n",
       "    }\n",
       "</style>\n",
       "<table border=\"1\" class=\"dataframe\">\n",
       "  <thead>\n",
       "    <tr>\n",
       "      <th></th>\n",
       "      <th>sdev</th>\n",
       "      <th>varprop</th>\n",
       "      <th>cumprop</th>\n",
       "    </tr>\n",
       "    <tr>\n",
       "      <th></th>\n",
       "      <th>Standard deviation</th>\n",
       "      <th>Proportion of Variance</th>\n",
       "      <th>Cumulative Proportion</th>\n",
       "    </tr>\n",
       "  </thead>\n",
       "  <tbody>\n",
       "    <tr>\n",
       "      <th>PC1</th>\n",
       "      <td>2.234575</td>\n",
       "      <td>0.332888</td>\n",
       "      <td>0.332888</td>\n",
       "    </tr>\n",
       "    <tr>\n",
       "      <th>PC2</th>\n",
       "      <td>1.358138</td>\n",
       "      <td>0.122969</td>\n",
       "      <td>0.455858</td>\n",
       "    </tr>\n",
       "    <tr>\n",
       "      <th>PC3</th>\n",
       "      <td>1.135641</td>\n",
       "      <td>0.085979</td>\n",
       "      <td>0.541836</td>\n",
       "    </tr>\n",
       "    <tr>\n",
       "      <th>PC4</th>\n",
       "      <td>1.093360</td>\n",
       "      <td>0.079696</td>\n",
       "      <td>0.621532</td>\n",
       "    </tr>\n",
       "    <tr>\n",
       "      <th>PC5</th>\n",
       "      <td>0.986604</td>\n",
       "      <td>0.064892</td>\n",
       "      <td>0.686425</td>\n",
       "    </tr>\n",
       "    <tr>\n",
       "      <th>PC6</th>\n",
       "      <td>0.925164</td>\n",
       "      <td>0.057062</td>\n",
       "      <td>0.743487</td>\n",
       "    </tr>\n",
       "    <tr>\n",
       "      <th>PC7</th>\n",
       "      <td>0.905120</td>\n",
       "      <td>0.054616</td>\n",
       "      <td>0.798103</td>\n",
       "    </tr>\n",
       "    <tr>\n",
       "      <th>PC8</th>\n",
       "      <td>0.863696</td>\n",
       "      <td>0.049731</td>\n",
       "      <td>0.847834</td>\n",
       "    </tr>\n",
       "    <tr>\n",
       "      <th>PC9</th>\n",
       "      <td>0.712864</td>\n",
       "      <td>0.033878</td>\n",
       "      <td>0.881712</td>\n",
       "    </tr>\n",
       "    <tr>\n",
       "      <th>PC10</th>\n",
       "      <td>0.645307</td>\n",
       "      <td>0.027761</td>\n",
       "      <td>0.909474</td>\n",
       "    </tr>\n",
       "    <tr>\n",
       "      <th>PC11</th>\n",
       "      <td>0.632076</td>\n",
       "      <td>0.026635</td>\n",
       "      <td>0.936108</td>\n",
       "    </tr>\n",
       "    <tr>\n",
       "      <th>PC12</th>\n",
       "      <td>0.582615</td>\n",
       "      <td>0.022629</td>\n",
       "      <td>0.958738</td>\n",
       "    </tr>\n",
       "    <tr>\n",
       "      <th>PC13</th>\n",
       "      <td>0.504921</td>\n",
       "      <td>0.016996</td>\n",
       "      <td>0.975734</td>\n",
       "    </tr>\n",
       "    <tr>\n",
       "      <th>PC14</th>\n",
       "      <td>0.481946</td>\n",
       "      <td>0.015485</td>\n",
       "      <td>0.991219</td>\n",
       "    </tr>\n",
       "    <tr>\n",
       "      <th>PC15</th>\n",
       "      <td>0.362926</td>\n",
       "      <td>0.008781</td>\n",
       "      <td>1.000000</td>\n",
       "    </tr>\n",
       "  </tbody>\n",
       "</table>\n",
       "</div>"
      ],
      "text/plain": [
       "                   sdev                varprop               cumprop\n",
       "     Standard deviation Proportion of Variance Cumulative Proportion\n",
       "PC1            2.234575               0.332888              0.332888\n",
       "PC2            1.358138               0.122969              0.455858\n",
       "PC3            1.135641               0.085979              0.541836\n",
       "PC4            1.093360               0.079696              0.621532\n",
       "PC5            0.986604               0.064892              0.686425\n",
       "PC6            0.925164               0.057062              0.743487\n",
       "PC7            0.905120               0.054616              0.798103\n",
       "PC8            0.863696               0.049731              0.847834\n",
       "PC9            0.712864               0.033878              0.881712\n",
       "PC10           0.645307               0.027761              0.909474\n",
       "PC11           0.632076               0.026635              0.936108\n",
       "PC12           0.582615               0.022629              0.958738\n",
       "PC13           0.504921               0.016996              0.975734\n",
       "PC14           0.481946               0.015485              0.991219\n",
       "PC15           0.362926               0.008781              1.000000"
      ]
     },
     "metadata": {},
     "output_type": "display_data"
    },
    {
     "data": {
      "image/png": "[encoded data removed]",
      "text/plain": [
       "<Figure size 402.375x360 with 1 Axes>"
      ]
     },
     "metadata": {
      "needs_background": "light"
     },
     "output_type": "display_data"
    }
   ],
   "source": [
    "summary = pca_summary(pca,x_numeric_std)\n",
    "pca_scatter(pca, x_numeric_std, y_numeric)"
   ]
  },
  {
   "cell_type": "code",
   "execution_count": 17,
   "metadata": {},
   "outputs": [
    {
     "data": {
      "image/png": "[encoded data removed]",
      "text/plain": [
       "<Figure size 432x288 with 1 Axes>"
      ]
     },
     "metadata": {
      "needs_background": "light"
     },
     "output_type": "display_data"
    }
   ],
   "source": [
    "screeplot(pca, x_numeric_std)"
   ]
  },
  {
   "cell_type": "markdown",
   "metadata": {},
   "source": [
    "Above Scatter plot with such high seperation with two principal components makes me curious to build a simple Logistic Regression model and see how well it performs for the cross validation data. <br>\n",
    "So here is the process we'll follow :<br>\n",
    "* Take the cross validation data and standardize it using the scaler used for training data.\n",
    "* Use the standardized data,apply PCA(use the pca object used for training data) and use the first two components obtained from it.\n",
    "* Use this as the cross validation data.\n",
    "* Train the LR model using PCA components from train data.\n",
    "* Check the performance of the model using PCA from Cross validation data."
   ]
  },
  {
   "cell_type": "code",
   "execution_count": 18,
   "metadata": {},
   "outputs": [],
   "source": [
    "sampleFile = open('X_cv','rb')\n",
    "X_cv = pickle.load(sampleFile)\n",
    "sampleFile.close()\n",
    "\n",
    "sampleFile = open('y_cv','rb')\n",
    "y_cv = pickle.load(sampleFile)\n",
    "sampleFile.close()"
   ]
  },
  {
   "cell_type": "code",
   "execution_count": 19,
   "metadata": {},
   "outputs": [],
   "source": [
    "num_y_cv = y_cv.apply(lambda x : 1 if x == 'ckd' else 0)"
   ]
  },
  {
   "cell_type": "code",
   "execution_count": 20,
   "metadata": {},
   "outputs": [],
   "source": [
    "num_x_cv = X_cv.select_dtypes(include=['int64','float64'])"
   ]
  },
  {
   "cell_type": "code",
   "execution_count": 21,
   "metadata": {},
   "outputs": [],
   "source": [
    "# Using the scaler used for training data to build standardized cross-validation data\n",
    "std_x_cv = scaler.transform(num_x_cv)"
   ]
  },
  {
   "cell_type": "code",
   "execution_count": 22,
   "metadata": {},
   "outputs": [
    {
     "data": {
      "image/png": "[encoded data removed]",
      "text/plain": [
       "<Figure size 402.375x360 with 1 Axes>"
      ]
     },
     "metadata": {
      "needs_background": "light"
     },
     "output_type": "display_data"
    }
   ],
   "source": [
    "pca_scatter(pca,std_x_cv,num_y_cv)"
   ]
  },
  {
   "cell_type": "markdown",
   "metadata": {},
   "source": [
    "Even for cross-validation data we see similar results.<br>\n",
    "It is very much evident that a simple linear classifier will do the job of classification very well.<br>\n",
    "So let's build a model and see how good is the accuracy that we get."
   ]
  },
  {
   "cell_type": "markdown",
   "metadata": {},
   "source": [
    "Fetching 2 principal components"
   ]
  },
  {
   "cell_type": "code",
   "execution_count": 23,
   "metadata": {},
   "outputs": [],
   "source": [
    "def getComponents(pca,std_data,n = 2):\n",
    "    pca_data = pca.transform(std_data)\n",
    "    pca_df = pd.DataFrame(pca_data)\n",
    "    return pca_df[[i for i in range(0,2)]]"
   ]
  },
  {
   "cell_type": "code",
   "execution_count": 24,
   "metadata": {},
   "outputs": [],
   "source": [
    "pca_x_train = getComponents(pca,x_numeric_std)\n",
    "pca_x_cv = getComponents(pca,std_x_cv)"
   ]
  },
  {
   "cell_type": "markdown",
   "metadata": {},
   "source": [
    "## Building a simple Logistic Regression model"
   ]
  },
  {
   "cell_type": "code",
   "execution_count": 25,
   "metadata": {},
   "outputs": [
    {
     "name": "stdout",
     "output_type": "stream",
     "text": [
      "Accuracy using cross validation data :  98.4375\n"
     ]
    }
   ],
   "source": [
    "from sklearn.linear_model import LogisticRegression\n",
    "\n",
    "clf = LogisticRegression(random_state=0).fit(pca_x_train, y_numeric)\n",
    "clf.predict(pca_x_cv)\n",
    "clf.predict_proba(pca_x_cv)\n",
    "print(\"Accuracy using cross validation data : \",clf.score(pca_x_cv,num_y_cv) * 100)"
   ]
  },
  {
   "cell_type": "markdown",
   "metadata": {},
   "source": [
    "And Voila! we are seeing what is expected.<br>\n",
    "98% accuracy on cross-validation data."
   ]
  },
  {
   "cell_type": "code",
   "execution_count": 26,
   "metadata": {},
   "outputs": [
    {
     "data": {
      "text/plain": [
       "Index(['target', 'age_bins', 'bp_bins', 'al_cat', 'su_bin', 'bgr_bin',\n",
       "       'bu_bin', 'sc_bin', 'log_norm_sc', 'sod_bin', 'log_norm_sod',\n",
       "       'norm_sod_bin', 'hemo_bin', 'rc_bin', 'wc_bin', 'sc_bu_bin', 'acr',\n",
       "       'multivariate_pdf', 'log_multivariate_pdf', 'log_multi_pdf_bin'],\n",
       "      dtype='object')"
      ]
     },
     "execution_count": 26,
     "metadata": {},
     "output_type": "execute_result"
    }
   ],
   "source": [
    "feature_df.columns"
   ]
  },
  {
   "cell_type": "code",
   "execution_count": 27,
   "metadata": {},
   "outputs": [
    {
     "data": {
      "text/plain": [
       "(256, 20)"
      ]
     },
     "execution_count": 27,
     "metadata": {},
     "output_type": "execute_result"
    }
   ],
   "source": [
    "feature_df.shape"
   ]
  },
  {
   "cell_type": "markdown",
   "metadata": {},
   "source": [
    "## Transforming the Input data to build the feature set for testing and cross-validation"
   ]
  },
  {
   "cell_type": "code",
   "execution_count": 28,
   "metadata": {},
   "outputs": [],
   "source": [
    "## Let's write a function to perform all the required transformations for the cross validation data\n",
    "def formBins(x,lst):\n",
    "  if x <= lst[0]:\n",
    "    return 0\n",
    "  elif x > lst[0] and x <= lst[1]: \n",
    "    return 1\n",
    "  elif x > lst[1] and x <= lst[2]: \n",
    "    return 2\n",
    "  elif x > lst[2]:\n",
    "    return 3\n",
    "\n",
    "def formAlBins(x):\n",
    "  if x == 0:\n",
    "    return 0\n",
    "  elif x >=1 and x <=2:\n",
    "    return 1\n",
    "  else:\n",
    "    return 2\n",
    "\n",
    "\n",
    "def reflector(x):\n",
    "  median_sod = np.median(X_train_df['sod'])\n",
    "  if x < median_sod:\n",
    "    dev = median_sod-x\n",
    "    return median_sod + dev\n",
    "  elif x > median_sod:\n",
    "    dev = x - median_sod\n",
    "    return median_sod - dev\n",
    "  else:\n",
    "    return x\n",
    "\n",
    "def sc_bu_bin(x):\n",
    "    if x['sc'] <= 1.4 and x['bu'] <= 50:\n",
    "        return 0\n",
    "    else:\n",
    "        return 1\n"
   ]
  },
  {
   "cell_type": "code",
   "execution_count": 29,
   "metadata": {},
   "outputs": [
    {
     "data": {
      "text/plain": [
       "138.0"
      ]
     },
     "execution_count": 29,
     "metadata": {},
     "output_type": "execute_result"
    }
   ],
   "source": [
    "np.median(X_train_df['sod'])"
   ]
  },
  {
   "cell_type": "code",
   "execution_count": 30,
   "metadata": {},
   "outputs": [],
   "source": [
    "def transformCvAndTest(test_df):\n",
    "    \n",
    "    \"\"\"\n",
    "    Columns to be generated\n",
    "        'target', 'age_bins', 'bp_bins', 'al_cat', 'su_bin', 'bgr_bin',\n",
    "       'bu_bin', 'sc_bin', 'log_norm_sc', 'sod_bin', 'log_norm_sod',\n",
    "       'norm_sod_bin', 'hemo_bin', 'rc_bin', 'wc_bin', 'sc_bu_bin', 'acr',\n",
    "       'multivariate_pdf', 'log_multivariate_pdf', 'log_multi_pdf_bin\n",
    "    \"\"\"\n",
    "    \n",
    "    trans_df = pd.DataFrame()\n",
    "    trans_df['target'] = test_df['target']\n",
    "    trans_df['age_bins'] = test_df['age'].apply(lambda x : formBins(x,[20,40,60]))\n",
    "    trans_df['bp_bins'] = test_df['bp'].apply(lambda x : formBins(x,[60,80,90]))\n",
    "    trans_df['al_cat'] = test_df['al'].apply(lambda x : formAlBins(x))\n",
    "    trans_df['su_bin'] = test_df['su'].apply(lambda x : 0 if x==0 else 1)\n",
    "    trans_df['bgr_bin'] = test_df['bgr'].apply(lambda x : 0 if x <= 140 else 1)\n",
    "    trans_df['bu_bin'] = test_df['bu'].apply(lambda x : 0 if x <= 50 else 1)\n",
    "    trans_df['sc_bin'] = test_df['sc'].apply(lambda x : 0 if x <= 1.2 else 1)\n",
    "    trans_df['log_norm_sc'] = np.log(test_df['sc'])\n",
    "    trans_df['sod_bin'] = test_df['sod'].apply(lambda x : 1 if x <= 138 else 0)\n",
    "    \n",
    "    reflected_sod = test_df['sod'].apply(lambda x : reflector(x))\n",
    "    log_norm_sod = np.log(reflected_sod)\n",
    "    trans_df['log_norm_sod'] = log_norm_sod\n",
    "    \n",
    "    trans_df['norm_sod_bin'] = trans_df['log_norm_sod'].apply(lambda x : 0 if x <= 4.92 else 1)\n",
    "    trans_df['hemo_bin'] = test_df['hemo'].apply(lambda x : 0 if x <= 12.65 else 1)\n",
    "    trans_df['rc_bin'] = test_df['rc'].apply(lambda x : 0 if x <= 4.4 else 1)\n",
    "    trans_df['wc_bin'] = test_df['wc'].apply(lambda x : 0 if x <=8600 else 1)\n",
    "    trans_df['sc_bu_bin'] = test_df.apply(lambda x : sc_bu_bin(x),axis = 1)\n",
    "    \n",
    "    trans_df['acr'] = test_df['al']/test_df['sc']\n",
    "    return trans_df"
   ]
  },
  {
   "cell_type": "code",
   "execution_count": 31,
   "metadata": {},
   "outputs": [],
   "source": [
    "cv_df= pd.concat([X_cv,y_cv],axis=1)"
   ]
  },
  {
   "cell_type": "code",
   "execution_count": 32,
   "metadata": {},
   "outputs": [],
   "source": [
    "cv_df['target'] = cv_df['classification'].apply(lambda x : 1 if x == 'ckd' else 0)"
   ]
  },
  {
   "cell_type": "code",
   "execution_count": 33,
   "metadata": {},
   "outputs": [],
   "source": [
    "trans_cv_df = transformCvAndTest(cv_df)"
   ]
  },
  {
   "cell_type": "code",
   "execution_count": 34,
   "metadata": {},
   "outputs": [
    {
     "data": {
      "text/html": [
       "<div>\n",
       "<style scoped>\n",
       "    .dataframe tbody tr th:only-of-type {\n",
       "        vertical-align: middle;\n",
       "    }\n",
       "\n",
       "    .dataframe tbody tr th {\n",
       "        vertical-align: top;\n",
       "    }\n",
       "\n",
       "    .dataframe thead th {\n",
       "        text-align: right;\n",
       "    }\n",
       "</style>\n",
       "<table border=\"1\" class=\"dataframe\">\n",
       "  <thead>\n",
       "    <tr style=\"text-align: right;\">\n",
       "      <th></th>\n",
       "      <th>target</th>\n",
       "      <th>age_bins</th>\n",
       "      <th>bp_bins</th>\n",
       "      <th>al_cat</th>\n",
       "      <th>su_bin</th>\n",
       "      <th>bgr_bin</th>\n",
       "      <th>bu_bin</th>\n",
       "      <th>sc_bin</th>\n",
       "      <th>log_norm_sc</th>\n",
       "      <th>sod_bin</th>\n",
       "      <th>log_norm_sod</th>\n",
       "      <th>norm_sod_bin</th>\n",
       "      <th>hemo_bin</th>\n",
       "      <th>rc_bin</th>\n",
       "      <th>wc_bin</th>\n",
       "      <th>sc_bu_bin</th>\n",
       "      <th>acr</th>\n",
       "    </tr>\n",
       "  </thead>\n",
       "  <tbody>\n",
       "    <tr>\n",
       "      <th>107</th>\n",
       "      <td>1</td>\n",
       "      <td>2</td>\n",
       "      <td>3</td>\n",
       "      <td>1</td>\n",
       "      <td>1</td>\n",
       "      <td>1</td>\n",
       "      <td>1</td>\n",
       "      <td>1</td>\n",
       "      <td>1.029619</td>\n",
       "      <td>0</td>\n",
       "      <td>4.919981</td>\n",
       "      <td>0</td>\n",
       "      <td>0</td>\n",
       "      <td>0</td>\n",
       "      <td>1</td>\n",
       "      <td>1</td>\n",
       "      <td>0.357143</td>\n",
       "    </tr>\n",
       "    <tr>\n",
       "      <th>14</th>\n",
       "      <td>1</td>\n",
       "      <td>3</td>\n",
       "      <td>1</td>\n",
       "      <td>2</td>\n",
       "      <td>1</td>\n",
       "      <td>1</td>\n",
       "      <td>1</td>\n",
       "      <td>1</td>\n",
       "      <td>1.410987</td>\n",
       "      <td>1</td>\n",
       "      <td>4.983607</td>\n",
       "      <td>1</td>\n",
       "      <td>0</td>\n",
       "      <td>0</td>\n",
       "      <td>1</td>\n",
       "      <td>1</td>\n",
       "      <td>0.731707</td>\n",
       "    </tr>\n",
       "    <tr>\n",
       "      <th>7</th>\n",
       "      <td>1</td>\n",
       "      <td>1</td>\n",
       "      <td>1</td>\n",
       "      <td>1</td>\n",
       "      <td>1</td>\n",
       "      <td>1</td>\n",
       "      <td>0</td>\n",
       "      <td>0</td>\n",
       "      <td>0.095310</td>\n",
       "      <td>1</td>\n",
       "      <td>4.927254</td>\n",
       "      <td>1</td>\n",
       "      <td>0</td>\n",
       "      <td>1</td>\n",
       "      <td>0</td>\n",
       "      <td>0</td>\n",
       "      <td>1.818182</td>\n",
       "    </tr>\n",
       "    <tr>\n",
       "      <th>155</th>\n",
       "      <td>1</td>\n",
       "      <td>2</td>\n",
       "      <td>1</td>\n",
       "      <td>2</td>\n",
       "      <td>0</td>\n",
       "      <td>0</td>\n",
       "      <td>0</td>\n",
       "      <td>1</td>\n",
       "      <td>0.587787</td>\n",
       "      <td>1</td>\n",
       "      <td>4.927254</td>\n",
       "      <td>1</td>\n",
       "      <td>0</td>\n",
       "      <td>0</td>\n",
       "      <td>0</td>\n",
       "      <td>1</td>\n",
       "      <td>1.666667</td>\n",
       "    </tr>\n",
       "    <tr>\n",
       "      <th>90</th>\n",
       "      <td>1</td>\n",
       "      <td>3</td>\n",
       "      <td>3</td>\n",
       "      <td>1</td>\n",
       "      <td>1</td>\n",
       "      <td>1</td>\n",
       "      <td>0</td>\n",
       "      <td>1</td>\n",
       "      <td>1.163151</td>\n",
       "      <td>0</td>\n",
       "      <td>4.890349</td>\n",
       "      <td>0</td>\n",
       "      <td>1</td>\n",
       "      <td>0</td>\n",
       "      <td>1</td>\n",
       "      <td>1</td>\n",
       "      <td>0.625000</td>\n",
       "    </tr>\n",
       "  </tbody>\n",
       "</table>\n",
       "</div>"
      ],
      "text/plain": [
       "     target  age_bins  bp_bins  al_cat  su_bin  bgr_bin  bu_bin  sc_bin  \\\n",
       "107       1         2        3       1       1        1       1       1   \n",
       "14        1         3        1       2       1        1       1       1   \n",
       "7         1         1        1       1       1        1       0       0   \n",
       "155       1         2        1       2       0        0       0       1   \n",
       "90        1         3        3       1       1        1       0       1   \n",
       "\n",
       "     log_norm_sc  sod_bin  log_norm_sod  norm_sod_bin  hemo_bin  rc_bin  \\\n",
       "107     1.029619        0      4.919981             0         0       0   \n",
       "14      1.410987        1      4.983607             1         0       0   \n",
       "7       0.095310        1      4.927254             1         0       1   \n",
       "155     0.587787        1      4.927254             1         0       0   \n",
       "90      1.163151        0      4.890349             0         1       0   \n",
       "\n",
       "     wc_bin  sc_bu_bin       acr  \n",
       "107       1          1  0.357143  \n",
       "14        1          1  0.731707  \n",
       "7         0          0  1.818182  \n",
       "155       0          1  1.666667  \n",
       "90        1          1  0.625000  "
      ]
     },
     "execution_count": 34,
     "metadata": {},
     "output_type": "execute_result"
    }
   ],
   "source": [
    "trans_cv_df.head()"
   ]
  },
  {
   "cell_type": "code",
   "execution_count": 35,
   "metadata": {},
   "outputs": [
    {
     "name": "stdout",
     "output_type": "stream",
     "text": [
      "CV Data shape :  (64, 17)\n",
      "Train Data shape :  (256, 17)\n"
     ]
    }
   ],
   "source": [
    "trans_train_df = pd.DataFrame()\n",
    "for col in trans_cv_df.columns:\n",
    "    trans_train_df[col] = feature_df[col]\n",
    "    \n",
    "print(\"CV Data shape : \",trans_cv_df.shape)\n",
    "print(\"Train Data shape : \",trans_train_df.shape)"
   ]
  },
  {
   "cell_type": "markdown",
   "metadata": {},
   "source": [
    "## Building a Decision Tree with no hyper-parameter tuning"
   ]
  },
  {
   "cell_type": "code",
   "execution_count": 36,
   "metadata": {},
   "outputs": [],
   "source": [
    "from sklearn.datasets import load_iris\n",
    "from sklearn import tree\n",
    "from sklearn.metrics import roc_auc_score\n",
    "from sklearn.metrics import log_loss\n",
    "\n",
    "train_x = trans_train_df.drop(['target'],axis=1)\n",
    "train_y = trans_train_df['target']\n",
    "\n",
    "cv_x = trans_cv_df.drop(['target'],axis=1)\n",
    "cv_y = trans_cv_df['target']\n",
    "\n",
    "clf = tree.DecisionTreeClassifier()\n",
    "clf = clf.fit(train_x, train_y)\n",
    "\n",
    "cv_pred = clf.predict(cv_x)\n",
    "cv_pred_prob = clf.predict_proba(cv_x)\n",
    "\n",
    "train_pred = clf.predict(train_x)\n",
    "train_pred_prob = clf.predict_proba(train_x)"
   ]
  },
  {
   "cell_type": "code",
   "execution_count": 37,
   "metadata": {},
   "outputs": [],
   "source": [
    "# For CV Data\n",
    "cv_auc_score = roc_auc_score(cv_y,cv_pred_prob[:,1])\n",
    "cv_lloss = log_loss(cv_y,cv_pred_prob[:,1])\n",
    "\n",
    "# For Train Data\n",
    "train_auc_score = roc_auc_score(train_y,train_pred_prob[:,1])\n",
    "train_lloss = log_loss(train_y,train_pred_prob[:,1])"
   ]
  },
  {
   "cell_type": "code",
   "execution_count": 38,
   "metadata": {},
   "outputs": [
    {
     "name": "stdout",
     "output_type": "stream",
     "text": [
      "******************** Cv Data ********************\n",
      "AUC Score :  1.0\n",
      "Log Loss :  9.992007221626415e-16\n",
      "******************** Train Data ********************\n",
      "AUC Score :  1.0\n",
      "Log Loss :  9.992007221626413e-16\n"
     ]
    }
   ],
   "source": [
    "print(\"*\" * 20,\"Cv Data\",\"*\" * 20)\n",
    "print(\"AUC Score : \",cv_auc_score)\n",
    "print(\"Log Loss : \",cv_lloss)\n",
    "\n",
    "print(\"*\" * 20,\"Train Data\",\"*\" * 20)\n",
    "print(\"AUC Score : \",train_auc_score)\n",
    "print(\"Log Loss : \",train_lloss)"
   ]
  },
  {
   "cell_type": "code",
   "execution_count": 39,
   "metadata": {},
   "outputs": [],
   "source": [
    "from sklearn.metrics import roc_curve,auc\n",
    "n_classes = 2\n",
    "fpr,tpr,threshold= roc_curve(cv_y,cv_pred_prob[:, 1])\n",
    "roc_auc = auc(fpr,tpr)"
   ]
  },
  {
   "cell_type": "code",
   "execution_count": 40,
   "metadata": {},
   "outputs": [
    {
     "data": {
      "image/png": "[encoded data removed]",
      "text/plain": [
       "<Figure size 432x288 with 1 Axes>"
      ]
     },
     "metadata": {
      "needs_background": "light"
     },
     "output_type": "display_data"
    }
   ],
   "source": [
    "plt.figure()\n",
    "lw = 2\n",
    "plt.plot(fpr, tpr, color='darkorange',\n",
    "         lw=lw, label='ROC curve for CV Data (area = %0.2f)' % roc_auc)\n",
    "\n",
    "plt.plot([0, 1], [0, 1], color='navy', label='ROC curve for train Data(area = 0.5)',lw=lw, linestyle='--')\n",
    "plt.xlim([0.0, 1.0])\n",
    "plt.ylim([0.0, 1.05])\n",
    "plt.xlabel('False Positive Rate')\n",
    "plt.ylabel('True Positive Rate')\n",
    "plt.title('Receiver operating characteristic example')\n",
    "plt.legend(loc=\"lower right\")\n",
    "plt.show()"
   ]
  },
  {
   "cell_type": "markdown",
   "metadata": {},
   "source": [
    "This is performing really well even for cross validation data.\n",
    "## Let's Build a Logistic Regression model\n",
    "* Standardize the features\n",
    "* Build the model using L1 & L2-regularization with Grid Search CV\n",
    "* Come up with optimal parameters for hyperparameters\n",
    "* Read the model weights and get feature importances"
   ]
  },
  {
   "cell_type": "code",
   "execution_count": 41,
   "metadata": {},
   "outputs": [],
   "source": [
    "train_x.drop('bp_bins',axis = 1,inplace=True)\n",
    "cv_x.drop('bp_bins',axis = 1,inplace=True)"
   ]
  },
  {
   "cell_type": "code",
   "execution_count": 42,
   "metadata": {},
   "outputs": [],
   "source": [
    "from sklearn.preprocessing import StandardScaler\n",
    "scaler = StandardScaler()\n",
    "\n",
    "std_train_x = scaler.fit_transform(train_x)\n",
    "std_cv_x = scaler.transform(cv_x)\n",
    "\n",
    "std_train_df = pd.DataFrame(std_train_x,columns = train_x.columns)\n",
    "std_cv_df = pd.DataFrame(std_cv_x,columns = cv_x.columns)"
   ]
  },
  {
   "cell_type": "code",
   "execution_count": 43,
   "metadata": {},
   "outputs": [
    {
     "data": {
      "text/html": [
       "<div>\n",
       "<style scoped>\n",
       "    .dataframe tbody tr th:only-of-type {\n",
       "        vertical-align: middle;\n",
       "    }\n",
       "\n",
       "    .dataframe tbody tr th {\n",
       "        vertical-align: top;\n",
       "    }\n",
       "\n",
       "    .dataframe thead th {\n",
       "        text-align: right;\n",
       "    }\n",
       "</style>\n",
       "<table border=\"1\" class=\"dataframe\">\n",
       "  <thead>\n",
       "    <tr style=\"text-align: right;\">\n",
       "      <th></th>\n",
       "      <th>age_bins</th>\n",
       "      <th>al_cat</th>\n",
       "      <th>su_bin</th>\n",
       "      <th>bgr_bin</th>\n",
       "      <th>bu_bin</th>\n",
       "      <th>sc_bin</th>\n",
       "      <th>log_norm_sc</th>\n",
       "      <th>sod_bin</th>\n",
       "      <th>log_norm_sod</th>\n",
       "      <th>norm_sod_bin</th>\n",
       "      <th>hemo_bin</th>\n",
       "      <th>rc_bin</th>\n",
       "      <th>wc_bin</th>\n",
       "      <th>sc_bu_bin</th>\n",
       "      <th>acr</th>\n",
       "    </tr>\n",
       "  </thead>\n",
       "  <tbody>\n",
       "    <tr>\n",
       "      <th>0</th>\n",
       "      <td>1.110726</td>\n",
       "      <td>0.685994</td>\n",
       "      <td>-0.391348</td>\n",
       "      <td>-0.60744</td>\n",
       "      <td>1.524689</td>\n",
       "      <td>0.954174</td>\n",
       "      <td>0.422627</td>\n",
       "      <td>0.813841</td>\n",
       "      <td>-0.002583</td>\n",
       "      <td>0.813841</td>\n",
       "      <td>-0.903107</td>\n",
       "      <td>-0.946729</td>\n",
       "      <td>0.868000</td>\n",
       "      <td>1.142938</td>\n",
       "      <td>0.640168</td>\n",
       "    </tr>\n",
       "    <tr>\n",
       "      <th>1</th>\n",
       "      <td>-1.201028</td>\n",
       "      <td>-0.685994</td>\n",
       "      <td>-0.391348</td>\n",
       "      <td>-0.60744</td>\n",
       "      <td>-0.655872</td>\n",
       "      <td>-1.048027</td>\n",
       "      <td>-0.454301</td>\n",
       "      <td>-1.228741</td>\n",
       "      <td>-0.854656</td>\n",
       "      <td>-1.228741</td>\n",
       "      <td>1.107288</td>\n",
       "      <td>1.056268</td>\n",
       "      <td>-1.152073</td>\n",
       "      <td>-0.874938</td>\n",
       "      <td>-0.525719</td>\n",
       "    </tr>\n",
       "    <tr>\n",
       "      <th>2</th>\n",
       "      <td>-0.045151</td>\n",
       "      <td>-0.685994</td>\n",
       "      <td>-0.391348</td>\n",
       "      <td>-0.60744</td>\n",
       "      <td>-0.655872</td>\n",
       "      <td>-1.048027</td>\n",
       "      <td>-0.454301</td>\n",
       "      <td>-1.228741</td>\n",
       "      <td>-0.606647</td>\n",
       "      <td>-1.228741</td>\n",
       "      <td>1.107288</td>\n",
       "      <td>1.056268</td>\n",
       "      <td>-1.152073</td>\n",
       "      <td>-0.874938</td>\n",
       "      <td>-0.525719</td>\n",
       "    </tr>\n",
       "    <tr>\n",
       "      <th>3</th>\n",
       "      <td>-0.045151</td>\n",
       "      <td>-0.685994</td>\n",
       "      <td>-0.391348</td>\n",
       "      <td>-0.60744</td>\n",
       "      <td>-0.655872</td>\n",
       "      <td>-1.048027</td>\n",
       "      <td>-0.454301</td>\n",
       "      <td>-1.228741</td>\n",
       "      <td>-0.362340</td>\n",
       "      <td>-1.228741</td>\n",
       "      <td>1.107288</td>\n",
       "      <td>1.056268</td>\n",
       "      <td>-1.152073</td>\n",
       "      <td>-0.874938</td>\n",
       "      <td>-0.525719</td>\n",
       "    </tr>\n",
       "    <tr>\n",
       "      <th>4</th>\n",
       "      <td>-0.045151</td>\n",
       "      <td>0.685994</td>\n",
       "      <td>-0.391348</td>\n",
       "      <td>-0.60744</td>\n",
       "      <td>1.524689</td>\n",
       "      <td>0.954174</td>\n",
       "      <td>0.314471</td>\n",
       "      <td>0.813841</td>\n",
       "      <td>-0.002583</td>\n",
       "      <td>0.813841</td>\n",
       "      <td>-0.903107</td>\n",
       "      <td>-0.946729</td>\n",
       "      <td>0.868000</td>\n",
       "      <td>1.142938</td>\n",
       "      <td>0.751205</td>\n",
       "    </tr>\n",
       "  </tbody>\n",
       "</table>\n",
       "</div>"
      ],
      "text/plain": [
       "   age_bins    al_cat    su_bin  bgr_bin    bu_bin    sc_bin  log_norm_sc  \\\n",
       "0  1.110726  0.685994 -0.391348 -0.60744  1.524689  0.954174     0.422627   \n",
       "1 -1.201028 -0.685994 -0.391348 -0.60744 -0.655872 -1.048027    -0.454301   \n",
       "2 -0.045151 -0.685994 -0.391348 -0.60744 -0.655872 -1.048027    -0.454301   \n",
       "3 -0.045151 -0.685994 -0.391348 -0.60744 -0.655872 -1.048027    -0.454301   \n",
       "4 -0.045151  0.685994 -0.391348 -0.60744  1.524689  0.954174     0.314471   \n",
       "\n",
       "    sod_bin  log_norm_sod  norm_sod_bin  hemo_bin    rc_bin    wc_bin  \\\n",
       "0  0.813841     -0.002583      0.813841 -0.903107 -0.946729  0.868000   \n",
       "1 -1.228741     -0.854656     -1.228741  1.107288  1.056268 -1.152073   \n",
       "2 -1.228741     -0.606647     -1.228741  1.107288  1.056268 -1.152073   \n",
       "3 -1.228741     -0.362340     -1.228741  1.107288  1.056268 -1.152073   \n",
       "4  0.813841     -0.002583      0.813841 -0.903107 -0.946729  0.868000   \n",
       "\n",
       "   sc_bu_bin       acr  \n",
       "0   1.142938  0.640168  \n",
       "1  -0.874938 -0.525719  \n",
       "2  -0.874938 -0.525719  \n",
       "3  -0.874938 -0.525719  \n",
       "4   1.142938  0.751205  "
      ]
     },
     "execution_count": 43,
     "metadata": {},
     "output_type": "execute_result"
    }
   ],
   "source": [
    "std_train_df.head()"
   ]
  },
  {
   "cell_type": "code",
   "execution_count": 44,
   "metadata": {},
   "outputs": [
    {
     "name": "stdout",
     "output_type": "stream",
     "text": [
      "[0.0, 0.1111111111111111, 0.2222222222222222, 0.3333333333333333, 0.4444444444444444, 0.5555555555555556, 0.6666666666666666, 0.7777777777777777, 0.8888888888888888, 1.0]\n"
     ]
    }
   ],
   "source": [
    "## Hyper-parameter values\n",
    "## Let's try elastic-net regularization\n",
    "## with hyper-parameter used for it as l1-ratio\n",
    "l1_ratio_param = [i for i in np.linspace(0,1,10)]\n",
    "print(l1_ratio_param)"
   ]
  },
  {
   "cell_type": "code",
   "execution_count": 45,
   "metadata": {},
   "outputs": [
    {
     "name": "stderr",
     "output_type": "stream",
     "text": [
      "C:\\Users\\capiot\\anaconda3\\lib\\site-packages\\sklearn\\linear_model\\_sag.py:330: ConvergenceWarning: The max_iter was reached which means the coef_ did not converge\n",
      "  \"the coef_ did not converge\", ConvergenceWarning)\n",
      "C:\\Users\\capiot\\anaconda3\\lib\\site-packages\\sklearn\\linear_model\\_sag.py:330: ConvergenceWarning: The max_iter was reached which means the coef_ did not converge\n",
      "  \"the coef_ did not converge\", ConvergenceWarning)\n",
      "C:\\Users\\capiot\\anaconda3\\lib\\site-packages\\sklearn\\linear_model\\_sag.py:330: ConvergenceWarning: The max_iter was reached which means the coef_ did not converge\n",
      "  \"the coef_ did not converge\", ConvergenceWarning)\n",
      "C:\\Users\\capiot\\anaconda3\\lib\\site-packages\\sklearn\\linear_model\\_sag.py:330: ConvergenceWarning: The max_iter was reached which means the coef_ did not converge\n",
      "  \"the coef_ did not converge\", ConvergenceWarning)\n",
      "C:\\Users\\capiot\\anaconda3\\lib\\site-packages\\sklearn\\linear_model\\_sag.py:330: ConvergenceWarning: The max_iter was reached which means the coef_ did not converge\n",
      "  \"the coef_ did not converge\", ConvergenceWarning)\n",
      "C:\\Users\\capiot\\anaconda3\\lib\\site-packages\\sklearn\\linear_model\\_sag.py:330: ConvergenceWarning: The max_iter was reached which means the coef_ did not converge\n",
      "  \"the coef_ did not converge\", ConvergenceWarning)\n",
      "C:\\Users\\capiot\\anaconda3\\lib\\site-packages\\sklearn\\linear_model\\_sag.py:330: ConvergenceWarning: The max_iter was reached which means the coef_ did not converge\n",
      "  \"the coef_ did not converge\", ConvergenceWarning)\n",
      "C:\\Users\\capiot\\anaconda3\\lib\\site-packages\\sklearn\\linear_model\\_sag.py:330: ConvergenceWarning: The max_iter was reached which means the coef_ did not converge\n",
      "  \"the coef_ did not converge\", ConvergenceWarning)\n",
      "C:\\Users\\capiot\\anaconda3\\lib\\site-packages\\sklearn\\linear_model\\_sag.py:330: ConvergenceWarning: The max_iter was reached which means the coef_ did not converge\n",
      "  \"the coef_ did not converge\", ConvergenceWarning)\n",
      "C:\\Users\\capiot\\anaconda3\\lib\\site-packages\\sklearn\\linear_model\\_sag.py:330: ConvergenceWarning: The max_iter was reached which means the coef_ did not converge\n",
      "  \"the coef_ did not converge\", ConvergenceWarning)\n"
     ]
    }
   ],
   "source": [
    "cv_auc_score_dict = {}\n",
    "cv_log_loss_dict = {}\n",
    "\n",
    "train_auc_score_dict = {}\n",
    "train_log_loss_dict = {}\n",
    "\n",
    "for param in l1_ratio_param:\n",
    "    clf = LogisticRegression(solver = 'saga',penalty = 'elasticnet',l1_ratio = param)\n",
    "    clf.fit(std_train_df,train_y)\n",
    "    \n",
    "    cv_pred = clf.predict(std_cv_df)\n",
    "    cv_pred_prob = clf.predict_proba(std_cv_df)\n",
    "    \n",
    "    train_pred = clf.predict(std_train_df)\n",
    "    train_pred_prob = clf.predict_proba(std_train_df)\n",
    "    \n",
    "    cv_auc_score = roc_auc_score(cv_y,cv_pred_prob[:,1])\n",
    "    cv_lloss = log_loss(cv_y,cv_pred_prob[:,1])\n",
    "    \n",
    "    train_auc_score = roc_auc_score(train_y,train_pred_prob[:,1])\n",
    "    train_lloss = log_loss(train_y,train_pred_prob[:,1])\n",
    "    \n",
    "    cv_auc_score_dict[str(param)] = cv_auc_score\n",
    "    cv_log_loss_dict[str(param)] = cv_lloss\n",
    "    \n",
    "    train_auc_score_dict[str(param)] = train_auc_score\n",
    "    train_log_loss_dict[str(param)] = train_lloss"
   ]
  },
  {
   "cell_type": "code",
   "execution_count": 46,
   "metadata": {},
   "outputs": [
    {
     "data": {
      "image/png": "[encoded data removed]",
      "text/plain": [
       "<Figure size 720x720 with 1 Axes>"
      ]
     },
     "metadata": {
      "needs_background": "light"
     },
     "output_type": "display_data"
    }
   ],
   "source": [
    "y_cv_auc = list(cv_auc_score_dict.values())\n",
    "y_train_auc = list(train_auc_score_dict.values())\n",
    "xi = [i for i in range(10)]\n",
    "\n",
    "# plot the index for the x-values\n",
    "plt.close()\n",
    "plt.figure(figsize = (10,10))\n",
    "\n",
    "plt.plot(l1_ratio_param, y_cv_auc, marker='o', linestyle='--', color='r',label='Cross Validation AUC')\n",
    "plt.plot(l1_ratio_param, y_train_auc,marker ='o',linestyle='--',color='b',label='Train AUC')\n",
    "\n",
    "plt.xlabel('L1-ratios')\n",
    "plt.ylabel('AUC Score')\n",
    "plt.xticks(l1_ratio_param,l1_ratio_param,rotation=30)\n",
    "plt.title('Plot of AUC Score for different hyper-parameter values')\n",
    "plt.legend()\n",
    "plt.show()"
   ]
  },
  {
   "cell_type": "code",
   "execution_count": 47,
   "metadata": {},
   "outputs": [
    {
     "data": {
      "image/png": "[encoded data removed]",
      "text/plain": [
       "<Figure size 720x720 with 1 Axes>"
      ]
     },
     "metadata": {
      "needs_background": "light"
     },
     "output_type": "display_data"
    }
   ],
   "source": [
    "y_cv_ll = list(cv_log_loss_dict.values())\n",
    "y_train_ll = list(train_log_loss_dict.values())\n",
    "\n",
    "# plot the index for the x-values\n",
    "plt.close()\n",
    "plt.figure(figsize = (10,10))\n",
    "\n",
    "plt.plot(l1_ratio_param, y_cv_ll, marker='o', linestyle='--', color='r',label='Cross Validation LogLoss')\n",
    "plt.plot(l1_ratio_param, y_train_ll,marker ='o',linestyle='--',color='b',label='Train LogLoss')\n",
    "\n",
    "plt.xlabel('L1-ratios')\n",
    "plt.ylabel('Log Loss')\n",
    "plt.xticks(l1_ratio_param,l1_ratio_param,rotation=30)\n",
    "plt.title('Plot of Log Loss Score for different hyper-parameter values')\n",
    "plt.legend()\n",
    "plt.show()"
   ]
  },
  {
   "cell_type": "markdown",
   "metadata": {},
   "source": [
    "Let's select the l1-ratio to 1.0.<br>\n",
    "After which we will check for weights of plane."
   ]
  },
  {
   "cell_type": "code",
   "execution_count": 48,
   "metadata": {},
   "outputs": [
    {
     "data": {
      "text/plain": [
       "LogisticRegression(C=1.0, class_weight=None, dual=False, fit_intercept=True,\n",
       "                   intercept_scaling=1, l1_ratio=1.0, max_iter=1000,\n",
       "                   multi_class='auto', n_jobs=None, penalty='elasticnet',\n",
       "                   random_state=None, solver='saga', tol=0.0001, verbose=0,\n",
       "                   warm_start=False)"
      ]
     },
     "execution_count": 48,
     "metadata": {},
     "output_type": "execute_result"
    }
   ],
   "source": [
    "clf = LogisticRegression(solver = 'saga',penalty = 'elasticnet',l1_ratio = 1.0,max_iter = 1000)\n",
    "clf.fit(std_train_df,train_y)"
   ]
  },
  {
   "cell_type": "markdown",
   "metadata": {},
   "source": [
    "## Let's check for multicollinearity in dataset"
   ]
  },
  {
   "cell_type": "markdown",
   "metadata": {},
   "source": [
    "### By VIF factor"
   ]
  },
  {
   "cell_type": "code",
   "execution_count": 49,
   "metadata": {},
   "outputs": [
    {
     "name": "stderr",
     "output_type": "stream",
     "text": [
      "C:\\Users\\capiot\\anaconda3\\lib\\site-packages\\statsmodels\\stats\\outliers_influence.py:193: RuntimeWarning: divide by zero encountered in double_scalars\n",
      "  vif = 1. / (1. - r_squared_i)\n"
     ]
    }
   ],
   "source": [
    "from statsmodels.stats.outliers_influence import variance_inflation_factor\n",
    "\n",
    "vif = pd.DataFrame()\n",
    "vif[\"VIF Factor\"] = [variance_inflation_factor(std_train_df.values, i) for i in range(std_train_df.shape[1])]\n",
    "vif[\"features\"] = std_train_df.columns"
   ]
  },
  {
   "cell_type": "code",
   "execution_count": 50,
   "metadata": {},
   "outputs": [
    {
     "data": {
      "text/html": [
       "<div>\n",
       "<style scoped>\n",
       "    .dataframe tbody tr th:only-of-type {\n",
       "        vertical-align: middle;\n",
       "    }\n",
       "\n",
       "    .dataframe tbody tr th {\n",
       "        vertical-align: top;\n",
       "    }\n",
       "\n",
       "    .dataframe thead th {\n",
       "        text-align: right;\n",
       "    }\n",
       "</style>\n",
       "<table border=\"1\" class=\"dataframe\">\n",
       "  <thead>\n",
       "    <tr style=\"text-align: right;\">\n",
       "      <th></th>\n",
       "      <th>VIF Factor</th>\n",
       "      <th>features</th>\n",
       "    </tr>\n",
       "  </thead>\n",
       "  <tbody>\n",
       "    <tr>\n",
       "      <th>0</th>\n",
       "      <td>1.303464</td>\n",
       "      <td>age_bins</td>\n",
       "    </tr>\n",
       "    <tr>\n",
       "      <th>1</th>\n",
       "      <td>4.363195</td>\n",
       "      <td>al_cat</td>\n",
       "    </tr>\n",
       "    <tr>\n",
       "      <th>2</th>\n",
       "      <td>1.717832</td>\n",
       "      <td>su_bin</td>\n",
       "    </tr>\n",
       "    <tr>\n",
       "      <th>3</th>\n",
       "      <td>2.000345</td>\n",
       "      <td>bgr_bin</td>\n",
       "    </tr>\n",
       "    <tr>\n",
       "      <th>4</th>\n",
       "      <td>2.915930</td>\n",
       "      <td>bu_bin</td>\n",
       "    </tr>\n",
       "    <tr>\n",
       "      <th>5</th>\n",
       "      <td>4.132757</td>\n",
       "      <td>sc_bin</td>\n",
       "    </tr>\n",
       "    <tr>\n",
       "      <th>6</th>\n",
       "      <td>4.255567</td>\n",
       "      <td>log_norm_sc</td>\n",
       "    </tr>\n",
       "    <tr>\n",
       "      <th>7</th>\n",
       "      <td>inf</td>\n",
       "      <td>sod_bin</td>\n",
       "    </tr>\n",
       "    <tr>\n",
       "      <th>8</th>\n",
       "      <td>1.895238</td>\n",
       "      <td>log_norm_sod</td>\n",
       "    </tr>\n",
       "    <tr>\n",
       "      <th>9</th>\n",
       "      <td>inf</td>\n",
       "      <td>norm_sod_bin</td>\n",
       "    </tr>\n",
       "    <tr>\n",
       "      <th>10</th>\n",
       "      <td>3.195413</td>\n",
       "      <td>hemo_bin</td>\n",
       "    </tr>\n",
       "    <tr>\n",
       "      <th>11</th>\n",
       "      <td>3.122155</td>\n",
       "      <td>rc_bin</td>\n",
       "    </tr>\n",
       "    <tr>\n",
       "      <th>12</th>\n",
       "      <td>1.361693</td>\n",
       "      <td>wc_bin</td>\n",
       "    </tr>\n",
       "    <tr>\n",
       "      <th>13</th>\n",
       "      <td>5.389908</td>\n",
       "      <td>sc_bu_bin</td>\n",
       "    </tr>\n",
       "    <tr>\n",
       "      <th>14</th>\n",
       "      <td>3.686788</td>\n",
       "      <td>acr</td>\n",
       "    </tr>\n",
       "  </tbody>\n",
       "</table>\n",
       "</div>"
      ],
      "text/plain": [
       "    VIF Factor      features\n",
       "0     1.303464      age_bins\n",
       "1     4.363195        al_cat\n",
       "2     1.717832        su_bin\n",
       "3     2.000345       bgr_bin\n",
       "4     2.915930        bu_bin\n",
       "5     4.132757        sc_bin\n",
       "6     4.255567   log_norm_sc\n",
       "7          inf       sod_bin\n",
       "8     1.895238  log_norm_sod\n",
       "9          inf  norm_sod_bin\n",
       "10    3.195413      hemo_bin\n",
       "11    3.122155        rc_bin\n",
       "12    1.361693        wc_bin\n",
       "13    5.389908     sc_bu_bin\n",
       "14    3.686788           acr"
      ]
     },
     "execution_count": 50,
     "metadata": {},
     "output_type": "execute_result"
    }
   ],
   "source": [
    "vif"
   ]
  },
  {
   "cell_type": "markdown",
   "metadata": {},
   "source": [
    "### By adding small random noise to the dataset and checking for weights(Perturbation Test)"
   ]
  },
  {
   "cell_type": "code",
   "execution_count": 51,
   "metadata": {},
   "outputs": [
    {
     "data": {
      "text/html": [
       "<div>\n",
       "<style scoped>\n",
       "    .dataframe tbody tr th:only-of-type {\n",
       "        vertical-align: middle;\n",
       "    }\n",
       "\n",
       "    .dataframe tbody tr th {\n",
       "        vertical-align: top;\n",
       "    }\n",
       "\n",
       "    .dataframe thead th {\n",
       "        text-align: right;\n",
       "    }\n",
       "</style>\n",
       "<table border=\"1\" class=\"dataframe\">\n",
       "  <thead>\n",
       "    <tr style=\"text-align: right;\">\n",
       "      <th></th>\n",
       "      <th>age_bins</th>\n",
       "      <th>al_cat</th>\n",
       "      <th>su_bin</th>\n",
       "      <th>bgr_bin</th>\n",
       "      <th>bu_bin</th>\n",
       "      <th>sc_bin</th>\n",
       "      <th>log_norm_sc</th>\n",
       "      <th>sod_bin</th>\n",
       "      <th>log_norm_sod</th>\n",
       "      <th>norm_sod_bin</th>\n",
       "      <th>hemo_bin</th>\n",
       "      <th>rc_bin</th>\n",
       "      <th>wc_bin</th>\n",
       "      <th>sc_bu_bin</th>\n",
       "      <th>acr</th>\n",
       "    </tr>\n",
       "  </thead>\n",
       "  <tbody>\n",
       "    <tr>\n",
       "      <th>0</th>\n",
       "      <td>1.110726</td>\n",
       "      <td>0.685994</td>\n",
       "      <td>-0.391348</td>\n",
       "      <td>-0.60744</td>\n",
       "      <td>1.524689</td>\n",
       "      <td>0.954174</td>\n",
       "      <td>0.422627</td>\n",
       "      <td>0.813841</td>\n",
       "      <td>-0.002583</td>\n",
       "      <td>0.813841</td>\n",
       "      <td>-0.903107</td>\n",
       "      <td>-0.946729</td>\n",
       "      <td>0.868000</td>\n",
       "      <td>1.142938</td>\n",
       "      <td>0.640168</td>\n",
       "    </tr>\n",
       "    <tr>\n",
       "      <th>1</th>\n",
       "      <td>-1.201028</td>\n",
       "      <td>-0.685994</td>\n",
       "      <td>-0.391348</td>\n",
       "      <td>-0.60744</td>\n",
       "      <td>-0.655872</td>\n",
       "      <td>-1.048027</td>\n",
       "      <td>-0.454301</td>\n",
       "      <td>-1.228741</td>\n",
       "      <td>-0.854656</td>\n",
       "      <td>-1.228741</td>\n",
       "      <td>1.107288</td>\n",
       "      <td>1.056268</td>\n",
       "      <td>-1.152073</td>\n",
       "      <td>-0.874938</td>\n",
       "      <td>-0.525719</td>\n",
       "    </tr>\n",
       "  </tbody>\n",
       "</table>\n",
       "</div>"
      ],
      "text/plain": [
       "   age_bins    al_cat    su_bin  bgr_bin    bu_bin    sc_bin  log_norm_sc  \\\n",
       "0  1.110726  0.685994 -0.391348 -0.60744  1.524689  0.954174     0.422627   \n",
       "1 -1.201028 -0.685994 -0.391348 -0.60744 -0.655872 -1.048027    -0.454301   \n",
       "\n",
       "    sod_bin  log_norm_sod  norm_sod_bin  hemo_bin    rc_bin    wc_bin  \\\n",
       "0  0.813841     -0.002583      0.813841 -0.903107 -0.946729  0.868000   \n",
       "1 -1.228741     -0.854656     -1.228741  1.107288  1.056268 -1.152073   \n",
       "\n",
       "   sc_bu_bin       acr  \n",
       "0   1.142938  0.640168  \n",
       "1  -0.874938 -0.525719  "
      ]
     },
     "execution_count": 51,
     "metadata": {},
     "output_type": "execute_result"
    }
   ],
   "source": [
    "random_noise = 0.5\n",
    "std_train_pert_df = pd.DataFrame()\n",
    "std_train_pert_df = std_train_df\n",
    "\n",
    "std_train_pert_df = std_train_pert_df + random_noise\n",
    "std_train_df.head(2)"
   ]
  },
  {
   "cell_type": "code",
   "execution_count": 52,
   "metadata": {},
   "outputs": [
    {
     "data": {
      "text/html": [
       "<div>\n",
       "<style scoped>\n",
       "    .dataframe tbody tr th:only-of-type {\n",
       "        vertical-align: middle;\n",
       "    }\n",
       "\n",
       "    .dataframe tbody tr th {\n",
       "        vertical-align: top;\n",
       "    }\n",
       "\n",
       "    .dataframe thead th {\n",
       "        text-align: right;\n",
       "    }\n",
       "</style>\n",
       "<table border=\"1\" class=\"dataframe\">\n",
       "  <thead>\n",
       "    <tr style=\"text-align: right;\">\n",
       "      <th></th>\n",
       "      <th>age_bins</th>\n",
       "      <th>al_cat</th>\n",
       "      <th>su_bin</th>\n",
       "      <th>bgr_bin</th>\n",
       "      <th>bu_bin</th>\n",
       "      <th>sc_bin</th>\n",
       "      <th>log_norm_sc</th>\n",
       "      <th>sod_bin</th>\n",
       "      <th>log_norm_sod</th>\n",
       "      <th>norm_sod_bin</th>\n",
       "      <th>hemo_bin</th>\n",
       "      <th>rc_bin</th>\n",
       "      <th>wc_bin</th>\n",
       "      <th>sc_bu_bin</th>\n",
       "      <th>acr</th>\n",
       "    </tr>\n",
       "  </thead>\n",
       "  <tbody>\n",
       "    <tr>\n",
       "      <th>0</th>\n",
       "      <td>1.610726</td>\n",
       "      <td>1.185994</td>\n",
       "      <td>0.108652</td>\n",
       "      <td>-0.10744</td>\n",
       "      <td>2.024689</td>\n",
       "      <td>1.454174</td>\n",
       "      <td>0.922627</td>\n",
       "      <td>1.313841</td>\n",
       "      <td>0.497417</td>\n",
       "      <td>1.313841</td>\n",
       "      <td>-0.403107</td>\n",
       "      <td>-0.446729</td>\n",
       "      <td>1.368000</td>\n",
       "      <td>1.642938</td>\n",
       "      <td>1.140168</td>\n",
       "    </tr>\n",
       "    <tr>\n",
       "      <th>1</th>\n",
       "      <td>-0.701028</td>\n",
       "      <td>-0.185994</td>\n",
       "      <td>0.108652</td>\n",
       "      <td>-0.10744</td>\n",
       "      <td>-0.155872</td>\n",
       "      <td>-0.548027</td>\n",
       "      <td>0.045699</td>\n",
       "      <td>-0.728741</td>\n",
       "      <td>-0.354656</td>\n",
       "      <td>-0.728741</td>\n",
       "      <td>1.607288</td>\n",
       "      <td>1.556268</td>\n",
       "      <td>-0.652073</td>\n",
       "      <td>-0.374938</td>\n",
       "      <td>-0.025719</td>\n",
       "    </tr>\n",
       "  </tbody>\n",
       "</table>\n",
       "</div>"
      ],
      "text/plain": [
       "   age_bins    al_cat    su_bin  bgr_bin    bu_bin    sc_bin  log_norm_sc  \\\n",
       "0  1.610726  1.185994  0.108652 -0.10744  2.024689  1.454174     0.922627   \n",
       "1 -0.701028 -0.185994  0.108652 -0.10744 -0.155872 -0.548027     0.045699   \n",
       "\n",
       "    sod_bin  log_norm_sod  norm_sod_bin  hemo_bin    rc_bin    wc_bin  \\\n",
       "0  1.313841      0.497417      1.313841 -0.403107 -0.446729  1.368000   \n",
       "1 -0.728741     -0.354656     -0.728741  1.607288  1.556268 -0.652073   \n",
       "\n",
       "   sc_bu_bin       acr  \n",
       "0   1.642938  1.140168  \n",
       "1  -0.374938 -0.025719  "
      ]
     },
     "execution_count": 52,
     "metadata": {},
     "output_type": "execute_result"
    }
   ],
   "source": [
    "std_train_pert_df.head(2)"
   ]
  },
  {
   "cell_type": "code",
   "execution_count": 53,
   "metadata": {},
   "outputs": [
    {
     "data": {
      "text/plain": [
       "LogisticRegression(C=1.0, class_weight=None, dual=False, fit_intercept=True,\n",
       "                   intercept_scaling=1, l1_ratio=1.0, max_iter=1000,\n",
       "                   multi_class='auto', n_jobs=None, penalty='elasticnet',\n",
       "                   random_state=None, solver='saga', tol=0.0001, verbose=0,\n",
       "                   warm_start=False)"
      ]
     },
     "execution_count": 53,
     "metadata": {},
     "output_type": "execute_result"
    }
   ],
   "source": [
    "pert_clf = LogisticRegression(solver = 'saga',penalty = 'elasticnet',l1_ratio = 1.0,max_iter = 1000)\n",
    "pert_clf.fit(std_train_pert_df,train_y)"
   ]
  },
  {
   "cell_type": "markdown",
   "metadata": {},
   "source": [
    "## Creating a dataframe of feature columns and their corresponding weights"
   ]
  },
  {
   "cell_type": "code",
   "execution_count": 54,
   "metadata": {},
   "outputs": [],
   "source": [
    "feat_imp_df = pd.DataFrame({'feat_imp' : clf.coef_[0],'cols' : std_train_df.columns})\n",
    "feat_imp_pert_df = pd.DataFrame({'feat_imp' : pert_clf.coef_[0],'cols' : std_train_df.columns})"
   ]
  },
  {
   "cell_type": "code",
   "execution_count": 55,
   "metadata": {},
   "outputs": [
    {
     "data": {
      "text/html": [
       "<div>\n",
       "<style scoped>\n",
       "    .dataframe tbody tr th:only-of-type {\n",
       "        vertical-align: middle;\n",
       "    }\n",
       "\n",
       "    .dataframe tbody tr th {\n",
       "        vertical-align: top;\n",
       "    }\n",
       "\n",
       "    .dataframe thead th {\n",
       "        text-align: right;\n",
       "    }\n",
       "</style>\n",
       "<table border=\"1\" class=\"dataframe\">\n",
       "  <thead>\n",
       "    <tr style=\"text-align: right;\">\n",
       "      <th></th>\n",
       "      <th>feat_imp</th>\n",
       "      <th>cols</th>\n",
       "    </tr>\n",
       "  </thead>\n",
       "  <tbody>\n",
       "    <tr>\n",
       "      <th>0</th>\n",
       "      <td>0.000000</td>\n",
       "      <td>age_bins</td>\n",
       "    </tr>\n",
       "    <tr>\n",
       "      <th>1</th>\n",
       "      <td>0.000000</td>\n",
       "      <td>al_cat</td>\n",
       "    </tr>\n",
       "    <tr>\n",
       "      <th>2</th>\n",
       "      <td>0.000000</td>\n",
       "      <td>su_bin</td>\n",
       "    </tr>\n",
       "    <tr>\n",
       "      <th>3</th>\n",
       "      <td>2.435417</td>\n",
       "      <td>bgr_bin</td>\n",
       "    </tr>\n",
       "    <tr>\n",
       "      <th>4</th>\n",
       "      <td>0.000000</td>\n",
       "      <td>bu_bin</td>\n",
       "    </tr>\n",
       "    <tr>\n",
       "      <th>5</th>\n",
       "      <td>0.563353</td>\n",
       "      <td>sc_bin</td>\n",
       "    </tr>\n",
       "    <tr>\n",
       "      <th>6</th>\n",
       "      <td>0.924474</td>\n",
       "      <td>log_norm_sc</td>\n",
       "    </tr>\n",
       "    <tr>\n",
       "      <th>7</th>\n",
       "      <td>0.208484</td>\n",
       "      <td>sod_bin</td>\n",
       "    </tr>\n",
       "    <tr>\n",
       "      <th>8</th>\n",
       "      <td>0.000000</td>\n",
       "      <td>log_norm_sod</td>\n",
       "    </tr>\n",
       "    <tr>\n",
       "      <th>9</th>\n",
       "      <td>0.208484</td>\n",
       "      <td>norm_sod_bin</td>\n",
       "    </tr>\n",
       "    <tr>\n",
       "      <th>10</th>\n",
       "      <td>-1.073960</td>\n",
       "      <td>hemo_bin</td>\n",
       "    </tr>\n",
       "    <tr>\n",
       "      <th>11</th>\n",
       "      <td>-1.987731</td>\n",
       "      <td>rc_bin</td>\n",
       "    </tr>\n",
       "    <tr>\n",
       "      <th>12</th>\n",
       "      <td>0.137822</td>\n",
       "      <td>wc_bin</td>\n",
       "    </tr>\n",
       "    <tr>\n",
       "      <th>13</th>\n",
       "      <td>0.857917</td>\n",
       "      <td>sc_bu_bin</td>\n",
       "    </tr>\n",
       "    <tr>\n",
       "      <th>14</th>\n",
       "      <td>1.072042</td>\n",
       "      <td>acr</td>\n",
       "    </tr>\n",
       "  </tbody>\n",
       "</table>\n",
       "</div>"
      ],
      "text/plain": [
       "    feat_imp          cols\n",
       "0   0.000000      age_bins\n",
       "1   0.000000        al_cat\n",
       "2   0.000000        su_bin\n",
       "3   2.435417       bgr_bin\n",
       "4   0.000000        bu_bin\n",
       "5   0.563353        sc_bin\n",
       "6   0.924474   log_norm_sc\n",
       "7   0.208484       sod_bin\n",
       "8   0.000000  log_norm_sod\n",
       "9   0.208484  norm_sod_bin\n",
       "10 -1.073960      hemo_bin\n",
       "11 -1.987731        rc_bin\n",
       "12  0.137822        wc_bin\n",
       "13  0.857917     sc_bu_bin\n",
       "14  1.072042           acr"
      ]
     },
     "execution_count": 55,
     "metadata": {},
     "output_type": "execute_result"
    }
   ],
   "source": [
    "feat_imp_df"
   ]
  },
  {
   "cell_type": "code",
   "execution_count": 56,
   "metadata": {},
   "outputs": [
    {
     "data": {
      "text/html": [
       "<div>\n",
       "<style scoped>\n",
       "    .dataframe tbody tr th:only-of-type {\n",
       "        vertical-align: middle;\n",
       "    }\n",
       "\n",
       "    .dataframe tbody tr th {\n",
       "        vertical-align: top;\n",
       "    }\n",
       "\n",
       "    .dataframe thead th {\n",
       "        text-align: right;\n",
       "    }\n",
       "</style>\n",
       "<table border=\"1\" class=\"dataframe\">\n",
       "  <thead>\n",
       "    <tr style=\"text-align: right;\">\n",
       "      <th></th>\n",
       "      <th>feat_imp</th>\n",
       "      <th>cols</th>\n",
       "    </tr>\n",
       "  </thead>\n",
       "  <tbody>\n",
       "    <tr>\n",
       "      <th>0</th>\n",
       "      <td>0.000000</td>\n",
       "      <td>age_bins</td>\n",
       "    </tr>\n",
       "    <tr>\n",
       "      <th>1</th>\n",
       "      <td>0.000000</td>\n",
       "      <td>al_cat</td>\n",
       "    </tr>\n",
       "    <tr>\n",
       "      <th>2</th>\n",
       "      <td>0.000000</td>\n",
       "      <td>su_bin</td>\n",
       "    </tr>\n",
       "    <tr>\n",
       "      <th>3</th>\n",
       "      <td>2.428128</td>\n",
       "      <td>bgr_bin</td>\n",
       "    </tr>\n",
       "    <tr>\n",
       "      <th>4</th>\n",
       "      <td>0.000000</td>\n",
       "      <td>bu_bin</td>\n",
       "    </tr>\n",
       "    <tr>\n",
       "      <th>5</th>\n",
       "      <td>0.556606</td>\n",
       "      <td>sc_bin</td>\n",
       "    </tr>\n",
       "    <tr>\n",
       "      <th>6</th>\n",
       "      <td>0.890465</td>\n",
       "      <td>log_norm_sc</td>\n",
       "    </tr>\n",
       "    <tr>\n",
       "      <th>7</th>\n",
       "      <td>0.216665</td>\n",
       "      <td>sod_bin</td>\n",
       "    </tr>\n",
       "    <tr>\n",
       "      <th>8</th>\n",
       "      <td>0.000000</td>\n",
       "      <td>log_norm_sod</td>\n",
       "    </tr>\n",
       "    <tr>\n",
       "      <th>9</th>\n",
       "      <td>0.216665</td>\n",
       "      <td>norm_sod_bin</td>\n",
       "    </tr>\n",
       "    <tr>\n",
       "      <th>10</th>\n",
       "      <td>-1.066900</td>\n",
       "      <td>hemo_bin</td>\n",
       "    </tr>\n",
       "    <tr>\n",
       "      <th>11</th>\n",
       "      <td>-1.979326</td>\n",
       "      <td>rc_bin</td>\n",
       "    </tr>\n",
       "    <tr>\n",
       "      <th>12</th>\n",
       "      <td>0.144826</td>\n",
       "      <td>wc_bin</td>\n",
       "    </tr>\n",
       "    <tr>\n",
       "      <th>13</th>\n",
       "      <td>0.924297</td>\n",
       "      <td>sc_bu_bin</td>\n",
       "    </tr>\n",
       "    <tr>\n",
       "      <th>14</th>\n",
       "      <td>1.070454</td>\n",
       "      <td>acr</td>\n",
       "    </tr>\n",
       "  </tbody>\n",
       "</table>\n",
       "</div>"
      ],
      "text/plain": [
       "    feat_imp          cols\n",
       "0   0.000000      age_bins\n",
       "1   0.000000        al_cat\n",
       "2   0.000000        su_bin\n",
       "3   2.428128       bgr_bin\n",
       "4   0.000000        bu_bin\n",
       "5   0.556606        sc_bin\n",
       "6   0.890465   log_norm_sc\n",
       "7   0.216665       sod_bin\n",
       "8   0.000000  log_norm_sod\n",
       "9   0.216665  norm_sod_bin\n",
       "10 -1.066900      hemo_bin\n",
       "11 -1.979326        rc_bin\n",
       "12  0.144826        wc_bin\n",
       "13  0.924297     sc_bu_bin\n",
       "14  1.070454           acr"
      ]
     },
     "execution_count": 56,
     "metadata": {},
     "output_type": "execute_result"
    }
   ],
   "source": [
    "feat_imp_pert_df"
   ]
  },
  {
   "cell_type": "markdown",
   "metadata": {},
   "source": [
    "if you compare the feature importances it can be observed that with small change in data the weights don't change much.<br>\n",
    "Which suggests that there is very less multicollinearity between features.<br>\n",
    "Also it can be seen that a lot of features are showing a weight 0 which suggests that they are not the important ones and their coefficients have been brought to 0 by L1-regularization.\n",
    "## Let's save our model for further use"
   ]
  },
  {
   "cell_type": "code",
   "execution_count": 57,
   "metadata": {},
   "outputs": [],
   "source": [
    "import pickle\n",
    "sampleFile = open('regressor','wb')\n",
    "pickle.dump(clf,sampleFile)\n",
    "sampleFile.close()"
   ]
  },
  {
   "cell_type": "code",
   "execution_count": 58,
   "metadata": {},
   "outputs": [],
   "source": [
    "sampleFile = open('scaler','wb')\n",
    "pickle.dump(scaler,sampleFile)\n",
    "sampleFile.close()"
   ]
  },
  {
   "cell_type": "code",
   "execution_count": 59,
   "metadata": {},
   "outputs": [
    {
     "data": {
      "text/plain": [
       "array([[10, 10, 10, 10]])"
      ]
     },
     "execution_count": 59,
     "metadata": {},
     "output_type": "execute_result"
    }
   ],
   "source": [
    "features = [10,10,10,10]\n",
    "np.array(features).reshape([-1,4])"
   ]
  },
  {
   "cell_type": "code",
   "execution_count": 60,
   "metadata": {},
   "outputs": [],
   "source": [
    "sampleFile = open('X_test','rb')\n",
    "x_test = pickle.load(sampleFile)\n",
    "sampleFile.close()\n",
    "\n",
    "sampleFile = open('y_test','rb')\n",
    "y_test = pickle.load(sampleFile)\n",
    "sampleFile.close()"
   ]
  },
  {
   "cell_type": "code",
   "execution_count": 61,
   "metadata": {},
   "outputs": [
    {
     "data": {
      "text/html": [
       "<div>\n",
       "<style scoped>\n",
       "    .dataframe tbody tr th:only-of-type {\n",
       "        vertical-align: middle;\n",
       "    }\n",
       "\n",
       "    .dataframe tbody tr th {\n",
       "        vertical-align: top;\n",
       "    }\n",
       "\n",
       "    .dataframe thead th {\n",
       "        text-align: right;\n",
       "    }\n",
       "</style>\n",
       "<table border=\"1\" class=\"dataframe\">\n",
       "  <thead>\n",
       "    <tr style=\"text-align: right;\">\n",
       "      <th></th>\n",
       "      <th>id</th>\n",
       "      <th>age</th>\n",
       "      <th>bp</th>\n",
       "      <th>sg</th>\n",
       "      <th>al</th>\n",
       "      <th>su</th>\n",
       "      <th>rbc</th>\n",
       "      <th>pc</th>\n",
       "      <th>pcc</th>\n",
       "      <th>ba</th>\n",
       "      <th>...</th>\n",
       "      <th>pcv</th>\n",
       "      <th>wc</th>\n",
       "      <th>rc</th>\n",
       "      <th>htn</th>\n",
       "      <th>dm</th>\n",
       "      <th>cad</th>\n",
       "      <th>appet</th>\n",
       "      <th>pe</th>\n",
       "      <th>ane</th>\n",
       "      <th>classification</th>\n",
       "    </tr>\n",
       "  </thead>\n",
       "  <tbody>\n",
       "    <tr>\n",
       "      <th>209</th>\n",
       "      <td>209</td>\n",
       "      <td>19.0</td>\n",
       "      <td>70.0</td>\n",
       "      <td>1.020</td>\n",
       "      <td>0.0</td>\n",
       "      <td>0.0</td>\n",
       "      <td>1</td>\n",
       "      <td>0.0</td>\n",
       "      <td>notpresent</td>\n",
       "      <td>notpresent</td>\n",
       "      <td>...</td>\n",
       "      <td>33</td>\n",
       "      <td>6900</td>\n",
       "      <td>3.9</td>\n",
       "      <td>no</td>\n",
       "      <td>no</td>\n",
       "      <td>no</td>\n",
       "      <td>good</td>\n",
       "      <td>no</td>\n",
       "      <td>no</td>\n",
       "      <td>ckd</td>\n",
       "    </tr>\n",
       "    <tr>\n",
       "      <th>280</th>\n",
       "      <td>280</td>\n",
       "      <td>47.0</td>\n",
       "      <td>80.0</td>\n",
       "      <td>1.020</td>\n",
       "      <td>0.0</td>\n",
       "      <td>0.0</td>\n",
       "      <td>0</td>\n",
       "      <td>1.0</td>\n",
       "      <td>notpresent</td>\n",
       "      <td>notpresent</td>\n",
       "      <td>...</td>\n",
       "      <td>52</td>\n",
       "      <td>8100</td>\n",
       "      <td>5.2</td>\n",
       "      <td>no</td>\n",
       "      <td>no</td>\n",
       "      <td>no</td>\n",
       "      <td>good</td>\n",
       "      <td>no</td>\n",
       "      <td>no</td>\n",
       "      <td>notckd</td>\n",
       "    </tr>\n",
       "    <tr>\n",
       "      <th>33</th>\n",
       "      <td>33</td>\n",
       "      <td>60.0</td>\n",
       "      <td>100.0</td>\n",
       "      <td>1.020</td>\n",
       "      <td>2.0</td>\n",
       "      <td>0.0</td>\n",
       "      <td>1</td>\n",
       "      <td>1.0</td>\n",
       "      <td>notpresent</td>\n",
       "      <td>notpresent</td>\n",
       "      <td>...</td>\n",
       "      <td>29</td>\n",
       "      <td>8900</td>\n",
       "      <td>3.9</td>\n",
       "      <td>yes</td>\n",
       "      <td>no</td>\n",
       "      <td>no</td>\n",
       "      <td>poor</td>\n",
       "      <td>no</td>\n",
       "      <td>no</td>\n",
       "      <td>ckd</td>\n",
       "    </tr>\n",
       "    <tr>\n",
       "      <th>210</th>\n",
       "      <td>210</td>\n",
       "      <td>59.0</td>\n",
       "      <td>100.0</td>\n",
       "      <td>1.015</td>\n",
       "      <td>4.0</td>\n",
       "      <td>2.0</td>\n",
       "      <td>0</td>\n",
       "      <td>0.0</td>\n",
       "      <td>notpresent</td>\n",
       "      <td>notpresent</td>\n",
       "      <td>...</td>\n",
       "      <td>20</td>\n",
       "      <td>9800</td>\n",
       "      <td>3.9</td>\n",
       "      <td>yes</td>\n",
       "      <td>yes</td>\n",
       "      <td>yes</td>\n",
       "      <td>good</td>\n",
       "      <td>no</td>\n",
       "      <td>yes</td>\n",
       "      <td>ckd</td>\n",
       "    </tr>\n",
       "    <tr>\n",
       "      <th>93</th>\n",
       "      <td>93</td>\n",
       "      <td>73.0</td>\n",
       "      <td>100.0</td>\n",
       "      <td>1.010</td>\n",
       "      <td>3.0</td>\n",
       "      <td>2.0</td>\n",
       "      <td>1</td>\n",
       "      <td>1.0</td>\n",
       "      <td>present</td>\n",
       "      <td>notpresent</td>\n",
       "      <td>...</td>\n",
       "      <td>30</td>\n",
       "      <td>7000</td>\n",
       "      <td>3.2</td>\n",
       "      <td>yes</td>\n",
       "      <td>yes</td>\n",
       "      <td>yes</td>\n",
       "      <td>poor</td>\n",
       "      <td>no</td>\n",
       "      <td>no</td>\n",
       "      <td>ckd</td>\n",
       "    </tr>\n",
       "  </tbody>\n",
       "</table>\n",
       "<p>5 rows × 26 columns</p>\n",
       "</div>"
      ],
      "text/plain": [
       "      id   age     bp     sg   al   su  rbc   pc         pcc          ba  ...  \\\n",
       "209  209  19.0   70.0  1.020  0.0  0.0    1  0.0  notpresent  notpresent  ...   \n",
       "280  280  47.0   80.0  1.020  0.0  0.0    0  1.0  notpresent  notpresent  ...   \n",
       "33    33  60.0  100.0  1.020  2.0  0.0    1  1.0  notpresent  notpresent  ...   \n",
       "210  210  59.0  100.0  1.015  4.0  2.0    0  0.0  notpresent  notpresent  ...   \n",
       "93    93  73.0  100.0  1.010  3.0  2.0    1  1.0     present  notpresent  ...   \n",
       "\n",
       "     pcv    wc   rc  htn   dm  cad  appet  pe  ane classification  \n",
       "209   33  6900  3.9   no   no   no   good  no   no            ckd  \n",
       "280   52  8100  5.2   no   no   no   good  no   no         notckd  \n",
       "33    29  8900  3.9  yes   no   no   poor  no   no            ckd  \n",
       "210   20  9800  3.9  yes  yes  yes   good  no  yes            ckd  \n",
       "93    30  7000  3.2  yes  yes  yes   poor  no   no            ckd  \n",
       "\n",
       "[5 rows x 26 columns]"
      ]
     },
     "execution_count": 61,
     "metadata": {},
     "output_type": "execute_result"
    }
   ],
   "source": [
    "test_df = pd.DataFrame()\n",
    "test_df = pd.concat([x_test,y_test],axis = 1)\n",
    "test_df.head()"
   ]
  },
  {
   "cell_type": "code",
   "execution_count": 62,
   "metadata": {},
   "outputs": [
    {
     "data": {
      "text/plain": [
       "id                       280\n",
       "age                       47\n",
       "bp                        80\n",
       "sg                      1.02\n",
       "al                         0\n",
       "su                         0\n",
       "rbc                        0\n",
       "pc                         1\n",
       "pcc               notpresent\n",
       "ba                notpresent\n",
       "bgr                       93\n",
       "bu                        33\n",
       "sc                       0.9\n",
       "sod                      144\n",
       "pot                      4.5\n",
       "hemo                    13.3\n",
       "pcv                       52\n",
       "wc                      8100\n",
       "rc                       5.2\n",
       "htn                       no\n",
       "dm                        no\n",
       "cad                       no\n",
       "appet                   good\n",
       "pe                        no\n",
       "ane                       no\n",
       "classification        notckd\n",
       "Name: 280, dtype: object"
      ]
     },
     "execution_count": 62,
     "metadata": {},
     "output_type": "execute_result"
    }
   ],
   "source": [
    "test_df.loc[280]"
   ]
  },
  {
   "cell_type": "markdown",
   "metadata": {},
   "source": [
    "## Models to try \n",
    "* KNN\n",
    "* RBF Kernel \n",
    "* Decision Tree \n",
    "* Random Forest\n",
    "* XGBoost"
   ]
  },
  {
   "cell_type": "markdown",
   "metadata": {},
   "source": [
    "## Variable name for train and Cv data\n",
    "* Train Data : std_train_df,train_y\n",
    "* CV Data : std_cv_df,cv_y"
   ]
  },
  {
   "cell_type": "markdown",
   "metadata": {},
   "source": [
    "## K-Nearest Neighbor Implementation"
   ]
  },
  {
   "cell_type": "code",
   "execution_count": 63,
   "metadata": {},
   "outputs": [
    {
     "name": "stdout",
     "output_type": "stream",
     "text": [
      "Hyper-parameters :  [1, 3, 5, 7, 9, 11, 13, 15, 17, 19, 21]\n"
     ]
    }
   ],
   "source": [
    "from sklearn.neighbors import KNeighborsClassifier\n",
    "\n",
    "neighbors = [i for i in range(1,23,2)]\n",
    "print(\"Hyper-parameters : \",neighbors)\n",
    "\n",
    "cv_auc_score_dict = {}\n",
    "cv_log_loss_dict = {}\n",
    "\n",
    "train_auc_score_dict = {}\n",
    "train_log_loss_dict = {}\n",
    "\n",
    "for n in neighbors:\n",
    "    \n",
    "    neigh = KNeighborsClassifier(n_neighbors=n)\n",
    "    neigh.fit(std_train_df,train_y)\n",
    "    \n",
    "    cv_pred = neigh.predict(std_cv_df)\n",
    "    cv_pred_prob = neigh.predict_proba(std_cv_df)\n",
    "    \n",
    "    train_pred = neigh.predict(std_train_df)\n",
    "    train_pred_prob = neigh.predict_proba(std_train_df)\n",
    "    \n",
    "    cv_auc_score = roc_auc_score(cv_y,cv_pred_prob[:,1])\n",
    "    cv_lloss = log_loss(cv_y,cv_pred_prob[:,1])\n",
    "    \n",
    "    train_auc_score = roc_auc_score(train_y,train_pred_prob[:,1])\n",
    "    train_lloss = log_loss(train_y,train_pred_prob[:,1])\n",
    "    \n",
    "    cv_auc_score_dict[str(n)] = cv_auc_score\n",
    "    cv_log_loss_dict[str(n)] = cv_lloss\n",
    "    \n",
    "    train_auc_score_dict[str(n)] = train_auc_score\n",
    "    train_log_loss_dict[str(n)] = train_lloss\n",
    "    "
   ]
  },
  {
   "cell_type": "code",
   "execution_count": 64,
   "metadata": {},
   "outputs": [
    {
     "data": {
      "image/png": "[encoded data removed]",
      "text/plain": [
       "<Figure size 720x720 with 1 Axes>"
      ]
     },
     "metadata": {
      "needs_background": "light"
     },
     "output_type": "display_data"
    }
   ],
   "source": [
    "y_cv_auc = list(cv_auc_score_dict.values())\n",
    "y_train_auc = list(train_auc_score_dict.values())\n",
    "xi = [i for i in range(10)]\n",
    "\n",
    "# plot the index for the x-values\n",
    "plt.close()\n",
    "plt.figure(figsize = (10,10))\n",
    "\n",
    "plt.plot(neighbors, y_cv_auc, marker='o', linestyle='--', color='r',label='Cross Validation AUC')\n",
    "plt.plot(neighbors, y_train_auc,marker ='o',linestyle='--',color='b',label='Train AUC')\n",
    "\n",
    "plt.xlabel('N-Neighbors')\n",
    "plt.ylabel('AUC Score')\n",
    "plt.xticks(neighbors,neighbors,rotation=30)\n",
    "plt.title('Plot of AUC Score for different hyper-parameter values')\n",
    "plt.legend()\n",
    "plt.show()"
   ]
  },
  {
   "cell_type": "code",
   "execution_count": 65,
   "metadata": {},
   "outputs": [
    {
     "data": {
      "image/png": "[encoded data removed]",
      "text/plain": [
       "<Figure size 720x720 with 1 Axes>"
      ]
     },
     "metadata": {
      "needs_background": "light"
     },
     "output_type": "display_data"
    }
   ],
   "source": [
    "y_cv_ll = list(cv_log_loss_dict.values())\n",
    "y_train_ll = list(train_log_loss_dict.values())\n",
    "\n",
    "# plot the index for the x-values\n",
    "plt.close()\n",
    "plt.figure(figsize = (10,10))\n",
    "\n",
    "plt.plot(neighbors, y_cv_ll, marker='o', linestyle='--', color='r',label='Cross Validation LogLoss')\n",
    "plt.plot(neighbors, y_train_ll,marker ='o',linestyle='--',color='b',label='Train LogLoss')\n",
    "\n",
    "plt.xlabel('N-neighbors')\n",
    "plt.ylabel('Log Loss')\n",
    "plt.xticks(neighbors,neighbors,rotation=30)\n",
    "plt.title('Plot of Log Loss Score for different hyper-parameter values')\n",
    "plt.legend()\n",
    "plt.show()"
   ]
  },
  {
   "cell_type": "markdown",
   "metadata": {},
   "source": [
    "Differences in Log-Loss and AUC for both train and cross-validation data is very small.<br>\n",
    "With increase in Neighbors the train and cross validation log-loss is increasing though the log-loss level is itself very small.<br>\n",
    "Looking at both the plots, K=3 seems to be a reasonable value of K."
   ]
  },
  {
   "cell_type": "markdown",
   "metadata": {},
   "source": [
    "## RBF SVC\n",
    "* Since we have already tried Logistic Regression with Elastic net regularization, we aren't using Linear SVC since expected results would be nevertheless same as that of logistic regression.\n",
    "* Even with Kernels for SVC we are using rbf which is the default since we don't know of any dedicated kernel built to solve this problem."
   ]
  },
  {
   "cell_type": "code",
   "execution_count": 66,
   "metadata": {},
   "outputs": [],
   "source": [
    "from sklearn.svm import SVC\n",
    "\n",
    "Cs = [10**i for i in range(-3,4,1)]\n",
    "gammas = [10**i for i in range(-3,4,1)]\n",
    "\n",
    "c_cv_auc_score = []\n",
    "c_cv_log_loss = []\n",
    "\n",
    "c_train_auc_score= []\n",
    "c_train_log_loss = []\n",
    "\n",
    "for c in Cs:\n",
    "    gamma_cv_auc_score = []\n",
    "    gamma_cv_log_loss = []\n",
    "    \n",
    "    gamma_train_auc_score= []\n",
    "    gamma_train_log_loss = []\n",
    "    for g in gammas:\n",
    "    \n",
    "        kernel_svc = SVC(C=c,kernel='rbf',gamma = g,probability=True)\n",
    "        kernel_svc.fit(std_train_df,train_y)\n",
    "        \n",
    "        cv_pred = kernel_svc.predict(std_cv_df)\n",
    "        cv_pred_prob = kernel_svc.predict_proba(std_cv_df)\n",
    "    \n",
    "        train_pred = kernel_svc.predict(std_train_df)\n",
    "        train_pred_prob = kernel_svc.predict_proba(std_train_df)\n",
    "    \n",
    "        gamma_cv_auc_score.append(roc_auc_score(cv_y,cv_pred_prob[:,1]))\n",
    "        gamma_cv_log_loss.append(log_loss(cv_y,cv_pred_prob[:,1]))\n",
    "    \n",
    "        gamma_train_auc_score.append(roc_auc_score(train_y,train_pred_prob[:,1]))\n",
    "        gamma_train_log_loss.append(log_loss(train_y,train_pred_prob[:,1]))\n",
    "        \n",
    "        del(kernel_svc)\n",
    "    \n",
    "    c_cv_auc_score.append(gamma_cv_auc_score)\n",
    "    c_cv_log_loss.append(gamma_cv_log_loss)\n",
    "    \n",
    "    c_train_auc_score.append(gamma_train_auc_score)\n",
    "    c_train_log_loss.append(gamma_train_log_loss)"
   ]
  },
  {
   "cell_type": "code",
   "execution_count": 67,
   "metadata": {},
   "outputs": [],
   "source": [
    "cv_auc_score = pd.DataFrame(c_cv_auc_score, index = Cs ,columns = gammas)\n",
    "train_auc_score = pd.DataFrame(c_train_auc_score, index = Cs ,columns = gammas)\n",
    "\n",
    "cv_log_loss = pd.DataFrame(c_cv_log_loss, index = Cs ,columns = gammas)\n",
    "train_log_loss = pd.DataFrame(c_train_log_loss, index = Cs ,columns = gammas)"
   ]
  },
  {
   "cell_type": "markdown",
   "metadata": {},
   "source": [
    "## Heatmaps to compare AUC and Logloss for train and Cross Validation data"
   ]
  },
  {
   "cell_type": "code",
   "execution_count": 68,
   "metadata": {},
   "outputs": [
    {
     "data": {
      "image/png": "[encoded data removed]",
      "text/plain": [
       "<Figure size 576x576 with 2 Axes>"
      ]
     },
     "metadata": {
      "needs_background": "light"
     },
     "output_type": "display_data"
    }
   ],
   "source": [
    "plt.figure(figsize = (8,8))\n",
    "sns.heatmap(train_auc_score, annot=True)\n",
    "plt.title('AUC Score Values for Train Data')\n",
    "plt.xlabel('gamma values')\n",
    "plt.ylabel('c values')\n",
    "plt.show()"
   ]
  },
  {
   "cell_type": "code",
   "execution_count": 69,
   "metadata": {},
   "outputs": [
    {
     "data": {
      "image/png": "[encoded data removed]",
      "text/plain": [
       "<Figure size 576x576 with 2 Axes>"
      ]
     },
     "metadata": {
      "needs_background": "light"
     },
     "output_type": "display_data"
    }
   ],
   "source": [
    "plt.figure(figsize = (8,8))\n",
    "sns.heatmap(train_log_loss, annot=True)\n",
    "plt.title('Log Loss for Train Data')\n",
    "plt.xlabel('gamma values')\n",
    "plt.ylabel('c values')\n",
    "plt.show()"
   ]
  },
  {
   "cell_type": "code",
   "execution_count": 70,
   "metadata": {},
   "outputs": [
    {
     "data": {
      "image/png": "[encoded data removed]",
      "text/plain": [
       "<Figure size 576x576 with 2 Axes>"
      ]
     },
     "metadata": {
      "needs_background": "light"
     },
     "output_type": "display_data"
    }
   ],
   "source": [
    "plt.figure(figsize = (8,8))\n",
    "sns.heatmap(cv_log_loss, annot=True)\n",
    "plt.title('Log Loss for Cross-Validation Data')\n",
    "plt.xlabel('gamma values')\n",
    "plt.ylabel('c values')\n",
    "plt.show()"
   ]
  },
  {
   "cell_type": "markdown",
   "metadata": {},
   "source": [
    "* AUC score for Train Data is same across all values of C's and so we are eliminating it for selection of Hyper-parameter.\n",
    "* Rather we look at the logloss value to determine the right set of Hyper-parameter value.\n",
    "* For training data with C>=1 and gamma >= 1 and gamma <=100 we see lower values of log-loss.\n",
    "* While for cross-validation data with gamma>=0.001 and <=0.01 we see lower values of log-loss.\n",
    "* A good fit model can be declared as one where training and cross-validation logloss are both low.\n",
    "* One such region is a block with c=1 and gamma=100"
   ]
  },
  {
   "cell_type": "markdown",
   "metadata": {},
   "source": [
    "## Decision Tree Classifier with hyper-parameter tuning"
   ]
  },
  {
   "cell_type": "code",
   "execution_count": 71,
   "metadata": {},
   "outputs": [],
   "source": [
    "from sklearn.tree import DecisionTreeClassifier\n",
    "\n",
    "train_auc_score_dict={}\n",
    "cv_auc_score_dict={}\n",
    "\n",
    "train_log_loss_dict={}\n",
    "cv_log_loss_dict={}\n",
    "\n",
    "#Hyper-parameter value\n",
    "depths = [i for i in range(1,10,2)]\n",
    "\n",
    "for depth in depths:\n",
    "    decisionTreeClassifier = DecisionTreeClassifier(criterion = 'gini',splitter= 'best',max_depth = depth)\n",
    "    decisionTreeClassifier.fit(std_train_df,train_y)\n",
    "    \n",
    "    cv_pred = decisionTreeClassifier.predict(std_cv_df)\n",
    "    cv_pred_prob = decisionTreeClassifier.predict_proba(std_cv_df)\n",
    "    \n",
    "    train_pred = decisionTreeClassifier.predict(std_train_df)\n",
    "    train_pred_prob = decisionTreeClassifier.predict_proba(std_train_df)\n",
    "    \n",
    "    cv_auc_score = roc_auc_score(cv_y,cv_pred_prob[:,1])\n",
    "    cv_lloss = log_loss(cv_y,cv_pred_prob[:,1])\n",
    "    \n",
    "    train_auc_score = roc_auc_score(train_y,train_pred_prob[:,1])\n",
    "    train_lloss = log_loss(train_y,train_pred_prob[:,1])\n",
    "    \n",
    "    cv_auc_score_dict[str(depth)] = cv_auc_score\n",
    "    cv_log_loss_dict[str(depth)] = cv_lloss\n",
    "    \n",
    "    train_auc_score_dict[str(depth)] = train_auc_score\n",
    "    train_log_loss_dict[str(depth)] = train_lloss"
   ]
  },
  {
   "cell_type": "code",
   "execution_count": 72,
   "metadata": {},
   "outputs": [
    {
     "data": {
      "image/png": "[encoded data removed]",
      "text/plain": [
       "<Figure size 720x720 with 1 Axes>"
      ]
     },
     "metadata": {
      "needs_background": "light"
     },
     "output_type": "display_data"
    }
   ],
   "source": [
    "y_cv_auc = list(cv_auc_score_dict.values())\n",
    "y_train_auc = list(train_auc_score_dict.values())\n",
    "xi = [i for i in range(10)]\n",
    "\n",
    "# plot the index for the x-values\n",
    "plt.close()\n",
    "plt.figure(figsize = (10,10))\n",
    "\n",
    "plt.plot(depths, y_cv_auc, marker='o', linestyle='--', color='r',label='Cross Validation AUC')\n",
    "plt.plot(depths, y_train_auc,marker ='o',linestyle='--',color='b',label='Train AUC')\n",
    "\n",
    "plt.xlabel('Tree Depth')\n",
    "plt.ylabel('AUC Score')\n",
    "plt.xticks(depths,depths)\n",
    "plt.title('Plot of AUC Score for different hyper-parameter values')\n",
    "plt.legend()\n",
    "plt.show()"
   ]
  },
  {
   "cell_type": "code",
   "execution_count": 73,
   "metadata": {},
   "outputs": [
    {
     "data": {
      "image/png": "[encoded data removed]",
      "text/plain": [
       "<Figure size 720x720 with 1 Axes>"
      ]
     },
     "metadata": {
      "needs_background": "light"
     },
     "output_type": "display_data"
    }
   ],
   "source": [
    "y_cv_ll = list(cv_log_loss_dict.values())\n",
    "y_train_ll = list(train_log_loss_dict.values())\n",
    "\n",
    "# plot the index for the x-values\n",
    "plt.close()\n",
    "plt.figure(figsize = (10,10))\n",
    "\n",
    "plt.plot(depths, y_cv_ll, marker='o', linestyle='--', color='r',label='Cross Validation LogLoss')\n",
    "plt.plot(depths, y_train_ll,marker ='o',linestyle='--',color='b',label='Train LogLoss')\n",
    "\n",
    "plt.xlabel('depths')\n",
    "plt.ylabel('Log Loss')\n",
    "plt.xticks(depths,depths)\n",
    "plt.title('Plot of Log Loss Score for different hyper-parameter values')\n",
    "plt.legend()\n",
    "plt.show()"
   ]
  },
  {
   "cell_type": "markdown",
   "metadata": {},
   "source": [
    "* For Decision Tree it can be clearly seen that they seem to perform well for depth of trees upto 5."
   ]
  },
  {
   "cell_type": "markdown",
   "metadata": {},
   "source": [
    "## Random Forest\n",
    "* The size of the dataset is very small. \n",
    "* Therefore we will restrict the number of Decision Trees to be built to a small number of estimators.\n",
    "* We won't hypertune depth of the tree since in random forest we want the individual models to overfit and also our dataset is small in size."
   ]
  },
  {
   "cell_type": "code",
   "execution_count": 74,
   "metadata": {},
   "outputs": [
    {
     "name": "stdout",
     "output_type": "stream",
     "text": [
      "Hyper-parameter values :  [10, 20, 30, 40, 50, 60, 70, 80, 90, 100, 110, 120, 130, 140, 150, 160, 170, 180, 190]\n",
      "*****Training with 10 estimators*****\n",
      "*****Training with 20 estimators*****\n",
      "*****Training with 30 estimators*****\n",
      "*****Training with 40 estimators*****\n",
      "*****Training with 50 estimators*****\n",
      "*****Training with 60 estimators*****\n",
      "*****Training with 70 estimators*****\n",
      "*****Training with 80 estimators*****\n",
      "*****Training with 90 estimators*****\n",
      "*****Training with 100 estimators*****\n",
      "*****Training with 110 estimators*****\n",
      "*****Training with 120 estimators*****\n",
      "*****Training with 130 estimators*****\n",
      "*****Training with 140 estimators*****\n",
      "*****Training with 150 estimators*****\n",
      "*****Training with 160 estimators*****\n",
      "*****Training with 170 estimators*****\n",
      "*****Training with 180 estimators*****\n",
      "*****Training with 190 estimators*****\n"
     ]
    }
   ],
   "source": [
    "from sklearn.ensemble import RandomForestClassifier\n",
    "\n",
    "n_estimators_list = [i for i in range(10,200,10)]\n",
    "print(\"Hyper-parameter values : \",n_estimators_list)\n",
    "\n",
    "train_auc_score_dict={}\n",
    "cv_auc_score_dict={}\n",
    "\n",
    "train_log_loss_dict={}\n",
    "cv_log_loss_dict={}\n",
    "\n",
    "for estimators in n_estimators_list:\n",
    "    print(\"*****Training with\",estimators,\"estimators*****\")\n",
    "    randomForestClassifier = RandomForestClassifier(n_estimators = estimators)\n",
    "    randomForestClassifier.fit(std_train_df,train_y)\n",
    "    \n",
    "    cv_pred = randomForestClassifier.predict(std_cv_df)\n",
    "    cv_pred_prob = randomForestClassifier.predict_proba(std_cv_df)\n",
    "    \n",
    "    train_pred = randomForestClassifier.predict(std_train_df)\n",
    "    train_pred_prob = randomForestClassifier.predict_proba(std_train_df)\n",
    "    \n",
    "    cv_auc_score = roc_auc_score(cv_y,cv_pred_prob[:,1])\n",
    "    cv_lloss = log_loss(cv_y,cv_pred_prob[:,1])\n",
    "    \n",
    "    train_auc_score = roc_auc_score(train_y,train_pred_prob[:,1])\n",
    "    train_lloss = log_loss(train_y,train_pred_prob[:,1])\n",
    "    \n",
    "    cv_auc_score_dict[str(estimators)] = cv_auc_score\n",
    "    cv_log_loss_dict[str(estimators)] = cv_lloss\n",
    "    \n",
    "    train_auc_score_dict[str(estimators)] = train_auc_score\n",
    "    train_log_loss_dict[str(estimators)] = train_lloss"
   ]
  },
  {
   "cell_type": "code",
   "execution_count": 75,
   "metadata": {},
   "outputs": [
    {
     "data": {
      "image/png": "[encoded data removed]",
      "text/plain": [
       "<Figure size 720x720 with 1 Axes>"
      ]
     },
     "metadata": {
      "needs_background": "light"
     },
     "output_type": "display_data"
    }
   ],
   "source": [
    "y_cv_auc = list(cv_auc_score_dict.values())\n",
    "y_train_auc = list(train_auc_score_dict.values())\n",
    "#xi = [i for i in range(10)]\n",
    "\n",
    "# plot the index for the x-values\n",
    "plt.close()\n",
    "plt.figure(figsize = (10,10))\n",
    "\n",
    "plt.plot(n_estimators_list, y_cv_auc,marker='o', linestyle='--', color='r',label='Cross Validation AUC')\n",
    "plt.plot(n_estimators_list, y_train_auc,marker='o',linestyle='--',color='b',label='Train AUC')\n",
    "\n",
    "plt.xlabel('N Estimators')\n",
    "plt.ylabel('AUC Score')\n",
    "plt.xticks(n_estimators_list,n_estimators_list)\n",
    "plt.title('Plot of AUC Score for different hyper-parameter values')\n",
    "plt.legend()\n",
    "plt.show()"
   ]
  },
  {
   "cell_type": "code",
   "execution_count": 76,
   "metadata": {},
   "outputs": [
    {
     "data": {
      "image/png": "[encoded data removed]",
      "text/plain": [
       "<Figure size 720x720 with 1 Axes>"
      ]
     },
     "metadata": {
      "needs_background": "light"
     },
     "output_type": "display_data"
    }
   ],
   "source": [
    "y_cv_ll = list(cv_log_loss_dict.values())\n",
    "y_train_ll = list(train_log_loss_dict.values())\n",
    "\n",
    "# plot the index for the x-values\n",
    "plt.close()\n",
    "plt.figure(figsize = (10,10))\n",
    "\n",
    "plt.plot(n_estimators_list, y_cv_ll, marker='o', linestyle='--', color='r',label='Cross Validation LogLoss')\n",
    "plt.plot(n_estimators_list, y_train_ll,marker ='o',linestyle='--',color='b',label='Train LogLoss')\n",
    "\n",
    "plt.xlabel('N Estimators')\n",
    "plt.ylabel('Log Loss')\n",
    "plt.xticks(n_estimators_list,n_estimators_list)\n",
    "plt.title('Plot of Log Loss Score for different hyper-parameter values')\n",
    "plt.legend()\n",
    "plt.show()"
   ]
  },
  {
   "cell_type": "markdown",
   "metadata": {},
   "source": [
    "* The default value of n-estimators(100) shows same level of log-loss for both training and cv data."
   ]
  },
  {
   "cell_type": "markdown",
   "metadata": {},
   "source": [
    "* Now let's build models using best Hyper-parameters and check for different performance measures using test data.\n",
    "* Check feature importances for each of the model and see how different are the feature importances.\n",
    "* Once that is done, build a stacked model using all of the best models and check it's performance."
   ]
  },
  {
   "cell_type": "code",
   "execution_count": 77,
   "metadata": {},
   "outputs": [],
   "source": [
    "sampleFile = open('X_test','rb')\n",
    "X_test = pickle.load(sampleFile)\n",
    "sampleFile.close()\n",
    "\n",
    "sampleFile = open('y_test','rb')\n",
    "y_test = pickle.load(sampleFile)\n",
    "sampleFile.close()"
   ]
  },
  {
   "cell_type": "markdown",
   "metadata": {},
   "source": [
    "## Transformation of Test data into required format"
   ]
  },
  {
   "cell_type": "code",
   "execution_count": 79,
   "metadata": {},
   "outputs": [],
   "source": [
    "test_df= pd.concat([X_test,y_test],axis=1)\n",
    "test_df['target'] = test_df['classification'].apply(lambda x : 1 if x == 'ckd' else 0)\n",
    "\n",
    "trans_test_df = transformCvAndTest(test_df)\n",
    "\n",
    "test_x = trans_test_df.drop(['target'],axis=1)\n",
    "test_y = trans_test_df['target']\n",
    "\n",
    "#temp fix\n",
    "test_x.drop(['bp_bins'],axis = 1,inplace = True)\n",
    "\n",
    "std_test_x = scaler.transform(test_x)\n",
    "std_test_df = pd.DataFrame(std_test_x,columns = test_x.columns)"
   ]
  },
  {
   "cell_type": "markdown",
   "metadata": {},
   "source": [
    "## Building models using best hyper-parameters and testing against test data"
   ]
  },
  {
   "cell_type": "code",
   "execution_count": 80,
   "metadata": {},
   "outputs": [
    {
     "data": {
      "text/plain": [
       "RandomForestClassifier(bootstrap=True, ccp_alpha=0.0, class_weight=None,\n",
       "                       criterion='gini', max_depth=None, max_features='auto',\n",
       "                       max_leaf_nodes=None, max_samples=None,\n",
       "                       min_impurity_decrease=0.0, min_impurity_split=None,\n",
       "                       min_samples_leaf=1, min_samples_split=2,\n",
       "                       min_weight_fraction_leaf=0.0, n_estimators=100,\n",
       "                       n_jobs=None, oob_score=False, random_state=None,\n",
       "                       verbose=0, warm_start=False)"
      ]
     },
     "execution_count": 80,
     "metadata": {},
     "output_type": "execute_result"
    }
   ],
   "source": [
    "# Logistic Classifier with l1-ratio for elastic net = 1.0\n",
    "logClf = LogisticRegression(solver = 'saga',penalty = 'elasticnet',l1_ratio = 1.0,max_iter = 1000)\n",
    "logClf.fit(std_train_df,train_y)\n",
    "\n",
    "# KNN model with k=3\n",
    "neigh = KNeighborsClassifier(n_neighbors=3)\n",
    "neigh.fit(std_train_df,train_y)\n",
    "\n",
    "#Kernel SVC with C=1 and gamma = 100\n",
    "kernel_svc = SVC(C=1,kernel='rbf',gamma = 100,probability=True)\n",
    "kernel_svc.fit(std_train_df,train_y)\n",
    "\n",
    "#DecisionTreeClassifier with depth of the tree=5\n",
    "decisionTreeClassifier = DecisionTreeClassifier(criterion = 'gini',splitter= 'best',max_depth = 5)\n",
    "decisionTreeClassifier.fit(std_train_df,train_y)\n",
    "\n",
    "#RandomForestClassifier with number of estimators = 100\n",
    "randomForestClassifier = RandomForestClassifier(n_estimators = 100)\n",
    "randomForestClassifier.fit(std_train_df,train_y)"
   ]
  },
  {
   "cell_type": "code",
   "execution_count": 81,
   "metadata": {},
   "outputs": [
    {
     "data": {
      "text/plain": [
       "1    52\n",
       "0    28\n",
       "Name: target, dtype: int64"
      ]
     },
     "execution_count": 81,
     "metadata": {},
     "output_type": "execute_result"
    }
   ],
   "source": [
    "test_y.value_counts()"
   ]
  },
  {
   "cell_type": "code",
   "execution_count": 82,
   "metadata": {},
   "outputs": [],
   "source": [
    "## Function to generate test results\n",
    "def generateTestResults(test_y,test_pred,test_pred_pob):\n",
    "    test_result = []\n",
    "    \n",
    "    test_auc_score = roc_auc_score(test_y,test_pred_prob[:,1])\n",
    "    test_lloss = log_loss(test_y,test_pred_prob[:,1])\n",
    "    pr,re,f1,su = precision_recall_fscore_support(test_y,test_pred)\n",
    "    \n",
    "    test_result.append(test_auc_score)\n",
    "    test_result.append(test_lloss)\n",
    "    test_result.append(pr[0])\n",
    "    test_result.append(pr[1])\n",
    "    test_result.append(re[0])\n",
    "    test_result.append(re[1])\n",
    "    test_result.append(f1[0])\n",
    "    test_result.append(f1[1])\n",
    "    return test_result"
   ]
  },
  {
   "cell_type": "code",
   "execution_count": 83,
   "metadata": {},
   "outputs": [
    {
     "name": "stdout",
     "output_type": "stream",
     "text": [
      "Classifier :  LogisticRegression(C=1.0, class_weight=None, dual=False, fit_intercept=True,\n",
      "                   intercept_scaling=1, l1_ratio=1.0, max_iter=1000,\n",
      "                   multi_class='auto', n_jobs=None, penalty='elasticnet',\n",
      "                   random_state=None, solver='saga', tol=0.0001, verbose=0,\n",
      "                   warm_start=False)\n",
      "Classifier :  KNeighborsClassifier(algorithm='auto', leaf_size=30, metric='minkowski',\n",
      "                     metric_params=None, n_jobs=None, n_neighbors=3, p=2,\n",
      "                     weights='uniform')\n",
      "Classifier :  SVC(C=1, break_ties=False, cache_size=200, class_weight=None, coef0=0.0,\n",
      "    decision_function_shape='ovr', degree=3, gamma=100, kernel='rbf',\n",
      "    max_iter=-1, probability=True, random_state=None, shrinking=True, tol=0.001,\n",
      "    verbose=False)\n",
      "Classifier :  DecisionTreeClassifier(ccp_alpha=0.0, class_weight=None, criterion='gini',\n",
      "                       max_depth=5, max_features=None, max_leaf_nodes=None,\n",
      "                       min_impurity_decrease=0.0, min_impurity_split=None,\n",
      "                       min_samples_leaf=1, min_samples_split=2,\n",
      "                       min_weight_fraction_leaf=0.0, presort='deprecated',\n",
      "                       random_state=None, splitter='best')\n",
      "Classifier :  RandomForestClassifier(bootstrap=True, ccp_alpha=0.0, class_weight=None,\n",
      "                       criterion='gini', max_depth=None, max_features='auto',\n",
      "                       max_leaf_nodes=None, max_samples=None,\n",
      "                       min_impurity_decrease=0.0, min_impurity_split=None,\n",
      "                       min_samples_leaf=1, min_samples_split=2,\n",
      "                       min_weight_fraction_leaf=0.0, n_estimators=100,\n",
      "                       n_jobs=None, oob_score=False, random_state=None,\n",
      "                       verbose=0, warm_start=False)\n"
     ]
    }
   ],
   "source": [
    "classifiers = [logClf,neigh,kernel_svc,decisionTreeClassifier,randomForestClassifier]\n",
    "test_results = []\n",
    "for classifier in classifiers:\n",
    "    print(\"Classifier : \",classifier)\n",
    "    test_pred = classifier.predict(std_test_df)\n",
    "    test_pred_prob = classifier.predict_proba(std_test_df)\n",
    "    test_results.append(generateTestResults(test_y,test_pred,test_pred_prob))"
   ]
  },
  {
   "cell_type": "markdown",
   "metadata": {},
   "source": [
    "## Stacking Classifiers to build a powerful model"
   ]
  },
  {
   "cell_type": "code",
   "execution_count": 84,
   "metadata": {},
   "outputs": [
    {
     "data": {
      "text/plain": [
       "StackingClassifier(cv=None,\n",
       "                   estimators=[('logClf',\n",
       "                                LogisticRegression(C=1.0, class_weight=None,\n",
       "                                                   dual=False,\n",
       "                                                   fit_intercept=True,\n",
       "                                                   intercept_scaling=1,\n",
       "                                                   l1_ratio=1.0, max_iter=1000,\n",
       "                                                   multi_class='auto',\n",
       "                                                   n_jobs=None,\n",
       "                                                   penalty='elasticnet',\n",
       "                                                   random_state=None,\n",
       "                                                   solver='saga', tol=0.0001,\n",
       "                                                   verbose=0,\n",
       "                                                   warm_start=False)),\n",
       "                               ('knnClf',\n",
       "                                KNeighborsClassifier(algorithm='auto',\n",
       "                                                     leaf_size...\n",
       "                                                       random_state=None,\n",
       "                                                       verbose=0,\n",
       "                                                       warm_start=False))],\n",
       "                   final_estimator=LogisticRegression(C=1.0, class_weight=None,\n",
       "                                                      dual=False,\n",
       "                                                      fit_intercept=True,\n",
       "                                                      intercept_scaling=1,\n",
       "                                                      l1_ratio=None,\n",
       "                                                      max_iter=100,\n",
       "                                                      multi_class='auto',\n",
       "                                                      n_jobs=None, penalty='l2',\n",
       "                                                      random_state=None,\n",
       "                                                      solver='lbfgs',\n",
       "                                                      tol=0.0001, verbose=0,\n",
       "                                                      warm_start=False),\n",
       "                   n_jobs=None, passthrough=False, stack_method='auto',\n",
       "                   verbose=0)"
      ]
     },
     "execution_count": 84,
     "metadata": {},
     "output_type": "execute_result"
    }
   ],
   "source": [
    "estimators = [\n",
    "\t ('logClf',LogisticRegression(solver = 'saga',penalty = 'elasticnet',l1_ratio = 1.0,max_iter = 1000)),\n",
    "\t ('knnClf',KNeighborsClassifier(n_neighbors=3)),\n",
    "\t ('dtClf',DecisionTreeClassifier(criterion = 'gini',splitter= 'best',max_depth = 5)),\n",
    "\t ('randomClf',RandomForestClassifier(n_estimators = 100))\n",
    "\t]\n",
    "\t\n",
    "clf = StackingClassifier(estimators=estimators, final_estimator=LogisticRegression())\n",
    "clf.fit(std_train_df,train_y)"
   ]
  },
  {
   "cell_type": "code",
   "execution_count": 85,
   "metadata": {},
   "outputs": [],
   "source": [
    "test_pred = clf.predict(std_test_df)\n",
    "test_pred_prob = clf.predict_proba(std_test_df)\n",
    "test_results.append(generateTestResults(test_y,test_pred,test_pred_prob))"
   ]
  },
  {
   "cell_type": "code",
   "execution_count": 86,
   "metadata": {},
   "outputs": [
    {
     "data": {
      "text/html": [
       "<div>\n",
       "<style scoped>\n",
       "    .dataframe tbody tr th:only-of-type {\n",
       "        vertical-align: middle;\n",
       "    }\n",
       "\n",
       "    .dataframe tbody tr th {\n",
       "        vertical-align: top;\n",
       "    }\n",
       "\n",
       "    .dataframe thead th {\n",
       "        text-align: right;\n",
       "    }\n",
       "</style>\n",
       "<table border=\"1\" class=\"dataframe\">\n",
       "  <thead>\n",
       "    <tr style=\"text-align: right;\">\n",
       "      <th></th>\n",
       "      <th>auc_score</th>\n",
       "      <th>log_loss</th>\n",
       "      <th>precision-0</th>\n",
       "      <th>precision-1</th>\n",
       "      <th>recall-0</th>\n",
       "      <th>recall-1</th>\n",
       "      <th>f1-score-0</th>\n",
       "      <th>f1-score-1</th>\n",
       "    </tr>\n",
       "  </thead>\n",
       "  <tbody>\n",
       "    <tr>\n",
       "      <th>Logistic</th>\n",
       "      <td>1.000000</td>\n",
       "      <td>0.063426</td>\n",
       "      <td>0.933333</td>\n",
       "      <td>1.000000</td>\n",
       "      <td>1.00</td>\n",
       "      <td>0.961538</td>\n",
       "      <td>0.965517</td>\n",
       "      <td>0.980392</td>\n",
       "    </tr>\n",
       "    <tr>\n",
       "      <th>KNN</th>\n",
       "      <td>0.980769</td>\n",
       "      <td>0.868538</td>\n",
       "      <td>0.933333</td>\n",
       "      <td>1.000000</td>\n",
       "      <td>1.00</td>\n",
       "      <td>0.961538</td>\n",
       "      <td>0.965517</td>\n",
       "      <td>0.980392</td>\n",
       "    </tr>\n",
       "    <tr>\n",
       "      <th>RBF-SVC</th>\n",
       "      <td>0.984890</td>\n",
       "      <td>0.414734</td>\n",
       "      <td>1.000000</td>\n",
       "      <td>0.712329</td>\n",
       "      <td>0.25</td>\n",
       "      <td>1.000000</td>\n",
       "      <td>0.400000</td>\n",
       "      <td>0.832000</td>\n",
       "    </tr>\n",
       "    <tr>\n",
       "      <th>DecisionTree</th>\n",
       "      <td>0.980769</td>\n",
       "      <td>0.863469</td>\n",
       "      <td>0.933333</td>\n",
       "      <td>1.000000</td>\n",
       "      <td>1.00</td>\n",
       "      <td>0.961538</td>\n",
       "      <td>0.965517</td>\n",
       "      <td>0.980392</td>\n",
       "    </tr>\n",
       "    <tr>\n",
       "      <th>RandomForest</th>\n",
       "      <td>1.000000</td>\n",
       "      <td>0.053571</td>\n",
       "      <td>0.933333</td>\n",
       "      <td>1.000000</td>\n",
       "      <td>1.00</td>\n",
       "      <td>0.961538</td>\n",
       "      <td>0.965517</td>\n",
       "      <td>0.980392</td>\n",
       "    </tr>\n",
       "    <tr>\n",
       "      <th>StackedClassifier</th>\n",
       "      <td>1.000000</td>\n",
       "      <td>0.066405</td>\n",
       "      <td>0.933333</td>\n",
       "      <td>1.000000</td>\n",
       "      <td>1.00</td>\n",
       "      <td>0.961538</td>\n",
       "      <td>0.965517</td>\n",
       "      <td>0.980392</td>\n",
       "    </tr>\n",
       "  </tbody>\n",
       "</table>\n",
       "</div>"
      ],
      "text/plain": [
       "                   auc_score  log_loss  precision-0  precision-1  recall-0  \\\n",
       "Logistic            1.000000  0.063426     0.933333     1.000000      1.00   \n",
       "KNN                 0.980769  0.868538     0.933333     1.000000      1.00   \n",
       "RBF-SVC             0.984890  0.414734     1.000000     0.712329      0.25   \n",
       "DecisionTree        0.980769  0.863469     0.933333     1.000000      1.00   \n",
       "RandomForest        1.000000  0.053571     0.933333     1.000000      1.00   \n",
       "StackedClassifier   1.000000  0.066405     0.933333     1.000000      1.00   \n",
       "\n",
       "                   recall-1  f1-score-0  f1-score-1  \n",
       "Logistic           0.961538    0.965517    0.980392  \n",
       "KNN                0.961538    0.965517    0.980392  \n",
       "RBF-SVC            1.000000    0.400000    0.832000  \n",
       "DecisionTree       0.961538    0.965517    0.980392  \n",
       "RandomForest       0.961538    0.965517    0.980392  \n",
       "StackedClassifier  0.961538    0.965517    0.980392  "
      ]
     },
     "execution_count": 86,
     "metadata": {},
     "output_type": "execute_result"
    }
   ],
   "source": [
    "test_res_df = pd.DataFrame(test_results,columns = ['auc_score','log_loss','precision-0','precision-1','recall-0','recall-1','f1-score-0','f1-score-1'],\n",
    "                            index=['Logistic','KNN','RBF-SVC','DecisionTree','RandomForest','StackedClassifier'])\n",
    "test_res_df"
   ]
  },
  {
   "cell_type": "markdown",
   "metadata": {},
   "source": [
    "## Feature Importances"
   ]
  },
  {
   "cell_type": "code",
   "execution_count": 87,
   "metadata": {},
   "outputs": [
    {
     "name": "stderr",
     "output_type": "stream",
     "text": [
      "No handles with labels found to put in legend.\n"
     ]
    },
    {
     "data": {
      "image/png": "[encoded data removed]",
      "text/plain": [
       "<Figure size 576x576 with 1 Axes>"
      ]
     },
     "metadata": {
      "needs_background": "light"
     },
     "output_type": "display_data"
    }
   ],
   "source": [
    "plt.close()\n",
    "plt.figure(figsize = (8,8))\n",
    "\n",
    "features = std_train_df.columns\n",
    "plt.bar(features,abs(logClf.coef_[0]))\n",
    "\n",
    "plt.xlabel('Features')\n",
    "plt.ylabel('Feature Importance(Coefficients)')\n",
    "plt.xticks(features,features,rotation=90)\n",
    "plt.title('Plot of Feature Importances using Logistic Regression')\n",
    "plt.legend()\n",
    "plt.show()"
   ]
  },
  {
   "cell_type": "code",
   "execution_count": 88,
   "metadata": {},
   "outputs": [
    {
     "name": "stderr",
     "output_type": "stream",
     "text": [
      "No handles with labels found to put in legend.\n"
     ]
    },
    {
     "data": {
      "image/png": "[encoded data removed]",
      "text/plain": [
       "<Figure size 576x576 with 1 Axes>"
      ]
     },
     "metadata": {
      "needs_background": "light"
     },
     "output_type": "display_data"
    }
   ],
   "source": [
    "plt.close()\n",
    "plt.figure(figsize = (8,8))\n",
    "\n",
    "plt.bar(features,randomForestClassifier.feature_importances_)\n",
    "\n",
    "plt.xlabel('Features')\n",
    "plt.ylabel('Feature Importance(Coefficients)')\n",
    "plt.xticks(features,features,rotation=90)\n",
    "plt.title('Plot of Feature Importances using Random Forest')\n",
    "plt.legend()\n",
    "plt.show()"
   ]
  },
  {
   "cell_type": "markdown",
   "metadata": {},
   "source": [
    "## Saving all the classifiers\n",
    "* Saving all the classifiers so that they can be later used for building the app"
   ]
  },
  {
   "cell_type": "code",
   "execution_count": 89,
   "metadata": {},
   "outputs": [],
   "source": [
    "## logClf,neigh,kernel_svc,decisionTreeClassifier,randomForestClassifier\n",
    "sampleFile = open('logClf','wb')\n",
    "pickle.dump(logClf,sampleFile)\n",
    "sampleFile.close()\n",
    "\n",
    "sampleFile = open('neigh','wb')\n",
    "pickle.dump(neigh,sampleFile)\n",
    "sampleFile.close()\n",
    "\n",
    "sampleFile = open('kernel_svc','wb')\n",
    "pickle.dump(kernel_svc,sampleFile)\n",
    "sampleFile.close()\n",
    "\n",
    "sampleFile = open('decisionTreeClassifier','wb')\n",
    "pickle.dump(decisionTreeClassifier,sampleFile)\n",
    "sampleFile.close()\n",
    "\n",
    "sampleFile = open('randomForestClassifier','wb')\n",
    "pickle.dump(randomForestClassifier,sampleFile)\n",
    "sampleFile.close()\n",
    "\n",
    "sampleFile = open('stackedClassifier','wb')\n",
    "pickle.dump(clf,sampleFile)\n",
    "sampleFile.close()\n"
   ]
  },
  {
   "cell_type": "code",
   "execution_count": null,
   "metadata": {},
   "outputs": [],
   "source": []
  }
 ],
 "metadata": {
  "kernelspec": {
   "display_name": "Python 3",
   "language": "python",
   "name": "python3"
  },
  "language_info": {
   "codemirror_mode": {
    "name": "ipython",
    "version": 3
   },
   "file_extension": ".py",
   "mimetype": "text/x-python",
   "name": "python",
   "nbconvert_exporter": "python",
   "pygments_lexer": "ipython3",
   "version": "3.7.6"
  }
 },
 "nbformat": 4,
 "nbformat_minor": 4
}
