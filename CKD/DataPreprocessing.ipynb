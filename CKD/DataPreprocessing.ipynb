{
 "cells": [
  {
   "cell_type": "code",
   "execution_count": 1,
   "metadata": {
    "colab": {},
    "colab_type": "code",
    "id": "YBcL1lrPcWj5"
   },
   "outputs": [],
   "source": [
    "import pandas as pd\n",
    "import numpy as np\n",
    "import matplotlib.pyplot as plt\n",
    "import seaborn as sns\n",
    "import pickle"
   ]
  },
  {
   "cell_type": "code",
   "execution_count": 2,
   "metadata": {
    "colab": {},
    "colab_type": "code",
    "id": "4aUaEWklceFy"
   },
   "outputs": [],
   "source": [
    "kidney_df=pd.read_csv('C:\\\\Users\\\\capiot\\\\PycharmProjects\\\\CKD\\\\kidney_disease.csv',encoding='iso-8859-1')"
   ]
  },
  {
   "cell_type": "code",
   "execution_count": 3,
   "metadata": {
    "colab": {
     "base_uri": "https://localhost:8080/",
     "height": 85
    },
    "colab_type": "code",
    "executionInfo": {
     "elapsed": 4273,
     "status": "ok",
     "timestamp": 1589721114485,
     "user": {
      "displayName": "Manish Jathan",
      "photoUrl": "",
      "userId": "05709661750372785838"
     },
     "user_tz": -330
    },
    "id": "NHPeHNRRcstx",
    "outputId": "d27f2519-2020-41dc-b673-06f9de63396f"
   },
   "outputs": [
    {
     "data": {
      "text/plain": [
       "Index(['id', 'age', 'bp', 'sg', 'al', 'su', 'rbc', 'pc', 'pcc', 'ba', 'bgr',\n",
       "       'bu', 'sc', 'sod', 'pot', 'hemo', 'pcv', 'wc', 'rc', 'htn', 'dm', 'cad',\n",
       "       'appet', 'pe', 'ane', 'classification'],\n",
       "      dtype='object')"
      ]
     },
     "execution_count": 3,
     "metadata": {},
     "output_type": "execute_result"
    }
   ],
   "source": [
    "kidney_df.columns"
   ]
  },
  {
   "cell_type": "code",
   "execution_count": 4,
   "metadata": {
    "colab": {
     "base_uri": "https://localhost:8080/",
     "height": 476
    },
    "colab_type": "code",
    "executionInfo": {
     "elapsed": 4258,
     "status": "ok",
     "timestamp": 1589721114486,
     "user": {
      "displayName": "Manish Jathan",
      "photoUrl": "",
      "userId": "05709661750372785838"
     },
     "user_tz": -330
    },
    "id": "xlPaUYVnc3Y7",
    "outputId": "6904a362-54aa-42d7-e416-2e9ec0dbfcce"
   },
   "outputs": [
    {
     "data": {
      "text/plain": [
       "id                  0\n",
       "age                 9\n",
       "bp                 12\n",
       "sg                 47\n",
       "al                 46\n",
       "su                 49\n",
       "rbc               152\n",
       "pc                 65\n",
       "pcc                 4\n",
       "ba                  4\n",
       "bgr                44\n",
       "bu                 19\n",
       "sc                 17\n",
       "sod                87\n",
       "pot                88\n",
       "hemo               52\n",
       "pcv                70\n",
       "wc                105\n",
       "rc                130\n",
       "htn                 2\n",
       "dm                  2\n",
       "cad                 2\n",
       "appet               1\n",
       "pe                  1\n",
       "ane                 1\n",
       "classification      0\n",
       "dtype: int64"
      ]
     },
     "execution_count": 4,
     "metadata": {},
     "output_type": "execute_result"
    }
   ],
   "source": [
    "kidney_df.isnull().sum()"
   ]
  },
  {
   "cell_type": "code",
   "execution_count": 5,
   "metadata": {
    "colab": {},
    "colab_type": "code",
    "id": "RSyl64ZpukEI"
   },
   "outputs": [],
   "source": [
    "kidney_median_df = kidney_df.fillna(kidney_df.median())"
   ]
  },
  {
   "cell_type": "markdown",
   "metadata": {
    "colab_type": "text",
    "id": "rB8BFZqI0og1"
   },
   "source": [
    "It shows that all numeric continuous features got replaced by their median"
   ]
  },
  {
   "cell_type": "code",
   "execution_count": 6,
   "metadata": {
    "colab": {
     "base_uri": "https://localhost:8080/",
     "height": 68
    },
    "colab_type": "code",
    "executionInfo": {
     "elapsed": 4225,
     "status": "ok",
     "timestamp": 1589721114488,
     "user": {
      "displayName": "Manish Jathan",
      "photoUrl": "",
      "userId": "05709661750372785838"
     },
     "user_tz": -330
    },
    "id": "XhQKl__R0gVW",
    "outputId": "febc2c6e-a49a-4b94-a230-c9f75757e7f6"
   },
   "outputs": [
    {
     "data": {
      "text/plain": [
       "Index(['id', 'age', 'bp', 'sg', 'al', 'su', 'bgr', 'bu', 'sc', 'sod', 'pot',\n",
       "       'hemo', 'classification'],\n",
       "      dtype='object')"
      ]
     },
     "execution_count": 6,
     "metadata": {},
     "output_type": "execute_result"
    }
   ],
   "source": [
    "kidney_median_df.isnull().sum()[kidney_median_df.isnull().sum() == 0].index"
   ]
  },
  {
   "cell_type": "code",
   "execution_count": 7,
   "metadata": {
    "colab": {},
    "colab_type": "code",
    "id": "4Ot2rD362VWZ"
   },
   "outputs": [],
   "source": [
    "high_cat_val_missing = ['rbc','pc','pcv','wc','rc']"
   ]
  },
  {
   "cell_type": "code",
   "execution_count": 8,
   "metadata": {
    "colab": {
     "base_uri": "https://localhost:8080/",
     "height": 296
    },
    "colab_type": "code",
    "executionInfo": {
     "elapsed": 4202,
     "status": "ok",
     "timestamp": 1589721114489,
     "user": {
      "displayName": "Manish Jathan",
      "photoUrl": "",
      "userId": "05709661750372785838"
     },
     "user_tz": -330
    },
    "id": "SHPAEY_w2pw1",
    "outputId": "cee37a69-6a8a-4924-da32-1836ed5fe5e1"
   },
   "outputs": [
    {
     "data": {
      "text/plain": [
       "<matplotlib.axes._subplots.AxesSubplot at 0x2e2033b6c88>"
      ]
     },
     "execution_count": 8,
     "metadata": {},
     "output_type": "execute_result"
    },
    {
     "data": {
      "image/png": "[encoded data removed]",
      "text/plain": [
       "<Figure size 432x288 with 1 Axes>"
      ]
     },
     "metadata": {
      "needs_background": "light"
     },
     "output_type": "display_data"
    }
   ],
   "source": [
    "sns.countplot(kidney_df['rbc'])"
   ]
  },
  {
   "cell_type": "markdown",
   "metadata": {
    "colab_type": "text",
    "id": "OjKbo7yM5GeU"
   },
   "source": [
    "Majority of the rbc value is normal.<br>\n",
    "Only a few of them are abnormal"
   ]
  },
  {
   "cell_type": "markdown",
   "metadata": {
    "colab_type": "text",
    "id": "5WA2wcSZ639v"
   },
   "source": [
    "Before observing how the values are distributed according to classification variable.<br>\n",
    "Let's fix a few values in classification series before we observe the count plot."
   ]
  },
  {
   "cell_type": "code",
   "execution_count": 9,
   "metadata": {
    "colab": {},
    "colab_type": "code",
    "id": "qZgbVfVH6V1A"
   },
   "outputs": [],
   "source": [
    "kidney_df['classification'].replace('ckd\\t','ckd',inplace = True)"
   ]
  },
  {
   "cell_type": "code",
   "execution_count": 10,
   "metadata": {
    "colab": {
     "base_uri": "https://localhost:8080/",
     "height": 68
    },
    "colab_type": "code",
    "executionInfo": {
     "elapsed": 4163,
     "status": "ok",
     "timestamp": 1589721114491,
     "user": {
      "displayName": "Manish Jathan",
      "photoUrl": "",
      "userId": "05709661750372785838"
     },
     "user_tz": -330
    },
    "id": "cy7WjmDT6hIx",
    "outputId": "b490852f-3b10-4a3c-a8b8-9de5ffbf7d06"
   },
   "outputs": [
    {
     "data": {
      "text/plain": [
       "ckd       250\n",
       "notckd    150\n",
       "Name: classification, dtype: int64"
      ]
     },
     "execution_count": 10,
     "metadata": {},
     "output_type": "execute_result"
    }
   ],
   "source": [
    "kidney_df['classification'].value_counts()"
   ]
  },
  {
   "cell_type": "code",
   "execution_count": 11,
   "metadata": {
    "colab": {
     "base_uri": "https://localhost:8080/",
     "height": 296
    },
    "colab_type": "code",
    "executionInfo": {
     "elapsed": 4122,
     "status": "ok",
     "timestamp": 1589721114491,
     "user": {
      "displayName": "Manish Jathan",
      "photoUrl": "",
      "userId": "05709661750372785838"
     },
     "user_tz": -330
    },
    "id": "2fW26zKy6sDq",
    "outputId": "35be810d-d117-4fef-e922-bbaee09f5a0a"
   },
   "outputs": [
    {
     "data": {
      "text/plain": [
       "<matplotlib.axes._subplots.AxesSubplot at 0x2e203b4d848>"
      ]
     },
     "execution_count": 11,
     "metadata": {},
     "output_type": "execute_result"
    },
    {
     "data": {
      "image/png": "[encoded data removed]",
      "text/plain": [
       "<Figure size 432x288 with 1 Axes>"
      ]
     },
     "metadata": {
      "needs_background": "light"
     },
     "output_type": "display_data"
    }
   ],
   "source": [
    "sns.countplot(x = 'rbc',hue='classification',data=kidney_df)"
   ]
  },
  {
   "cell_type": "markdown",
   "metadata": {
    "colab_type": "text",
    "id": "G16PeMXiAl0K"
   },
   "source": [
    "Replacing NAN values based on grouping with target variable"
   ]
  },
  {
   "cell_type": "code",
   "execution_count": 12,
   "metadata": {
    "colab": {},
    "colab_type": "code",
    "id": "OK4UAX-37Ilm"
   },
   "outputs": [],
   "source": [
    "kidney_df.loc[(kidney_df['classification'] == 'ckd') & kidney_df['rbc'].isnull(),'rbc'] = 'abnormal'\n",
    "kidney_df.loc[(kidney_df['classification'] == 'notckd') & kidney_df['rbc'].isnull(),'rbc'] = 'normal'"
   ]
  },
  {
   "cell_type": "code",
   "execution_count": 13,
   "metadata": {
    "colab": {
     "base_uri": "https://localhost:8080/",
     "height": 68
    },
    "colab_type": "code",
    "executionInfo": {
     "elapsed": 4094,
     "status": "ok",
     "timestamp": 1589721114493,
     "user": {
      "displayName": "Manish Jathan",
      "photoUrl": "",
      "userId": "05709661750372785838"
     },
     "user_tz": -330
    },
    "id": "RJQJhnYPAcdG",
    "outputId": "88912c6b-a3da-48a3-a6c6-28bd522dc77e"
   },
   "outputs": [
    {
     "data": {
      "text/plain": [
       "normal      210\n",
       "abnormal    190\n",
       "Name: rbc, dtype: int64"
      ]
     },
     "execution_count": 13,
     "metadata": {},
     "output_type": "execute_result"
    }
   ],
   "source": [
    "kidney_df['rbc'].value_counts()"
   ]
  },
  {
   "cell_type": "code",
   "execution_count": 14,
   "metadata": {
    "colab": {
     "base_uri": "https://localhost:8080/",
     "height": 68
    },
    "colab_type": "code",
    "executionInfo": {
     "elapsed": 4074,
     "status": "ok",
     "timestamp": 1589721114493,
     "user": {
      "displayName": "Manish Jathan",
      "photoUrl": "",
      "userId": "05709661750372785838"
     },
     "user_tz": -330
    },
    "id": "ZmTxPOMy7k80",
    "outputId": "86f74c76-184d-4be4-b8b4-4aeb1458b6be"
   },
   "outputs": [
    {
     "data": {
      "text/plain": [
       "0    210\n",
       "1    190\n",
       "Name: rbc, dtype: int64"
      ]
     },
     "execution_count": 14,
     "metadata": {},
     "output_type": "execute_result"
    }
   ],
   "source": [
    "## Replacing abnormal with 0's\n",
    "## Replacing normal with 1's\n",
    "kidney_df['rbc'] = kidney_df['rbc'].replace('abnormal',1)\n",
    "kidney_df['rbc'] = kidney_df['rbc'].replace('normal',0)\n",
    "kidney_df['rbc'].value_counts()"
   ]
  },
  {
   "cell_type": "markdown",
   "metadata": {
    "colab_type": "text",
    "id": "R6IbCIl6NemZ"
   },
   "source": [
    "## Let's impute attribute PC"
   ]
  },
  {
   "cell_type": "code",
   "execution_count": 15,
   "metadata": {
    "colab": {
     "base_uri": "https://localhost:8080/",
     "height": 296
    },
    "colab_type": "code",
    "executionInfo": {
     "elapsed": 4048,
     "status": "ok",
     "timestamp": 1589721114494,
     "user": {
      "displayName": "Manish Jathan",
      "photoUrl": "",
      "userId": "05709661750372785838"
     },
     "user_tz": -330
    },
    "id": "9DAKoqIXNHqH",
    "outputId": "673db1a8-9984-4fd3-fa20-ab78364d2a68"
   },
   "outputs": [
    {
     "data": {
      "text/plain": [
       "<matplotlib.axes._subplots.AxesSubplot at 0x2e203be6448>"
      ]
     },
     "execution_count": 15,
     "metadata": {},
     "output_type": "execute_result"
    },
    {
     "data": {
      "image/png": "[encoded data removed]",
      "text/plain": [
       "<Figure size 432x288 with 1 Axes>"
      ]
     },
     "metadata": {
      "needs_background": "light"
     },
     "output_type": "display_data"
    }
   ],
   "source": [
    "sns.countplot(kidney_df['pc'])"
   ]
  },
  {
   "cell_type": "markdown",
   "metadata": {
    "colab_type": "text",
    "id": "7rkDQDfZN4Uu"
   },
   "source": [
    "percentage of normal pc is more than abnormal"
   ]
  },
  {
   "cell_type": "code",
   "execution_count": 16,
   "metadata": {
    "colab": {
     "base_uri": "https://localhost:8080/",
     "height": 296
    },
    "colab_type": "code",
    "executionInfo": {
     "elapsed": 4020,
     "status": "ok",
     "timestamp": 1589721114496,
     "user": {
      "displayName": "Manish Jathan",
      "photoUrl": "",
      "userId": "05709661750372785838"
     },
     "user_tz": -330
    },
    "id": "_rwG0wcoNz3k",
    "outputId": "e5dedc7a-44aa-4db6-f735-2a771caf122c"
   },
   "outputs": [
    {
     "data": {
      "text/plain": [
       "<matplotlib.axes._subplots.AxesSubplot at 0x2e203c31c48>"
      ]
     },
     "execution_count": 16,
     "metadata": {},
     "output_type": "execute_result"
    },
    {
     "data": {
      "image/png": "[encoded data removed]",
      "text/plain": [
       "<Figure size 432x288 with 1 Axes>"
      ]
     },
     "metadata": {
      "needs_background": "light"
     },
     "output_type": "display_data"
    }
   ],
   "source": [
    "sns.countplot(x = 'pc',hue='classification',data = kidney_df)"
   ]
  },
  {
   "cell_type": "markdown",
   "metadata": {
    "colab_type": "text",
    "id": "XYvCj5PdOPC_"
   },
   "source": [
    "Distribution along 'normal' category for target class is almost same.<br>\n",
    "Let's see how many null values are to be filled in each category."
   ]
  },
  {
   "cell_type": "code",
   "execution_count": 17,
   "metadata": {
    "colab": {
     "base_uri": "https://localhost:8080/",
     "height": 51
    },
    "colab_type": "code",
    "executionInfo": {
     "elapsed": 3992,
     "status": "ok",
     "timestamp": 1589721114497,
     "user": {
      "displayName": "Manish Jathan",
      "photoUrl": "",
      "userId": "05709661750372785838"
     },
     "user_tz": -330
    },
    "id": "l0N0mcePOJx0",
    "outputId": "e115a78e-41fb-4ae6-dbf9-d5a299a4c16f"
   },
   "outputs": [
    {
     "name": "stdout",
     "output_type": "stream",
     "text": [
      "Distribution of pc NAN values wrt to ckd :  56\n",
      "Distribution of pc NAN values wrt to notckd :  9\n"
     ]
    }
   ],
   "source": [
    "print(\"Distribution of pc NAN values wrt to ckd : \",len(kidney_df.loc[(kidney_df['classification'] == 'ckd') & (kidney_df['pc'].isnull())]['pc']))\n",
    "print(\"Distribution of pc NAN values wrt to notckd : \",len(kidney_df.loc[(kidney_df['classification'] == 'notckd') & (kidney_df['pc'].isnull())]['pc']))"
   ]
  },
  {
   "cell_type": "code",
   "execution_count": 18,
   "metadata": {
    "colab": {
     "base_uri": "https://localhost:8080/",
     "height": 68
    },
    "colab_type": "code",
    "executionInfo": {
     "elapsed": 3957,
     "status": "ok",
     "timestamp": 1589721114497,
     "user": {
      "displayName": "Manish Jathan",
      "photoUrl": "",
      "userId": "05709661750372785838"
     },
     "user_tz": -330
    },
    "id": "50Qld5NkPSu1",
    "outputId": "382888f6-5a97-4df8-a2d1-1cc3a94032d2"
   },
   "outputs": [
    {
     "data": {
      "text/plain": [
       "normal      259\n",
       "abnormal     76\n",
       "Name: pc, dtype: int64"
      ]
     },
     "execution_count": 18,
     "metadata": {},
     "output_type": "execute_result"
    }
   ],
   "source": [
    "kidney_df['pc'].value_counts()"
   ]
  },
  {
   "cell_type": "code",
   "execution_count": 19,
   "metadata": {
    "colab": {
     "base_uri": "https://localhost:8080/",
     "height": 68
    },
    "colab_type": "code",
    "executionInfo": {
     "elapsed": 3938,
     "status": "ok",
     "timestamp": 1589721114498,
     "user": {
      "displayName": "Manish Jathan",
      "photoUrl": "",
      "userId": "05709661750372785838"
     },
     "user_tz": -330
    },
    "id": "MXtB5LOzP_FY",
    "outputId": "b27d4ea1-89d7-4224-938a-d389edf105a9"
   },
   "outputs": [
    {
     "data": {
      "text/plain": [
       "0.0    259\n",
       "1.0     76\n",
       "Name: pc, dtype: int64"
      ]
     },
     "execution_count": 19,
     "metadata": {},
     "output_type": "execute_result"
    }
   ],
   "source": [
    "# Replacing abnormal category by 1 \n",
    "# Replacing normal category by 0\n",
    "kidney_df['pc'].replace('abnormal',1,inplace = True)\n",
    "kidney_df['pc'].replace('normal',0,inplace = True)\n",
    "kidney_df['pc'].value_counts()"
   ]
  },
  {
   "cell_type": "code",
   "execution_count": 20,
   "metadata": {
    "colab": {
     "base_uri": "https://localhost:8080/",
     "height": 272
    },
    "colab_type": "code",
    "executionInfo": {
     "elapsed": 3921,
     "status": "ok",
     "timestamp": 1589721114499,
     "user": {
      "displayName": "Manish Jathan",
      "photoUrl": "",
      "userId": "05709661750372785838"
     },
     "user_tz": -330
    },
    "id": "Q9ZlCOKBXWUn",
    "outputId": "5ab03514-ac61-45e5-bab4-0a271796f56e"
   },
   "outputs": [
    {
     "data": {
      "text/plain": [
       "id      0.411358\n",
       "age     0.150867\n",
       "bp      0.189310\n",
       "sg      0.374407\n",
       "al      0.558535\n",
       "su      0.202815\n",
       "rbc     0.202291\n",
       "pc      1.000000\n",
       "bgr     0.329612\n",
       "bu      0.435700\n",
       "sc      0.356734\n",
       "sod     0.358833\n",
       "pot     0.185211\n",
       "hemo    0.541903\n",
       "Name: pc, dtype: float64"
      ]
     },
     "execution_count": 20,
     "metadata": {},
     "output_type": "execute_result"
    }
   ],
   "source": [
    "abs(kidney_df.corr()['pc'])"
   ]
  },
  {
   "cell_type": "markdown",
   "metadata": {
    "colab_type": "text",
    "id": "CCtUHzX-XqPQ"
   },
   "source": [
    "Here albumin and hemoglobin show some decent correlation with pc.<br>\n",
    "Let's use that to decide upon the values to fill for pc."
   ]
  },
  {
   "cell_type": "code",
   "execution_count": 21,
   "metadata": {
    "colab": {
     "base_uri": "https://localhost:8080/",
     "height": 652
    },
    "colab_type": "code",
    "executionInfo": {
     "elapsed": 8986,
     "status": "ok",
     "timestamp": 1589721119600,
     "user": {
      "displayName": "Manish Jathan",
      "photoUrl": "",
      "userId": "05709661750372785838"
     },
     "user_tz": -330
    },
    "id": "Fe6TjWCdXiwc",
    "outputId": "b6a29b80-0e71-4771-a33d-dc7177bb1864"
   },
   "outputs": [
    {
     "name": "stderr",
     "output_type": "stream",
     "text": [
      "C:\\Users\\capiot\\anaconda3\\lib\\site-packages\\seaborn\\distributions.py:288: UserWarning: Data must have variance to compute a kernel density estimate.\n",
      "  warnings.warn(msg, UserWarning)\n",
      "C:\\Users\\capiot\\anaconda3\\lib\\site-packages\\seaborn\\distributions.py:288: UserWarning: Data must have variance to compute a kernel density estimate.\n",
      "  warnings.warn(msg, UserWarning)\n"
     ]
    },
    {
     "data": {
      "text/plain": [
       "<seaborn.axisgrid.PairGrid at 0x2e2033ae988>"
      ]
     },
     "execution_count": 21,
     "metadata": {},
     "output_type": "execute_result"
    },
    {
     "data": {
      "image/png": "[encoded data removed]",
      "text/plain": [
       "<Figure size 613.125x540 with 12 Axes>"
      ]
     },
     "metadata": {
      "needs_background": "light"
     },
     "output_type": "display_data"
    }
   ],
   "source": [
    "sns.pairplot(kidney_df[['al','hemo','pc','classification']],hue = 'classification')"
   ]
  },
  {
   "cell_type": "code",
   "execution_count": 22,
   "metadata": {
    "colab": {
     "base_uri": "https://localhost:8080/",
     "height": 282
    },
    "colab_type": "code",
    "executionInfo": {
     "elapsed": 8967,
     "status": "ok",
     "timestamp": 1589721119601,
     "user": {
      "displayName": "Manish Jathan",
      "photoUrl": "",
      "userId": "05709661750372785838"
     },
     "user_tz": -330
    },
    "id": "z321uPcqYEgG",
    "outputId": "4a4fbedc-5c67-4edc-c1f4-8bcf2f117909"
   },
   "outputs": [
    {
     "data": {
      "text/plain": [
       "<matplotlib.axes._subplots.AxesSubplot at 0x2e203ed8e08>"
      ]
     },
     "execution_count": 22,
     "metadata": {},
     "output_type": "execute_result"
    },
    {
     "data": {
      "image/png": "[encoded data removed]",
      "text/plain": [
       "<Figure size 432x288 with 1 Axes>"
      ]
     },
     "metadata": {
      "needs_background": "light"
     },
     "output_type": "display_data"
    }
   ],
   "source": [
    "sns.kdeplot(kidney_df[(kidney_df['classification'] == 'ckd')]['hemo'],label='class = ckd')\n",
    "sns.kdeplot(kidney_df[(kidney_df['classification'] == 'notckd')]['hemo'],label = 'class = notckd')"
   ]
  },
  {
   "cell_type": "code",
   "execution_count": 23,
   "metadata": {
    "colab": {},
    "colab_type": "code",
    "id": "3yHpslcAbMWk"
   },
   "outputs": [],
   "source": [
    "q_hemo_ckd = np.percentile(kidney_df[(kidney_df['classification'] == 'ckd') & ~(kidney_df['hemo'].isnull())]['hemo'],q =[0,100])\n",
    "q_hemo_notckd = np.percentile(kidney_df[(kidney_df['classification'] == 'notckd') & ~(kidney_df['hemo'].isnull())]['hemo'],q =[0,100])"
   ]
  },
  {
   "cell_type": "code",
   "execution_count": 24,
   "metadata": {
    "colab": {
     "base_uri": "https://localhost:8080/",
     "height": 34
    },
    "colab_type": "code",
    "executionInfo": {
     "elapsed": 8941,
     "status": "ok",
     "timestamp": 1589721119602,
     "user": {
      "displayName": "Manish Jathan",
      "photoUrl": "",
      "userId": "05709661750372785838"
     },
     "user_tz": -330
    },
    "id": "CXTAdz_hc3W4",
    "outputId": "329f1c97-f084-4f89-e06f-91701b48cda2"
   },
   "outputs": [
    {
     "name": "stdout",
     "output_type": "stream",
     "text": [
      "Range of values for hemo when class = notckd :  [13.  17.8]\n"
     ]
    }
   ],
   "source": [
    "print(\"Range of values for hemo when class = notckd : \",q_hemo_notckd)"
   ]
  },
  {
   "cell_type": "code",
   "execution_count": 25,
   "metadata": {
    "colab": {},
    "colab_type": "code",
    "id": "WWGRiQkidAQy"
   },
   "outputs": [],
   "source": [
    "q_al_ckd = np.percentile(kidney_df[(kidney_df['classification'] == 'ckd') & ~(kidney_df['al'].isnull())]['al'],q =[0,100])\n",
    "q_al_notckd = np.percentile(kidney_df[(kidney_df['classification'] == 'notckd') & ~(kidney_df['al'].isnull())]['al'],q =[0,100])"
   ]
  },
  {
   "cell_type": "code",
   "execution_count": 26,
   "metadata": {
    "colab": {
     "base_uri": "https://localhost:8080/",
     "height": 34
    },
    "colab_type": "code",
    "executionInfo": {
     "elapsed": 8912,
     "status": "ok",
     "timestamp": 1589721119603,
     "user": {
      "displayName": "Manish Jathan",
      "photoUrl": "",
      "userId": "05709661750372785838"
     },
     "user_tz": -330
    },
    "id": "YIkXz4GYfE3R",
    "outputId": "d79ff2dc-d134-41e2-b79f-4666a2862a1f"
   },
   "outputs": [
    {
     "name": "stdout",
     "output_type": "stream",
     "text": [
      "Range of values for Albumin when class = notckd :  [0. 0.]\n"
     ]
    }
   ],
   "source": [
    "print(\"Range of values for Albumin when class = notckd : \",q_al_notckd)"
   ]
  },
  {
   "cell_type": "markdown",
   "metadata": {
    "colab_type": "text",
    "id": "-iffSS3rfgCz"
   },
   "source": [
    "So from above thing we can infer certain boundaries using which we can set the category of pc"
   ]
  },
  {
   "cell_type": "code",
   "execution_count": 27,
   "metadata": {
    "colab": {
     "base_uri": "https://localhost:8080/",
     "height": 68
    },
    "colab_type": "code",
    "executionInfo": {
     "elapsed": 8906,
     "status": "ok",
     "timestamp": 1589721119604,
     "user": {
      "displayName": "Manish Jathan",
      "photoUrl": "",
      "userId": "05709661750372785838"
     },
     "user_tz": -330
    },
    "id": "wCd7R8bXfcls",
    "outputId": "fc82c68a-8554-4d86-e582-036387d857f2"
   },
   "outputs": [
    {
     "name": "stdout",
     "output_type": "stream",
     "text": [
      "Total values satisfying the condition :  139\n",
      "Null values from the above count :  9\n",
      "Total values to be replaced in the above null values :  5\n"
     ]
    }
   ],
   "source": [
    "# Replacing np.nan's according to notckd category \n",
    "print(\"Total values satisfying the condition : \",len(kidney_df.loc[(kidney_df['classification'] == 'notckd') & (kidney_df['al']==0.0) & (kidney_df['hemo'] >= 13) & (kidney_df['hemo'] <= 17.8)]['pc']))\n",
    "print(\"Null values from the above count : \",len(kidney_df.loc[(kidney_df['classification'] == 'notckd') & (kidney_df['pc'].isnull())]['pc']))\n",
    "print(\"Total values to be replaced in the above null values : \",len(kidney_df.loc[(kidney_df['classification'] == 'notckd') & (kidney_df['al']==0.0) & (kidney_df['hemo'] >= 13) & (kidney_df['hemo'] <= 17.8) & (kidney_df['pc'].isnull())]['pc']))"
   ]
  },
  {
   "cell_type": "code",
   "execution_count": 28,
   "metadata": {
    "colab": {},
    "colab_type": "code",
    "id": "q0FZLhUUhwJc"
   },
   "outputs": [],
   "source": [
    "#Five values are replaced by 0 i.e normal\n",
    "kidney_df.loc[(kidney_df['classification'] == 'notckd') & (kidney_df['al']==0.0) & (kidney_df['hemo'] >= 13) & (kidney_df['hemo'] <= 17.8) & (kidney_df['pc'].isnull()),'pc'] = 0"
   ]
  },
  {
   "cell_type": "code",
   "execution_count": 29,
   "metadata": {
    "colab": {},
    "colab_type": "code",
    "id": "cpyKQgrNklv1"
   },
   "outputs": [],
   "source": [
    "kidney_df.loc[(kidney_df['classification'] == 'notckd') & (kidney_df['pc'].isnull()),'pc'] = 1"
   ]
  },
  {
   "cell_type": "code",
   "execution_count": 30,
   "metadata": {
    "colab": {
     "base_uri": "https://localhost:8080/",
     "height": 68
    },
    "colab_type": "code",
    "executionInfo": {
     "elapsed": 8870,
     "status": "ok",
     "timestamp": 1589721119606,
     "user": {
      "displayName": "Manish Jathan",
      "photoUrl": "",
      "userId": "05709661750372785838"
     },
     "user_tz": -330
    },
    "id": "F46p7YPVksD-",
    "outputId": "a46a6d38-a4f9-4c96-ccb5-e449c977587e"
   },
   "outputs": [
    {
     "data": {
      "text/plain": [
       "0.0    264\n",
       "1.0     80\n",
       "Name: pc, dtype: int64"
      ]
     },
     "execution_count": 30,
     "metadata": {},
     "output_type": "execute_result"
    }
   ],
   "source": [
    "kidney_df['pc'].value_counts()"
   ]
  },
  {
   "cell_type": "code",
   "execution_count": 31,
   "metadata": {
    "colab": {
     "base_uri": "https://localhost:8080/",
     "height": 34
    },
    "colab_type": "code",
    "executionInfo": {
     "elapsed": 8850,
     "status": "ok",
     "timestamp": 1589721119608,
     "user": {
      "displayName": "Manish Jathan",
      "photoUrl": "",
      "userId": "05709661750372785838"
     },
     "user_tz": -330
    },
    "id": "qAnOzR8BltoC",
    "outputId": "b0811c86-a850-4c0a-b3c7-ce50732761af"
   },
   "outputs": [
    {
     "data": {
      "text/plain": [
       "56"
      ]
     },
     "execution_count": 31,
     "metadata": {},
     "output_type": "execute_result"
    }
   ],
   "source": [
    "kidney_df['pc'].isnull().sum()"
   ]
  },
  {
   "cell_type": "code",
   "execution_count": 32,
   "metadata": {
    "colab": {},
    "colab_type": "code",
    "id": "nXn4o1ucl_wm"
   },
   "outputs": [],
   "source": [
    "kidney_df.loc[(kidney_df['classification'] == 'ckd') & (kidney_df['pc'].isnull()),'pc'] = 1"
   ]
  },
  {
   "cell_type": "code",
   "execution_count": 33,
   "metadata": {
    "colab": {
     "base_uri": "https://localhost:8080/",
     "height": 68
    },
    "colab_type": "code",
    "executionInfo": {
     "elapsed": 8835,
     "status": "ok",
     "timestamp": 1589721119609,
     "user": {
      "displayName": "Manish Jathan",
      "photoUrl": "",
      "userId": "05709661750372785838"
     },
     "user_tz": -330
    },
    "id": "hyCZHJ07mVlR",
    "outputId": "b547a98b-c5d3-475e-f51d-0b88a81427cf"
   },
   "outputs": [
    {
     "data": {
      "text/plain": [
       "0.0    264\n",
       "1.0    136\n",
       "Name: pc, dtype: int64"
      ]
     },
     "execution_count": 33,
     "metadata": {},
     "output_type": "execute_result"
    }
   ],
   "source": [
    "kidney_df['pc'].value_counts()"
   ]
  },
  {
   "cell_type": "code",
   "execution_count": 34,
   "metadata": {
    "colab": {},
    "colab_type": "code",
    "id": "PDwwxLycmjCN"
   },
   "outputs": [],
   "source": [
    "## So the original dataframe with null values in numeric column was not replaced my median value\n",
    "##  Doing that now\n",
    "med_repl_cols = kidney_median_df.isnull().sum()[kidney_median_df.isnull().sum() == 0].index\n",
    "for col in med_repl_cols:\n",
    "    if col != 'classification':\n",
    "      kidney_df[col] = kidney_median_df[col]"
   ]
  },
  {
   "cell_type": "markdown",
   "metadata": {
    "colab_type": "text",
    "id": "nedF6WKb_rkD"
   },
   "source": [
    "## Replacing null values of pcv"
   ]
  },
  {
   "cell_type": "code",
   "execution_count": 35,
   "metadata": {
    "colab": {
     "base_uri": "https://localhost:8080/",
     "height": 34
    },
    "colab_type": "code",
    "executionInfo": {
     "elapsed": 8803,
     "status": "ok",
     "timestamp": 1589721119610,
     "user": {
      "displayName": "Manish Jathan",
      "photoUrl": "",
      "userId": "05709661750372785838"
     },
     "user_tz": -330
    },
    "id": "a96EjeL_mvSY",
    "outputId": "a8a734d2-f890-4d95-90e3-aa420b7eceea"
   },
   "outputs": [
    {
     "name": "stdout",
     "output_type": "stream",
     "text": [
      "Max occurence value :  52\n"
     ]
    }
   ],
   "source": [
    "max_val = kidney_df['pcv'].value_counts().index[0]\n",
    "print(\"Max occurence value : \",max_val)\n",
    "kidney_df['pcv'].replace('\\t?',max_val,inplace = True)\n",
    "kidney_df['pcv'].replace('\\t43',max_val,inplace = True)"
   ]
  },
  {
   "cell_type": "code",
   "execution_count": 36,
   "metadata": {
    "colab": {},
    "colab_type": "code",
    "id": "lS2cfWhrAM9R"
   },
   "outputs": [],
   "source": [
    "## Due to float nan values in the column it was difficult to change the data type of column\n",
    "## which could be eventually done by replacing all np.nan by 0 \n",
    "## and then changing the data type of the column\n",
    "kidney_df['pcv'].replace(np.nan,0,inplace = True)\n",
    "kidney_df['pcv'] = kidney_df['pcv'].astype(int)"
   ]
  },
  {
   "cell_type": "code",
   "execution_count": 37,
   "metadata": {
    "colab": {
     "base_uri": "https://localhost:8080/",
     "height": 282
    },
    "colab_type": "code",
    "executionInfo": {
     "elapsed": 8770,
     "status": "ok",
     "timestamp": 1589721119611,
     "user": {
      "displayName": "Manish Jathan",
      "photoUrl": "",
      "userId": "05709661750372785838"
     },
     "user_tz": -330
    },
    "id": "BVgrpkKzBHFA",
    "outputId": "f081cb86-ad4b-44e3-c249-2de4a5074980"
   },
   "outputs": [
    {
     "data": {
      "text/plain": [
       "<matplotlib.axes._subplots.AxesSubplot at 0x2e2045566c8>"
      ]
     },
     "execution_count": 37,
     "metadata": {},
     "output_type": "execute_result"
    },
    {
     "data": {
      "image/png": "[encoded data removed]",
      "text/plain": [
       "<Figure size 432x288 with 1 Axes>"
      ]
     },
     "metadata": {
      "needs_background": "light"
     },
     "output_type": "display_data"
    }
   ],
   "source": [
    "sns.kdeplot(kidney_df[(kidney_df['classification'] == 'ckd')]['pcv'],label='class = ckd')\n",
    "sns.kdeplot(kidney_df[(kidney_df['classification'] == 'notckd')]['pcv'],label = 'class = notckd')"
   ]
  },
  {
   "cell_type": "code",
   "execution_count": 38,
   "metadata": {
    "colab": {},
    "colab_type": "code",
    "id": "e1dQ3PR_FRrT"
   },
   "outputs": [],
   "source": [
    "## Let's do some simple replacement over here\n",
    "## Based on the above kde plot it is evident that we can replace notckd's with median value of pcv in that range of 40-60\n",
    "## And replace ckd's with it's group median value\n",
    "notckd_med_val = int(kidney_df[(kidney_df['classification'] == 'notckd') & (kidney_df['pcv'] != 0)]['pcv'].median())\n",
    "ckd_med_val = int(kidney_df[(kidney_df['classification'] == 'ckd') & (kidney_df['pcv'] != 0)]['pcv'].median())\n",
    "\n",
    "kidney_df.loc[(kidney_df['classification'] == 'notckd') & (kidney_df['pcv'] == 0),'pcv'] = notckd_med_val\n",
    "kidney_df.loc[(kidney_df['classification'] == 'ckd') & (kidney_df['pcv'] == 0),'pcv'] = ckd_med_val"
   ]
  },
  {
   "cell_type": "markdown",
   "metadata": {
    "colab_type": "text",
    "id": "jhTLS-zjMNWg"
   },
   "source": [
    "## Imputing null values in wc"
   ]
  },
  {
   "cell_type": "code",
   "execution_count": 39,
   "metadata": {
    "colab": {
     "base_uri": "https://localhost:8080/",
     "height": 34
    },
    "colab_type": "code",
    "executionInfo": {
     "elapsed": 8758,
     "status": "ok",
     "timestamp": 1589721119613,
     "user": {
      "displayName": "Manish Jathan",
      "photoUrl": "",
      "userId": "05709661750372785838"
     },
     "user_tz": -330
    },
    "id": "qyUqKqb3KXuf",
    "outputId": "d6e16dec-dd15-4f63-c88b-258c7cab1450"
   },
   "outputs": [
    {
     "name": "stdout",
     "output_type": "stream",
     "text": [
      "Max occurence value :  9800\n"
     ]
    }
   ],
   "source": [
    "max_val = kidney_df['wc'].value_counts().index[0]\n",
    "print(\"Max occurence value : \",max_val)\n",
    "kidney_df['wc'].replace('\\t?',max_val,inplace = True)\n",
    "kidney_df['wc'].replace('\\t43',max_val,inplace = True)"
   ]
  },
  {
   "cell_type": "code",
   "execution_count": 40,
   "metadata": {
    "colab": {},
    "colab_type": "code",
    "id": "PiRBhwrZKv0Q"
   },
   "outputs": [],
   "source": [
    "kidney_df['wc'].replace(np.nan,0,inplace = True)\n",
    "kidney_df['wc'] = kidney_df['wc'].astype(int)"
   ]
  },
  {
   "cell_type": "code",
   "execution_count": 41,
   "metadata": {
    "colab": {
     "base_uri": "https://localhost:8080/",
     "height": 282
    },
    "colab_type": "code",
    "executionInfo": {
     "elapsed": 8734,
     "status": "ok",
     "timestamp": 1589721119614,
     "user": {
      "displayName": "Manish Jathan",
      "photoUrl": "",
      "userId": "05709661750372785838"
     },
     "user_tz": -330
    },
    "id": "cd8NK42_N23J",
    "outputId": "bf908561-c46d-48da-df18-86d2b8c6417e"
   },
   "outputs": [
    {
     "data": {
      "text/plain": [
       "<matplotlib.axes._subplots.AxesSubplot at 0x2e204607748>"
      ]
     },
     "execution_count": 41,
     "metadata": {},
     "output_type": "execute_result"
    },
    {
     "data": {
      "image/png": "[encoded data removed]",
      "text/plain": [
       "<Figure size 432x288 with 1 Axes>"
      ]
     },
     "metadata": {
      "needs_background": "light"
     },
     "output_type": "display_data"
    }
   ],
   "source": [
    "sns.kdeplot(kidney_df[(kidney_df['classification'] == 'ckd') & (kidney_df['wc']!=0)]['wc'],label='class = ckd')\n",
    "sns.kdeplot(kidney_df[(kidney_df['classification'] == 'notckd') & (kidney_df['wc']!=0)]['wc'],label = 'class = notckd')"
   ]
  },
  {
   "cell_type": "code",
   "execution_count": 42,
   "metadata": {
    "colab": {},
    "colab_type": "code",
    "id": "ILubtAvdOhkW"
   },
   "outputs": [],
   "source": [
    " ## Even here we can do groupwise imputation based on categories of classification\n",
    " ## Since in certain range of values of wc it is clear that probability density of ckd is more than notckd and vice versa\n",
    "notckd_med_val = int(kidney_df[(kidney_df['classification'] == 'notckd') & (kidney_df['wc'] != 0)]['wc'].median())\n",
    "ckd_med_val = int(kidney_df[(kidney_df['classification'] == 'ckd') & (kidney_df['wc'] != 0)]['wc'].median())"
   ]
  },
  {
   "cell_type": "code",
   "execution_count": 43,
   "metadata": {
    "colab": {},
    "colab_type": "code",
    "id": "X9s_BKYoTLEO"
   },
   "outputs": [],
   "source": [
    "kidney_df.loc[(kidney_df['classification'] == 'notckd') & (kidney_df['wc'] == 0),'wc'] = notckd_med_val\n",
    "kidney_df.loc[(kidney_df['classification'] == 'ckd') & (kidney_df['wc'] == 0),'wc'] = ckd_med_val"
   ]
  },
  {
   "cell_type": "code",
   "execution_count": 44,
   "metadata": {
    "colab": {
     "base_uri": "https://localhost:8080/",
     "height": 282
    },
    "colab_type": "code",
    "executionInfo": {
     "elapsed": 9672,
     "status": "ok",
     "timestamp": 1589721120587,
     "user": {
      "displayName": "Manish Jathan",
      "photoUrl": "",
      "userId": "05709661750372785838"
     },
     "user_tz": -330
    },
    "id": "jf3CG61URfOR",
    "outputId": "a78f4251-55c2-48f2-d9aa-91a2f0608329"
   },
   "outputs": [
    {
     "data": {
      "text/plain": [
       "<matplotlib.axes._subplots.AxesSubplot at 0x2e20465ea08>"
      ]
     },
     "execution_count": 44,
     "metadata": {},
     "output_type": "execute_result"
    },
    {
     "data": {
      "image/png": "[encoded data removed]",
      "text/plain": [
       "<Figure size 432x288 with 1 Axes>"
      ]
     },
     "metadata": {
      "needs_background": "light"
     },
     "output_type": "display_data"
    }
   ],
   "source": [
    "sns.kdeplot(kidney_df[(kidney_df['classification'] == 'ckd') & (kidney_df['wc']!=0)]['wc'],label='class = ckd')\n",
    "sns.kdeplot(kidney_df[(kidney_df['classification'] == 'notckd') & (kidney_df['wc']!=0)]['wc'],label = 'class = notckd')"
   ]
  },
  {
   "cell_type": "markdown",
   "metadata": {
    "colab_type": "text",
    "id": "khWHqqocT10o"
   },
   "source": [
    "Since majority of nan values in 'wc' belong to ckd class.<br>\n",
    "After imputation there is a peak in pdf for ckd category in wc"
   ]
  },
  {
   "cell_type": "code",
   "execution_count": 45,
   "metadata": {
    "colab": {},
    "colab_type": "code",
    "id": "G8IXHzYISfrp"
   },
   "outputs": [],
   "source": [
    "## Followed similar process as that of wc & pcv\n",
    "max_val = kidney_df['rc'].value_counts().index[0]\n",
    "kidney_df['rc'].replace('\\t?',max_val,inplace = True)\n",
    "kidney_df['rc'].replace('\\t43',max_val,inplace = True)\n",
    "kidney_df['rc'].replace(np.nan,0,inplace = True)\n",
    "kidney_df['rc'] = kidney_df['rc'].astype(float)\n",
    "notckd_med_val = float(kidney_df[(kidney_df['classification'] == 'notckd') & (kidney_df['rc'] != 0)]['rc'].median())\n",
    "ckd_med_val = float(kidney_df[(kidney_df['classification'] == 'ckd') & (kidney_df['rc'] != 0)]['rc'].median())\n",
    "kidney_df.loc[(kidney_df['classification'] == 'notckd') & (kidney_df['rc'] == 0),'rc'] = notckd_med_val\n",
    "kidney_df.loc[(kidney_df['classification'] == 'ckd') & (kidney_df['rc'] == 0),'rc'] = ckd_med_val"
   ]
  },
  {
   "cell_type": "code",
   "execution_count": 46,
   "metadata": {},
   "outputs": [
    {
     "data": {
      "text/plain": [
       "array([5.2, 3.9, 4.6, 4.4, 5. , 4. , 3.7, 3.8, 3.4, 2.6, 2.8, 4.3, 3.2,\n",
       "       3.6, 4.1, 4.9, 2.5, 4.2, 4.5, 3.1, 4.7, 3.5, 6. , 2.1, 5.6, 2.3,\n",
       "       2.9, 2.7, 8. , 3.3, 3. , 2.4, 4.8, 5.4, 6.1, 6.2, 6.3, 5.1, 5.8,\n",
       "       5.5, 5.3, 6.4, 5.7, 5.9, 6.5])"
      ]
     },
     "execution_count": 46,
     "metadata": {},
     "output_type": "execute_result"
    }
   ],
   "source": [
    "kidney_df['rc'].unique()"
   ]
  },
  {
   "cell_type": "code",
   "execution_count": 47,
   "metadata": {},
   "outputs": [
    {
     "data": {
      "text/plain": [
       "dtype('float64')"
      ]
     },
     "execution_count": 47,
     "metadata": {},
     "output_type": "execute_result"
    }
   ],
   "source": [
    "(kidney_df['rc']).dtype"
   ]
  },
  {
   "cell_type": "code",
   "execution_count": 48,
   "metadata": {
    "colab": {
     "base_uri": "https://localhost:8080/",
     "height": 34
    },
    "colab_type": "code",
    "executionInfo": {
     "elapsed": 9647,
     "status": "ok",
     "timestamp": 1589721120591,
     "user": {
      "displayName": "Manish Jathan",
      "photoUrl": "",
      "userId": "05709661750372785838"
     },
     "user_tz": -330
    },
    "id": "j2yFQVzRWZgT",
    "outputId": "fcc8534e-cf78-41ec-c003-186e424ac1df"
   },
   "outputs": [
    {
     "name": "stdout",
     "output_type": "stream",
     "text": [
      "Category columns left to be imputed :  ['pcc', 'ba', 'htn', 'dm', 'cad', 'appet', 'pe', 'ane']\n"
     ]
    }
   ],
   "source": [
    "cat_cols = kidney_df.columns[kidney_df.isna().any()].tolist()\n",
    "print(\"Category columns left to be imputed : \",cat_cols)"
   ]
  },
  {
   "cell_type": "code",
   "execution_count": 49,
   "metadata": {
    "colab": {},
    "colab_type": "code",
    "id": "k9Z8Dme7Yid_"
   },
   "outputs": [],
   "source": [
    "## All of this columns are category values and contain a very less number of missing values\n",
    "## Maximum upto 4 missing values\n",
    "## So here I'm going to replace them with max occuring category in their column"
   ]
  },
  {
   "cell_type": "code",
   "execution_count": 50,
   "metadata": {
    "colab": {
     "base_uri": "https://localhost:8080/",
     "height": 153
    },
    "colab_type": "code",
    "executionInfo": {
     "elapsed": 9633,
     "status": "ok",
     "timestamp": 1589721120592,
     "user": {
      "displayName": "Manish Jathan",
      "photoUrl": "",
      "userId": "05709661750372785838"
     },
     "user_tz": -330
    },
    "id": "dkRW48iLZhIP",
    "outputId": "4612e2ef-0dc0-4bfa-fe68-4af3b39d41bb"
   },
   "outputs": [
    {
     "name": "stdout",
     "output_type": "stream",
     "text": [
      "Max occuring category in  pcc  :  notpresent || count :  354\n",
      "Max occuring category in  ba  :  notpresent || count :  374\n",
      "Max occuring category in  htn  :  no || count :  251\n",
      "Max occuring category in  dm  :  no || count :  258\n",
      "Max occuring category in  cad  :  no || count :  362\n",
      "Max occuring category in  appet  :  good || count :  317\n",
      "Max occuring category in  pe  :  no || count :  323\n",
      "Max occuring category in  ane  :  no || count :  339\n"
     ]
    }
   ],
   "source": [
    "for col in cat_cols:\n",
    "  print(\"Max occuring category in \",col,\" : \",kidney_df[col].value_counts().index[0],\"|| count : \",kidney_df[col].value_counts()[0])\n",
    "\n",
    "  kidney_df.loc[kidney_df[col].isnull(),col] = kidney_df[col].value_counts().index[0]"
   ]
  },
  {
   "cell_type": "code",
   "execution_count": 51,
   "metadata": {
    "colab": {
     "base_uri": "https://localhost:8080/",
     "height": 476
    },
    "colab_type": "code",
    "executionInfo": {
     "elapsed": 9622,
     "status": "ok",
     "timestamp": 1589721120593,
     "user": {
      "displayName": "Manish Jathan",
      "photoUrl": "",
      "userId": "05709661750372785838"
     },
     "user_tz": -330
    },
    "id": "Y9O16rBxZqzj",
    "outputId": "0f4c0c52-1d85-4b34-d1e0-d211f584dd71"
   },
   "outputs": [
    {
     "data": {
      "text/plain": [
       "id                False\n",
       "age               False\n",
       "bp                False\n",
       "sg                False\n",
       "al                False\n",
       "su                False\n",
       "rbc               False\n",
       "pc                False\n",
       "pcc               False\n",
       "ba                False\n",
       "bgr               False\n",
       "bu                False\n",
       "sc                False\n",
       "sod               False\n",
       "pot               False\n",
       "hemo              False\n",
       "pcv               False\n",
       "wc                False\n",
       "rc                False\n",
       "htn               False\n",
       "dm                False\n",
       "cad               False\n",
       "appet             False\n",
       "pe                False\n",
       "ane               False\n",
       "classification    False\n",
       "dtype: bool"
      ]
     },
     "execution_count": 51,
     "metadata": {},
     "output_type": "execute_result"
    }
   ],
   "source": [
    "## Check if any imputation is left or not\n",
    "kidney_df.isna().any()"
   ]
  },
  {
   "cell_type": "markdown",
   "metadata": {
    "colab_type": "text",
    "id": "ppIYzZBlbZ7F"
   },
   "source": [
    "Okay, so here we complete our imputation process and have finished the data preprocessing part.<br>\n",
    "Savind the Preprocessed dataFrame so that it can be later used for EDA and Feature Engineering."
   ]
  },
  {
   "cell_type": "code",
   "execution_count": 52,
   "metadata": {},
   "outputs": [],
   "source": [
    "import pickle"
   ]
  },
  {
   "cell_type": "code",
   "execution_count": 53,
   "metadata": {},
   "outputs": [],
   "source": [
    "sampleFile = open('imputed_df','wb')\n",
    "pickle.dump(kidney_df,sampleFile)\n",
    "sampleFile.close()"
   ]
  },
  {
   "cell_type": "code",
   "execution_count": 54,
   "metadata": {},
   "outputs": [
    {
     "data": {
      "text/html": [
       "<div>\n",
       "<style scoped>\n",
       "    .dataframe tbody tr th:only-of-type {\n",
       "        vertical-align: middle;\n",
       "    }\n",
       "\n",
       "    .dataframe tbody tr th {\n",
       "        vertical-align: top;\n",
       "    }\n",
       "\n",
       "    .dataframe thead th {\n",
       "        text-align: right;\n",
       "    }\n",
       "</style>\n",
       "<table border=\"1\" class=\"dataframe\">\n",
       "  <thead>\n",
       "    <tr style=\"text-align: right;\">\n",
       "      <th></th>\n",
       "      <th>id</th>\n",
       "      <th>age</th>\n",
       "      <th>bp</th>\n",
       "      <th>sg</th>\n",
       "      <th>al</th>\n",
       "      <th>su</th>\n",
       "      <th>rbc</th>\n",
       "      <th>pc</th>\n",
       "      <th>pcc</th>\n",
       "      <th>ba</th>\n",
       "      <th>...</th>\n",
       "      <th>pcv</th>\n",
       "      <th>wc</th>\n",
       "      <th>rc</th>\n",
       "      <th>htn</th>\n",
       "      <th>dm</th>\n",
       "      <th>cad</th>\n",
       "      <th>appet</th>\n",
       "      <th>pe</th>\n",
       "      <th>ane</th>\n",
       "      <th>classification</th>\n",
       "    </tr>\n",
       "  </thead>\n",
       "  <tbody>\n",
       "    <tr>\n",
       "      <th>0</th>\n",
       "      <td>0</td>\n",
       "      <td>48.0</td>\n",
       "      <td>80.0</td>\n",
       "      <td>1.020</td>\n",
       "      <td>1.0</td>\n",
       "      <td>0.0</td>\n",
       "      <td>1</td>\n",
       "      <td>0.0</td>\n",
       "      <td>notpresent</td>\n",
       "      <td>notpresent</td>\n",
       "      <td>...</td>\n",
       "      <td>44</td>\n",
       "      <td>7800</td>\n",
       "      <td>5.2</td>\n",
       "      <td>yes</td>\n",
       "      <td>yes</td>\n",
       "      <td>no</td>\n",
       "      <td>good</td>\n",
       "      <td>no</td>\n",
       "      <td>no</td>\n",
       "      <td>ckd</td>\n",
       "    </tr>\n",
       "    <tr>\n",
       "      <th>1</th>\n",
       "      <td>1</td>\n",
       "      <td>7.0</td>\n",
       "      <td>50.0</td>\n",
       "      <td>1.020</td>\n",
       "      <td>4.0</td>\n",
       "      <td>0.0</td>\n",
       "      <td>1</td>\n",
       "      <td>0.0</td>\n",
       "      <td>notpresent</td>\n",
       "      <td>notpresent</td>\n",
       "      <td>...</td>\n",
       "      <td>38</td>\n",
       "      <td>6000</td>\n",
       "      <td>3.9</td>\n",
       "      <td>no</td>\n",
       "      <td>no</td>\n",
       "      <td>no</td>\n",
       "      <td>good</td>\n",
       "      <td>no</td>\n",
       "      <td>no</td>\n",
       "      <td>ckd</td>\n",
       "    </tr>\n",
       "    <tr>\n",
       "      <th>2</th>\n",
       "      <td>2</td>\n",
       "      <td>62.0</td>\n",
       "      <td>80.0</td>\n",
       "      <td>1.010</td>\n",
       "      <td>2.0</td>\n",
       "      <td>3.0</td>\n",
       "      <td>0</td>\n",
       "      <td>0.0</td>\n",
       "      <td>notpresent</td>\n",
       "      <td>notpresent</td>\n",
       "      <td>...</td>\n",
       "      <td>31</td>\n",
       "      <td>7500</td>\n",
       "      <td>3.9</td>\n",
       "      <td>no</td>\n",
       "      <td>yes</td>\n",
       "      <td>no</td>\n",
       "      <td>poor</td>\n",
       "      <td>no</td>\n",
       "      <td>yes</td>\n",
       "      <td>ckd</td>\n",
       "    </tr>\n",
       "    <tr>\n",
       "      <th>3</th>\n",
       "      <td>3</td>\n",
       "      <td>48.0</td>\n",
       "      <td>70.0</td>\n",
       "      <td>1.005</td>\n",
       "      <td>4.0</td>\n",
       "      <td>0.0</td>\n",
       "      <td>0</td>\n",
       "      <td>1.0</td>\n",
       "      <td>present</td>\n",
       "      <td>notpresent</td>\n",
       "      <td>...</td>\n",
       "      <td>32</td>\n",
       "      <td>6700</td>\n",
       "      <td>3.9</td>\n",
       "      <td>yes</td>\n",
       "      <td>no</td>\n",
       "      <td>no</td>\n",
       "      <td>poor</td>\n",
       "      <td>yes</td>\n",
       "      <td>yes</td>\n",
       "      <td>ckd</td>\n",
       "    </tr>\n",
       "    <tr>\n",
       "      <th>4</th>\n",
       "      <td>4</td>\n",
       "      <td>51.0</td>\n",
       "      <td>80.0</td>\n",
       "      <td>1.010</td>\n",
       "      <td>2.0</td>\n",
       "      <td>0.0</td>\n",
       "      <td>0</td>\n",
       "      <td>0.0</td>\n",
       "      <td>notpresent</td>\n",
       "      <td>notpresent</td>\n",
       "      <td>...</td>\n",
       "      <td>35</td>\n",
       "      <td>7300</td>\n",
       "      <td>4.6</td>\n",
       "      <td>no</td>\n",
       "      <td>no</td>\n",
       "      <td>no</td>\n",
       "      <td>good</td>\n",
       "      <td>no</td>\n",
       "      <td>no</td>\n",
       "      <td>ckd</td>\n",
       "    </tr>\n",
       "  </tbody>\n",
       "</table>\n",
       "<p>5 rows × 26 columns</p>\n",
       "</div>"
      ],
      "text/plain": [
       "   id   age    bp     sg   al   su  rbc   pc         pcc          ba  ...  \\\n",
       "0   0  48.0  80.0  1.020  1.0  0.0    1  0.0  notpresent  notpresent  ...   \n",
       "1   1   7.0  50.0  1.020  4.0  0.0    1  0.0  notpresent  notpresent  ...   \n",
       "2   2  62.0  80.0  1.010  2.0  3.0    0  0.0  notpresent  notpresent  ...   \n",
       "3   3  48.0  70.0  1.005  4.0  0.0    0  1.0     present  notpresent  ...   \n",
       "4   4  51.0  80.0  1.010  2.0  0.0    0  0.0  notpresent  notpresent  ...   \n",
       "\n",
       "   pcv    wc   rc  htn   dm  cad  appet   pe  ane classification  \n",
       "0   44  7800  5.2  yes  yes   no   good   no   no            ckd  \n",
       "1   38  6000  3.9   no   no   no   good   no   no            ckd  \n",
       "2   31  7500  3.9   no  yes   no   poor   no  yes            ckd  \n",
       "3   32  6700  3.9  yes   no   no   poor  yes  yes            ckd  \n",
       "4   35  7300  4.6   no   no   no   good   no   no            ckd  \n",
       "\n",
       "[5 rows x 26 columns]"
      ]
     },
     "execution_count": 54,
     "metadata": {},
     "output_type": "execute_result"
    }
   ],
   "source": [
    "sampleFile = open(\"imputed_df\",\"rb\")\n",
    "imputed_df = pickle.load(sampleFile)\n",
    "sampleFile.close\n",
    "imputed_df.head(5)"
   ]
  },
  {
   "cell_type": "code",
   "execution_count": 55,
   "metadata": {},
   "outputs": [
    {
     "name": "stdout",
     "output_type": "stream",
     "text": [
      "Requirement already satisfied: nbconvert in c:\\users\\capiot\\anaconda3\\lib\\site-packages (5.6.1)\n",
      "Requirement already satisfied: pygments in c:\\users\\capiot\\anaconda3\\lib\\site-packages (from nbconvert) (2.5.2)\n",
      "Requirement already satisfied: jupyter-core in c:\\users\\capiot\\anaconda3\\lib\\site-packages (from nbconvert) (4.6.1)\n",
      "Requirement already satisfied: nbformat>=4.4 in c:\\users\\capiot\\anaconda3\\lib\\site-packages (from nbconvert) (5.0.4)\n",
      "Requirement already satisfied: pandocfilters>=1.4.1 in c:\\users\\capiot\\anaconda3\\lib\\site-packages (from nbconvert) (1.4.2)\n",
      "Requirement already satisfied: traitlets>=4.2 in c:\\users\\capiot\\anaconda3\\lib\\site-packages (from nbconvert) (4.3.3)\n",
      "Requirement already satisfied: entrypoints>=0.2.2 in c:\\users\\capiot\\anaconda3\\lib\\site-packages (from nbconvert) (0.3)\n",
      "Requirement already satisfied: jinja2>=2.4 in c:\\users\\capiot\\anaconda3\\lib\\site-packages (from nbconvert) (2.11.1)\n",
      "Requirement already satisfied: mistune<2,>=0.8.1 in c:\\users\\capiot\\anaconda3\\lib\\site-packages (from nbconvert) (0.8.4)\n",
      "Requirement already satisfied: bleach in c:\\users\\capiot\\anaconda3\\lib\\site-packages (from nbconvert) (3.1.0)\n",
      "Requirement already satisfied: testpath in c:\\users\\capiot\\anaconda3\\lib\\site-packages (from nbconvert) (0.4.4)\n",
      "Requirement already satisfied: defusedxml in c:\\users\\capiot\\anaconda3\\lib\\site-packages (from nbconvert) (0.6.0)\n",
      "Requirement already satisfied: pywin32>=1.0; sys_platform == \"win32\" in c:\\users\\capiot\\anaconda3\\lib\\site-packages (from jupyter-core->nbconvert) (227)\n",
      "Requirement already satisfied: jsonschema!=2.5.0,>=2.4 in c:\\users\\capiot\\anaconda3\\lib\\site-packages (from nbformat>=4.4->nbconvert) (3.2.0)\n",
      "Requirement already satisfied: ipython-genutils in c:\\users\\capiot\\anaconda3\\lib\\site-packages (from nbformat>=4.4->nbconvert) (0.2.0)\n",
      "Requirement already satisfied: decorator in c:\\users\\capiot\\anaconda3\\lib\\site-packages (from traitlets>=4.2->nbconvert) (4.4.1)\n",
      "Requirement already satisfied: six in c:\\users\\capiot\\anaconda3\\lib\\site-packages (from traitlets>=4.2->nbconvert) (1.14.0)\n",
      "Requirement already satisfied: MarkupSafe>=0.23 in c:\\users\\capiot\\anaconda3\\lib\\site-packages (from jinja2>=2.4->nbconvert) (1.1.1)\n",
      "Requirement already satisfied: webencodings in c:\\users\\capiot\\anaconda3\\lib\\site-packages (from bleach->nbconvert) (0.5.1)\n",
      "Requirement already satisfied: setuptools in c:\\users\\capiot\\anaconda3\\lib\\site-packages (from jsonschema!=2.5.0,>=2.4->nbformat>=4.4->nbconvert) (45.2.0.post20200210)\n",
      "Requirement already satisfied: importlib-metadata; python_version < \"3.8\" in c:\\users\\capiot\\anaconda3\\lib\\site-packages (from jsonschema!=2.5.0,>=2.4->nbformat>=4.4->nbconvert) (1.5.0)\n",
      "Requirement already satisfied: attrs>=17.4.0 in c:\\users\\capiot\\anaconda3\\lib\\site-packages (from jsonschema!=2.5.0,>=2.4->nbformat>=4.4->nbconvert) (19.3.0)\n",
      "Requirement already satisfied: pyrsistent>=0.14.0 in c:\\users\\capiot\\anaconda3\\lib\\site-packages (from jsonschema!=2.5.0,>=2.4->nbformat>=4.4->nbconvert) (0.15.7)\n",
      "Requirement already satisfied: zipp>=0.5 in c:\\users\\capiot\\anaconda3\\lib\\site-packages (from importlib-metadata; python_version < \"3.8\"->jsonschema!=2.5.0,>=2.4->nbformat>=4.4->nbconvert) (2.2.0)\n",
      "Note: you may need to restart the kernel to use updated packages.\n"
     ]
    }
   ],
   "source": [
    "pip install nbconvert"
   ]
  },
  {
   "cell_type": "code",
   "execution_count": null,
   "metadata": {},
   "outputs": [],
   "source": []
  },
  {
   "cell_type": "code",
   "execution_count": null,
   "metadata": {},
   "outputs": [],
   "source": []
  }
 ],
 "metadata": {
  "colab": {
   "collapsed_sections": [],
   "name": "DataPreprocessing.ipynb",
   "provenance": []
  },
  "kernelspec": {
   "display_name": "Python 3",
   "language": "python",
   "name": "python3"
  },
  "language_info": {
   "codemirror_mode": {
    "name": "ipython",
    "version": 3
   },
   "file_extension": ".py",
   "mimetype": "text/x-python",
   "name": "python",
   "nbconvert_exporter": "python",
   "pygments_lexer": "ipython3",
   "version": "3.7.6"
  }
 },
 "nbformat": 4,
 "nbformat_minor": 1
}
